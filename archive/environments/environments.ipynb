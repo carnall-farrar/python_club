{
 "cells": [
  {
   "cell_type": "markdown",
   "id": "391f8233-57fb-4606-96d7-ce0d88dbbbaa",
   "metadata": {},
   "source": [
    "# Environments\n",
    "\n",
    "## Objectives\n",
    "\n",
    "\n",
    "1. Understand git and what it can do\n",
    "2. Recap last week\n",
    "3. Nested for loops\n",
    "4. File paths and how to read data into python environment\n",
    "5. Python packages and why we need them"
   ]
  },
  {
   "cell_type": "markdown",
   "id": "38a09ca0-9ed0-445e-b423-a0f3354976f9",
   "metadata": {},
   "source": [
    "## First git.\n",
    "\n",
    "Git was written by the author of Linux as a way of tracking the changes that were being submitted to Linux by other developers. \n",
    "\n",
    "At it's core that is all it does, it keeps a record of all the changes that have taken place and the current state of a repository (think of a repo as just a big project folder).\n",
    "\n",
    "It can be used to roll back when something is broken and it can be used to allow two developers to work on the same project without getting in each other's way.\n",
    "\n",
    "## Git Basics\n",
    "\n",
    "There are some concepts basic git concepts that will be handy for this course. \n",
    "\n",
    "We are keen that you are all able to keep all your code / notes that you have made in these projects throughout the course, but equally storing everyones notes together is tricky but not for git!\n",
    "\n",
    "When working on the same repository developers will usually open a \"branch\" which allows them to go off and break as much as they like without interfering with the main project, when they are done breaking things and want to actually contribute for a change they can ask to merge their branch into the main branch of the project (this is called a pull request). As they are going along and making their changes they will be \"committing\" their changes, this means creating a checkpoint which can be arrived back at if everything goes wrong (think of this as just saving) but the difference being that it keeps a record of the unique identifier of the save such that anyone can pick it and look at it / use it. \n",
    "\n",
    "For this course we are going to ask everyone to create their own branch of the repo in which to keep their notes. You can commit them if you like or just ignore all of this rubbish for when it is necessary. \n",
    "\n",
    "You can do this by going to the root of the repo (`cd python_club`) and running the git command `git branch <name>`. In order to pull new lessons from the repo (we are adding them as we go) you can run `git pull` from the same directory and the new lessons should be downloaded. If you get any errors then please ask and we will fix all you (git related) problems.\n",
    "\n",
    "## What you need to do\n",
    "\n",
    "- `> git checkout -b <YOUR_NAME>`\n",
    "\n",
    "- `> git config --global user.name \"name\"`\n",
    "\n",
    "- `git config --global user.email \"email\"`\n",
    "\n",
    "- `> git add .`\n",
    "\n",
    "- `> git commit -m 'lesson 1'`\n",
    "\n",
    "- `> git checkout master`\n",
    "\n",
    "- `> git pull`\n",
    "\n",
    "- `> git checkout <YOUR_NAME>`\n",
    "\n",
    "- `> git rebase master`"
   ]
  },
  {
   "cell_type": "code",
   "execution_count": 1,
   "id": "5c210097-b665-4c99-a747-5f566af7cfdb",
   "metadata": {},
   "outputs": [
    {
     "name": "stdout",
     "output_type": "stream",
     "text": [
      "dog\n",
      "cat\n",
      "anteater\n"
     ]
    }
   ],
   "source": [
    "# Recap\n",
    "\n",
    "animal_list = ['dog', 'cat', 'anteater']\n",
    "\n",
    "for animal in animal_list:\n",
    "    print(animal)"
   ]
  },
  {
   "cell_type": "markdown",
   "id": "b549b2d6-a772-43c2-a2e5-46b78148d6f5",
   "metadata": {},
   "source": [
    "For loops iterate over iterables (this is a generic term for any data type that can be iterated over). Circular this definition is. \n",
    "\n",
    "A simple rule of thumb is: if it's a list you can for loop over it."
   ]
  },
  {
   "cell_type": "code",
   "execution_count": 2,
   "id": "9ea32690-6d7a-40b7-8b13-d8915a291682",
   "metadata": {},
   "outputs": [],
   "source": [
    "# Exercise\n",
    "\n",
    "# Calculate the final value of a bank account taking the following variables.\n",
    "\n",
    "initial_amount = 100\n",
    "monthly_payments = [10, 20, 10, 20, 50, 20]\n",
    "interest = 0.15"
   ]
  },
  {
   "cell_type": "code",
   "execution_count": null,
   "id": "acf4c3be-42be-483b-acbc-888294ed50e7",
   "metadata": {},
   "outputs": [],
   "source": [
    "for payment in monthly_payments:\n",
    "    initial_amount += "
   ]
  },
  {
   "cell_type": "code",
   "execution_count": null,
   "id": "af0abe2d-17a4-4cbd-a93e-c84a444b1772",
   "metadata": {},
   "outputs": [],
   "source": [
    "x = 0\n",
    "x = x+1\n",
    "x += 1"
   ]
  },
  {
   "cell_type": "code",
   "execution_count": 1,
   "id": "5b1b2704-8263-40ab-8348-12d6fb81efe7",
   "metadata": {},
   "outputs": [
    {
     "name": "stdout",
     "output_type": "stream",
     "text": [
      "1\n",
      "2\n",
      "3\n",
      "4\n",
      "5\n",
      "6\n",
      "7\n",
      "8\n",
      "9\n",
      "10\n"
     ]
    }
   ],
   "source": [
    "counter = 0\n",
    "for x in range(10):\n",
    "    counter += 1\n",
    "    print(counter)"
   ]
  },
  {
   "cell_type": "markdown",
   "id": "026adca1-4af4-4d0c-8645-8fa7ab0d84c4",
   "metadata": {},
   "source": [
    "What if we wanted to make a table of data?\n",
    "\n",
    "A 2 dimensional list would work well for this:"
   ]
  },
  {
   "cell_type": "code",
   "execution_count": 3,
   "id": "458006f5-2069-4d91-a71f-76bb54f24351",
   "metadata": {},
   "outputs": [],
   "source": [
    "# This is a list of lists\n",
    "table = [\n",
    "    [1, 2, 3],\n",
    "    [4, 5, 6],\n",
    "    [7, 8, 9]\n",
    "]"
   ]
  },
  {
   "cell_type": "markdown",
   "id": "c29c14de-6657-4920-86db-8945ff0d10ac",
   "metadata": {},
   "source": [
    "This can be iterated over using two for loops one inside the other or nested for loops"
   ]
  },
  {
   "cell_type": "code",
   "execution_count": 4,
   "id": "5cf77965-69c1-4b49-917b-52cb457e39c2",
   "metadata": {},
   "outputs": [
    {
     "name": "stdout",
     "output_type": "stream",
     "text": [
      "[1, 2, 3]\n",
      "[4, 5, 6]\n",
      "[7, 8, 9]\n"
     ]
    }
   ],
   "source": [
    "result = 0\n",
    "for row in table:\n",
    "    for column in row:\n",
    "        print(column)"
   ]
  },
  {
   "cell_type": "code",
   "execution_count": 5,
   "id": "03b6bc05-7714-45da-a2ad-733d9f918ab1",
   "metadata": {},
   "outputs": [],
   "source": [
    "# Exercise\n",
    "\n",
    "# Can you calculate the total sum of each row? Can you write a function to calculate the sum of all the rows in any nested list?\n",
    "\n",
    "# Bonus points can you calculate total sum of each column? "
   ]
  },
  {
   "cell_type": "code",
   "execution_count": 6,
   "id": "59298246-96a9-4c35-8b24-b96788fcf524",
   "metadata": {},
   "outputs": [],
   "source": [
    "# file paths"
   ]
  },
  {
   "cell_type": "markdown",
   "id": "7eb45ba8-9338-4c05-9cfc-9b6323a8a490",
   "metadata": {},
   "source": [
    "Python is useful without any external input but also a bit dull. Where the real power comes from is manipulating data that is outside of a python program. For example if we wanted to analyse some data that sat in a CSV file we would first need to load that CSV into a python object (perhaps a list of lists...) in order to analyse the data.\n",
    "\n",
    "In this directory is a csv file which we will now try to load into python.\n",
    "\n",
    "First we will try to do this manually with just the standard library.\n",
    "\n",
    "Python standard library has a function called `open()` which can be called on a file. Historically it was necessary to open a file, use or change its data and then close it again. However in recent versions of Python a new tool has been added called a context manager, this allows a user to maintain an open connection to the file as long as they need it and then it is automatically closed when not needed.\n",
    "\n",
    "A context manager can be opened using the keyword `with`. \n",
    "\n",
    "```python\n",
    "with open('test.csv') as file:\n",
    "    # do stuff\n",
    "```\n",
    "\n",
    "Once opened, files have a few functions that can be called, for the purposes of this lesson a useful one is `readlines()` which creates an iterator which is a list like object of all of the lines of the file that has been opened. \n",
    "\n",
    "The final method that is needed will be how to add things to a python list once it has been instantiated. This can be done very simply with the `.append()` method."
   ]
  },
  {
   "cell_type": "code",
   "execution_count": 7,
   "id": "024844ce-baa1-4ef6-90a2-8b086e0d9e80",
   "metadata": {},
   "outputs": [
    {
     "data": {
      "text/plain": [
       "[]"
      ]
     },
     "execution_count": 7,
     "metadata": {},
     "output_type": "execute_result"
    }
   ],
   "source": [
    "# Append example\n",
    "patients = []\n",
    "patients"
   ]
  },
  {
   "cell_type": "code",
   "execution_count": 8,
   "id": "302e9844-ae8e-46c8-a565-ff07dca3c1b1",
   "metadata": {},
   "outputs": [],
   "source": [
    "patients.append('patient_42')"
   ]
  },
  {
   "cell_type": "code",
   "execution_count": 9,
   "id": "d804ac8d-cb80-407d-bc1c-3968dfa2d64d",
   "metadata": {},
   "outputs": [
    {
     "data": {
      "text/plain": [
       "['patient_42']"
      ]
     },
     "execution_count": 9,
     "metadata": {},
     "output_type": "execute_result"
    }
   ],
   "source": [
    "patients"
   ]
  },
  {
   "cell_type": "code",
   "execution_count": 10,
   "id": "ee4ab0a5-4234-40c0-9c11-06fc8a39fe7f",
   "metadata": {},
   "outputs": [
    {
     "data": {
      "text/plain": [
       "{}"
      ]
     },
     "execution_count": 10,
     "metadata": {},
     "output_type": "execute_result"
    }
   ],
   "source": [
    "patient_attendances = {}\n",
    "patient_attendances"
   ]
  },
  {
   "cell_type": "code",
   "execution_count": 11,
   "id": "17623430-0cc2-42d1-9e32-573120cd9255",
   "metadata": {},
   "outputs": [],
   "source": [
    "patient_attendances['patient_42'] = 7"
   ]
  },
  {
   "cell_type": "code",
   "execution_count": 12,
   "id": "1ab2a049-13fa-48d5-b5f1-9df4100f2b74",
   "metadata": {},
   "outputs": [
    {
     "data": {
      "text/plain": [
       "{'patient_42': 7}"
      ]
     },
     "execution_count": 12,
     "metadata": {},
     "output_type": "execute_result"
    }
   ],
   "source": [
    "patient_attendances"
   ]
  },
  {
   "cell_type": "code",
   "execution_count": 13,
   "id": "88b500bd-a8f7-4fe8-b277-dca3d198f98e",
   "metadata": {},
   "outputs": [],
   "source": [
    "# Exercise\n",
    "\n",
    "# Using the above examples can you read the file test.csv into a nested list in Python?\n"
   ]
  },
  {
   "cell_type": "markdown",
   "id": "398fe20e-efa4-47ea-a744-480b660b8a3d",
   "metadata": {},
   "source": [
    "This is a neat and elegant way of reading data from csv files into python for analysis, however it is a bit manual and time consuming for a simple task. \n",
    "\n",
    "Here we find the true power of Python though.\n",
    "\n",
    "Someone has probably already done it before, and you can just use theirs.\n",
    "\n",
    "In python there is a wide array of packages that are freely available through a service called the Python Package Index.\n",
    "\n",
    "You may have wondered why you had to run `pipenv install` before you could get anything to work. That is because you needed some packages just to get this notebook to run.\n",
    "\n",
    "Packages in python are used everywhere, at the top of most notebooks you will see are a few `import` statements, these are packages that need to be used in that script. \n",
    "\n",
    "The way the DIL team do python package and environment management is through a package called `pipenv` this uses the python package manager `pip` and builds virtual environments based of of the contents of the `Pipfile`. \n",
    "\n",
    "A virtual environment is a walled off section in which a user can specify the python version and any packages to be installed. Those packages will only be installed in just this environment. In this way a developer can work on multiple projects with different dependencies at the same time.\n",
    "\n",
    "When you ran `pipenv shell` you opened a shell inside the virtual environment such that any python code you execute from the shell will now have access to all the python packages that have been installed in that environment.\n",
    "\n",
    "If you want to add a new package to the virtual environment then you just have to run `pipenv install <PACKAGE>` and it will be added.\n",
    "\n",
    "This is all to say that there is a better way of reading CSVs into python. It is a package called `pandas` and it is one of the most successful python packages around and probably single handedly responsible for Python's domination of scientific computing over the last 5 years.\n",
    "\n",
    "With pandas all you have to do is `import pandas as pd` and you are able to run all kinds of clever analysis. This will be covered by Jack next week."
   ]
  },
  {
   "cell_type": "code",
   "execution_count": 14,
   "id": "1dd38d2c-9930-471c-82ba-e2a79d237c0d",
   "metadata": {},
   "outputs": [],
   "source": [
    "import pandas as pd\n",
    "\n",
    "test_csv = pd.read_csv('test.csv')"
   ]
  },
  {
   "cell_type": "code",
   "execution_count": 15,
   "id": "6f8e7730-df73-41f9-b659-eaf7d31d337f",
   "metadata": {},
   "outputs": [
    {
     "data": {
      "text/html": [
       "<div>\n",
       "<style scoped>\n",
       "    .dataframe tbody tr th:only-of-type {\n",
       "        vertical-align: middle;\n",
       "    }\n",
       "\n",
       "    .dataframe tbody tr th {\n",
       "        vertical-align: top;\n",
       "    }\n",
       "\n",
       "    .dataframe thead th {\n",
       "        text-align: right;\n",
       "    }\n",
       "</style>\n",
       "<table border=\"1\" class=\"dataframe\">\n",
       "  <thead>\n",
       "    <tr style=\"text-align: right;\">\n",
       "      <th></th>\n",
       "      <th>col1</th>\n",
       "      <th>col2</th>\n",
       "      <th>col3</th>\n",
       "    </tr>\n",
       "  </thead>\n",
       "  <tbody>\n",
       "    <tr>\n",
       "      <th>0</th>\n",
       "      <td>1</td>\n",
       "      <td>2</td>\n",
       "      <td>3</td>\n",
       "    </tr>\n",
       "    <tr>\n",
       "      <th>1</th>\n",
       "      <td>4</td>\n",
       "      <td>5</td>\n",
       "      <td>6</td>\n",
       "    </tr>\n",
       "    <tr>\n",
       "      <th>2</th>\n",
       "      <td>7</td>\n",
       "      <td>8</td>\n",
       "      <td>9</td>\n",
       "    </tr>\n",
       "  </tbody>\n",
       "</table>\n",
       "</div>"
      ],
      "text/plain": [
       "   col1   col2   col3\n",
       "0     1      2      3\n",
       "1     4      5      6\n",
       "2     7      8      9"
      ]
     },
     "execution_count": 15,
     "metadata": {},
     "output_type": "execute_result"
    }
   ],
   "source": [
    "test_csv"
   ]
  },
  {
   "cell_type": "code",
   "execution_count": null,
   "id": "b4720a47-b31f-48bd-aa56-dd10b33631dd",
   "metadata": {},
   "outputs": [],
   "source": []
  }
 ],
 "metadata": {
  "kernelspec": {
   "display_name": "analysis",
   "language": "python",
   "name": "analysis"
  },
  "language_info": {
   "codemirror_mode": {
    "name": "ipython",
    "version": 3
   },
   "file_extension": ".py",
   "mimetype": "text/x-python",
   "name": "python",
   "nbconvert_exporter": "python",
   "pygments_lexer": "ipython3",
   "version": "3.9.7"
  }
 },
 "nbformat": 4,
 "nbformat_minor": 5
}
