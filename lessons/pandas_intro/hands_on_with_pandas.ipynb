{
 "cells": [
  {
   "cell_type": "markdown",
   "metadata": {},
   "source": [
    "<img src=\"https://www.mca.org.uk/wp-content/uploads/sites/60/2020/01/Carnall-Farrar-Inspiring-change.png\" style=\"float: left; margin: 20px; height: 55px\">\n",
    "\n",
    "# Hands on with Pandas\n",
    "\n",
    "---"
   ]
  },
  {
   "cell_type": "markdown",
   "metadata": {},
   "source": [
    "### Learning Objectives\n",
    "\n",
    "**After this section, you will be able to:**\n",
    "- Load in data from excel or csv files into a pandas dataframe\n",
    "- Understand your data in a few lines of code\n",
    "- Filtering, sorting and renaming data\n",
    "- Handling missing data\n",
    "- Easy pivot tables\n",
    "- Downloading a pandas dataframe to excel\n"
   ]
  },
  {
   "cell_type": "code",
   "execution_count": 2,
   "metadata": {
    "slideshow": {
     "slide_type": "subslide"
    }
   },
   "outputs": [],
   "source": [
    "# Load Pandas into Python\n",
    "import pandas as pd"
   ]
  },
  {
   "cell_type": "markdown",
   "metadata": {},
   "source": [
    "<a id=\"reading-files\"></a>\n",
    "### Reading Files, Selecting Columns, and Summarizing"
   ]
  },
  {
   "cell_type": "code",
   "execution_count": 6,
   "metadata": {},
   "outputs": [
    {
     "data": {
      "text/html": [
       "<div>\n",
       "<style scoped>\n",
       "    .dataframe tbody tr th:only-of-type {\n",
       "        vertical-align: middle;\n",
       "    }\n",
       "\n",
       "    .dataframe tbody tr th {\n",
       "        vertical-align: top;\n",
       "    }\n",
       "\n",
       "    .dataframe thead th {\n",
       "        text-align: right;\n",
       "    }\n",
       "</style>\n",
       "<table border=\"1\" class=\"dataframe\">\n",
       "  <thead>\n",
       "    <tr style=\"text-align: right;\">\n",
       "      <th></th>\n",
       "      <th>week_start</th>\n",
       "      <th>ccg_code</th>\n",
       "      <th>specialty</th>\n",
       "      <th>priority</th>\n",
       "      <th>referrals</th>\n",
       "    </tr>\n",
       "  </thead>\n",
       "  <tbody>\n",
       "    <tr>\n",
       "      <th>0</th>\n",
       "      <td>2019-10-07</td>\n",
       "      <td>00L</td>\n",
       "      <td>(blank)</td>\n",
       "      <td>Routine</td>\n",
       "      <td>13</td>\n",
       "    </tr>\n",
       "    <tr>\n",
       "      <th>1</th>\n",
       "      <td>2019-10-07</td>\n",
       "      <td>00L</td>\n",
       "      <td>(blank)</td>\n",
       "      <td>Urgent</td>\n",
       "      <td>1</td>\n",
       "    </tr>\n",
       "    <tr>\n",
       "      <th>2</th>\n",
       "      <td>2019-10-07</td>\n",
       "      <td>00L</td>\n",
       "      <td>2WW</td>\n",
       "      <td>2 Week Wait</td>\n",
       "      <td>349</td>\n",
       "    </tr>\n",
       "    <tr>\n",
       "      <th>3</th>\n",
       "      <td>2019-10-07</td>\n",
       "      <td>00L</td>\n",
       "      <td>Allergy</td>\n",
       "      <td>Routine</td>\n",
       "      <td>3</td>\n",
       "    </tr>\n",
       "    <tr>\n",
       "      <th>4</th>\n",
       "      <td>2019-10-07</td>\n",
       "      <td>00L</td>\n",
       "      <td>Cardiology</td>\n",
       "      <td>Routine</td>\n",
       "      <td>84</td>\n",
       "    </tr>\n",
       "    <tr>\n",
       "      <th>...</th>\n",
       "      <td>...</td>\n",
       "      <td>...</td>\n",
       "      <td>...</td>\n",
       "      <td>...</td>\n",
       "      <td>...</td>\n",
       "    </tr>\n",
       "    <tr>\n",
       "      <th>592679</th>\n",
       "      <td>2020-12-21</td>\n",
       "      <td>99M</td>\n",
       "      <td>Surgery - Not Otherwise Specified</td>\n",
       "      <td>Urgent</td>\n",
       "      <td>2</td>\n",
       "    </tr>\n",
       "    <tr>\n",
       "      <th>592680</th>\n",
       "      <td>2020-12-21</td>\n",
       "      <td>99M</td>\n",
       "      <td>Surgery - Vascular</td>\n",
       "      <td>Routine</td>\n",
       "      <td>2</td>\n",
       "    </tr>\n",
       "    <tr>\n",
       "      <th>592681</th>\n",
       "      <td>2020-12-21</td>\n",
       "      <td>99M</td>\n",
       "      <td>Surgery - Vascular</td>\n",
       "      <td>Urgent</td>\n",
       "      <td>2</td>\n",
       "    </tr>\n",
       "    <tr>\n",
       "      <th>592682</th>\n",
       "      <td>2020-12-21</td>\n",
       "      <td>99M</td>\n",
       "      <td>Urology</td>\n",
       "      <td>Routine</td>\n",
       "      <td>25</td>\n",
       "    </tr>\n",
       "    <tr>\n",
       "      <th>592683</th>\n",
       "      <td>2020-12-21</td>\n",
       "      <td>99M</td>\n",
       "      <td>Urology</td>\n",
       "      <td>Urgent</td>\n",
       "      <td>11</td>\n",
       "    </tr>\n",
       "  </tbody>\n",
       "</table>\n",
       "<p>592684 rows × 5 columns</p>\n",
       "</div>"
      ],
      "text/plain": [
       "        week_start ccg_code                          specialty     priority  \\\n",
       "0       2019-10-07      00L                            (blank)      Routine   \n",
       "1       2019-10-07      00L                            (blank)       Urgent   \n",
       "2       2019-10-07      00L                                2WW  2 Week Wait   \n",
       "3       2019-10-07      00L                            Allergy      Routine   \n",
       "4       2019-10-07      00L                         Cardiology      Routine   \n",
       "...            ...      ...                                ...          ...   \n",
       "592679  2020-12-21      99M  Surgery - Not Otherwise Specified       Urgent   \n",
       "592680  2020-12-21      99M                 Surgery - Vascular      Routine   \n",
       "592681  2020-12-21      99M                 Surgery - Vascular       Urgent   \n",
       "592682  2020-12-21      99M                            Urology      Routine   \n",
       "592683  2020-12-21      99M                            Urology       Urgent   \n",
       "\n",
       "        referrals  \n",
       "0              13  \n",
       "1               1  \n",
       "2             349  \n",
       "3               3  \n",
       "4              84  \n",
       "...           ...  \n",
       "592679          2  \n",
       "592680          2  \n",
       "592681          2  \n",
       "592682         25  \n",
       "592683         11  \n",
       "\n",
       "[592684 rows x 5 columns]"
      ]
     },
     "execution_count": 6,
     "metadata": {},
     "output_type": "execute_result"
    }
   ],
   "source": [
    "df = pd.read_csv('/Users/jackpickard/Downloads/referrals_oct19_dec20.csv')\n",
    "df"
   ]
  },
  {
   "cell_type": "code",
   "execution_count": 4,
   "metadata": {},
   "outputs": [
    {
     "name": "stdout",
     "output_type": "stream",
     "text": [
      "<class 'pandas.core.frame.DataFrame'>\n",
      "RangeIndex: 592684 entries, 0 to 592683\n",
      "Data columns (total 5 columns):\n",
      " #   Column      Non-Null Count   Dtype \n",
      "---  ------      --------------   ----- \n",
      " 0   week_start  592684 non-null  object\n",
      " 1   ccg_code    592684 non-null  object\n",
      " 2   specialty   592684 non-null  object\n",
      " 3   priority    592684 non-null  object\n",
      " 4   referrals   592684 non-null  int64 \n",
      "dtypes: int64(1), object(4)\n",
      "memory usage: 22.6+ MB\n"
     ]
    }
   ],
   "source": [
    "df.info()"
   ]
  },
  {
   "cell_type": "markdown",
   "metadata": {},
   "source": [
    "**Examine the users data.**"
   ]
  },
  {
   "cell_type": "code",
   "execution_count": null,
   "metadata": {},
   "outputs": [],
   "source": [
    "type(df)             # check its type"
   ]
  },
  {
   "cell_type": "code",
   "execution_count": null,
   "metadata": {},
   "outputs": [],
   "source": [
    "type(df['week_start'])"
   ]
  },
  {
   "cell_type": "code",
   "execution_count": 11,
   "metadata": {},
   "outputs": [
    {
     "data": {
      "text/html": [
       "<div>\n",
       "<style scoped>\n",
       "    .dataframe tbody tr th:only-of-type {\n",
       "        vertical-align: middle;\n",
       "    }\n",
       "\n",
       "    .dataframe tbody tr th {\n",
       "        vertical-align: top;\n",
       "    }\n",
       "\n",
       "    .dataframe thead th {\n",
       "        text-align: right;\n",
       "    }\n",
       "</style>\n",
       "<table border=\"1\" class=\"dataframe\">\n",
       "  <thead>\n",
       "    <tr style=\"text-align: right;\">\n",
       "      <th></th>\n",
       "      <th>week_start</th>\n",
       "      <th>ccg_code</th>\n",
       "      <th>specialty</th>\n",
       "      <th>priority</th>\n",
       "      <th>referrals</th>\n",
       "    </tr>\n",
       "  </thead>\n",
       "  <tbody>\n",
       "    <tr>\n",
       "      <th>0</th>\n",
       "      <td>2019-10-07</td>\n",
       "      <td>00L</td>\n",
       "      <td>(blank)</td>\n",
       "      <td>Routine</td>\n",
       "      <td>13</td>\n",
       "    </tr>\n",
       "    <tr>\n",
       "      <th>1</th>\n",
       "      <td>2019-10-07</td>\n",
       "      <td>00L</td>\n",
       "      <td>(blank)</td>\n",
       "      <td>Urgent</td>\n",
       "      <td>1</td>\n",
       "    </tr>\n",
       "    <tr>\n",
       "      <th>2</th>\n",
       "      <td>2019-10-07</td>\n",
       "      <td>00L</td>\n",
       "      <td>2WW</td>\n",
       "      <td>2 Week Wait</td>\n",
       "      <td>349</td>\n",
       "    </tr>\n",
       "    <tr>\n",
       "      <th>3</th>\n",
       "      <td>2019-10-07</td>\n",
       "      <td>00L</td>\n",
       "      <td>Allergy</td>\n",
       "      <td>Routine</td>\n",
       "      <td>3</td>\n",
       "    </tr>\n",
       "    <tr>\n",
       "      <th>4</th>\n",
       "      <td>2019-10-07</td>\n",
       "      <td>00L</td>\n",
       "      <td>Cardiology</td>\n",
       "      <td>Routine</td>\n",
       "      <td>84</td>\n",
       "    </tr>\n",
       "    <tr>\n",
       "      <th>...</th>\n",
       "      <td>...</td>\n",
       "      <td>...</td>\n",
       "      <td>...</td>\n",
       "      <td>...</td>\n",
       "      <td>...</td>\n",
       "    </tr>\n",
       "    <tr>\n",
       "      <th>592679</th>\n",
       "      <td>2020-12-21</td>\n",
       "      <td>99M</td>\n",
       "      <td>Surgery - Not Otherwise Specified</td>\n",
       "      <td>Urgent</td>\n",
       "      <td>2</td>\n",
       "    </tr>\n",
       "    <tr>\n",
       "      <th>592680</th>\n",
       "      <td>2020-12-21</td>\n",
       "      <td>99M</td>\n",
       "      <td>Surgery - Vascular</td>\n",
       "      <td>Routine</td>\n",
       "      <td>2</td>\n",
       "    </tr>\n",
       "    <tr>\n",
       "      <th>592681</th>\n",
       "      <td>2020-12-21</td>\n",
       "      <td>99M</td>\n",
       "      <td>Surgery - Vascular</td>\n",
       "      <td>Urgent</td>\n",
       "      <td>2</td>\n",
       "    </tr>\n",
       "    <tr>\n",
       "      <th>592682</th>\n",
       "      <td>2020-12-21</td>\n",
       "      <td>99M</td>\n",
       "      <td>Urology</td>\n",
       "      <td>Routine</td>\n",
       "      <td>25</td>\n",
       "    </tr>\n",
       "    <tr>\n",
       "      <th>592683</th>\n",
       "      <td>2020-12-21</td>\n",
       "      <td>99M</td>\n",
       "      <td>Urology</td>\n",
       "      <td>Urgent</td>\n",
       "      <td>11</td>\n",
       "    </tr>\n",
       "  </tbody>\n",
       "</table>\n",
       "<p>592684 rows × 5 columns</p>\n",
       "</div>"
      ],
      "text/plain": [
       "        week_start ccg_code                          specialty     priority  \\\n",
       "0       2019-10-07      00L                            (blank)      Routine   \n",
       "1       2019-10-07      00L                            (blank)       Urgent   \n",
       "2       2019-10-07      00L                                2WW  2 Week Wait   \n",
       "3       2019-10-07      00L                            Allergy      Routine   \n",
       "4       2019-10-07      00L                         Cardiology      Routine   \n",
       "...            ...      ...                                ...          ...   \n",
       "592679  2020-12-21      99M  Surgery - Not Otherwise Specified       Urgent   \n",
       "592680  2020-12-21      99M                 Surgery - Vascular      Routine   \n",
       "592681  2020-12-21      99M                 Surgery - Vascular       Urgent   \n",
       "592682  2020-12-21      99M                            Urology      Routine   \n",
       "592683  2020-12-21      99M                            Urology       Urgent   \n",
       "\n",
       "        referrals  \n",
       "0              13  \n",
       "1               1  \n",
       "2             349  \n",
       "3               3  \n",
       "4              84  \n",
       "...           ...  \n",
       "592679          2  \n",
       "592680          2  \n",
       "592681          2  \n",
       "592682         25  \n",
       "592683         11  \n",
       "\n",
       "[592684 rows x 5 columns]"
      ]
     },
     "execution_count": 11,
     "metadata": {},
     "output_type": "execute_result"
    }
   ],
   "source": [
    "df                   # Print the first 30 and last 30 rows."
   ]
  },
  {
   "cell_type": "code",
   "execution_count": 14,
   "metadata": {},
   "outputs": [
    {
     "data": {
      "text/html": [
       "<div>\n",
       "<style scoped>\n",
       "    .dataframe tbody tr th:only-of-type {\n",
       "        vertical-align: middle;\n",
       "    }\n",
       "\n",
       "    .dataframe tbody tr th {\n",
       "        vertical-align: top;\n",
       "    }\n",
       "\n",
       "    .dataframe thead th {\n",
       "        text-align: right;\n",
       "    }\n",
       "</style>\n",
       "<table border=\"1\" class=\"dataframe\">\n",
       "  <thead>\n",
       "    <tr style=\"text-align: right;\">\n",
       "      <th></th>\n",
       "      <th>week_start</th>\n",
       "      <th>ccg_code</th>\n",
       "      <th>specialty</th>\n",
       "      <th>priority</th>\n",
       "      <th>referrals</th>\n",
       "    </tr>\n",
       "  </thead>\n",
       "  <tbody>\n",
       "    <tr>\n",
       "      <th>0</th>\n",
       "      <td>2019-10-07</td>\n",
       "      <td>00L</td>\n",
       "      <td>(blank)</td>\n",
       "      <td>Routine</td>\n",
       "      <td>13</td>\n",
       "    </tr>\n",
       "    <tr>\n",
       "      <th>1</th>\n",
       "      <td>2019-10-07</td>\n",
       "      <td>00L</td>\n",
       "      <td>(blank)</td>\n",
       "      <td>Urgent</td>\n",
       "      <td>1</td>\n",
       "    </tr>\n",
       "    <tr>\n",
       "      <th>2</th>\n",
       "      <td>2019-10-07</td>\n",
       "      <td>00L</td>\n",
       "      <td>2WW</td>\n",
       "      <td>2 Week Wait</td>\n",
       "      <td>349</td>\n",
       "    </tr>\n",
       "    <tr>\n",
       "      <th>3</th>\n",
       "      <td>2019-10-07</td>\n",
       "      <td>00L</td>\n",
       "      <td>Allergy</td>\n",
       "      <td>Routine</td>\n",
       "      <td>3</td>\n",
       "    </tr>\n",
       "    <tr>\n",
       "      <th>4</th>\n",
       "      <td>2019-10-07</td>\n",
       "      <td>00L</td>\n",
       "      <td>Cardiology</td>\n",
       "      <td>Routine</td>\n",
       "      <td>84</td>\n",
       "    </tr>\n",
       "  </tbody>\n",
       "</table>\n",
       "</div>"
      ],
      "text/plain": [
       "   week_start ccg_code   specialty     priority  referrals\n",
       "0  2019-10-07      00L     (blank)      Routine         13\n",
       "1  2019-10-07      00L     (blank)       Urgent          1\n",
       "2  2019-10-07      00L         2WW  2 Week Wait        349\n",
       "3  2019-10-07      00L     Allergy      Routine          3\n",
       "4  2019-10-07      00L  Cardiology      Routine         84"
      ]
     },
     "execution_count": 14,
     "metadata": {},
     "output_type": "execute_result"
    }
   ],
   "source": [
    "df.head()            # Print the first five rows."
   ]
  },
  {
   "cell_type": "code",
   "execution_count": null,
   "metadata": {},
   "outputs": [],
   "source": [
    "df.head(10)          # Print the first 10 rows."
   ]
  },
  {
   "cell_type": "code",
   "execution_count": null,
   "metadata": {},
   "outputs": [],
   "source": [
    "df.tail()            # Print the last five rows."
   ]
  },
  {
   "cell_type": "markdown",
   "metadata": {},
   "source": [
    "Sample is a useful one"
   ]
  },
  {
   "cell_type": "code",
   "execution_count": null,
   "metadata": {},
   "outputs": [],
   "source": [
    "df.sample(5).transpose()"
   ]
  },
  {
   "cell_type": "code",
   "execution_count": null,
   "metadata": {},
   "outputs": [],
   "source": [
    "# The row index (aka \"the row labels\" — in this case integers)\n",
    "df.index            "
   ]
  },
  {
   "cell_type": "code",
   "execution_count": null,
   "metadata": {},
   "outputs": [],
   "source": [
    "# Column names (which is \"an index\")\n",
    "df.columns"
   ]
  },
  {
   "cell_type": "code",
   "execution_count": null,
   "metadata": {},
   "outputs": [],
   "source": [
    "# Datatypes of each column — each column is stored as an \n",
    "# ndarray, which has a datatype\n",
    "df.dtypes"
   ]
  },
  {
   "cell_type": "code",
   "execution_count": null,
   "metadata": {},
   "outputs": [],
   "source": [
    "# Number of rows and columns\n",
    "df.shape"
   ]
  },
  {
   "cell_type": "code",
   "execution_count": null,
   "metadata": {},
   "outputs": [],
   "source": [
    "# All values as a NumPy array\n",
    "df.values"
   ]
  },
  {
   "cell_type": "code",
   "execution_count": null,
   "metadata": {},
   "outputs": [],
   "source": [
    "# Concise summary (including memory usage) — \n",
    "# useful to quickly see if nulls exist\n",
    "df.info()"
   ]
  },
  {
   "cell_type": "markdown",
   "metadata": {},
   "source": [
    "** Select or index data.**<br>\n",
    "Pandas `DataFrame`s have structural similarities with Python-style lists and dictionaries.  \n",
    "In the example below, we select a column of data using the name of the column in a similar manner to how we select a dictionary value with the dictionary key."
   ]
  },
  {
   "cell_type": "markdown",
   "metadata": {},
   "source": [
    "##"
   ]
  },
  {
   "cell_type": "code",
   "execution_count": null,
   "metadata": {
    "scrolled": true
   },
   "outputs": [],
   "source": [
    "# Select a column\n",
    "# df['priority']\n",
    "df.priority"
   ]
  },
  {
   "cell_type": "markdown",
   "metadata": {},
   "source": [
    "**Summarize (describe) the data.**<br>\n",
    "Pandas has a bunch of built-in methods to quickly summarize your data and provide you with a quick general understanding."
   ]
  },
  {
   "cell_type": "code",
   "execution_count": null,
   "metadata": {},
   "outputs": [],
   "source": [
    "# Describe all numeric columns.\n",
    "df.describe()"
   ]
  },
  {
   "cell_type": "code",
   "execution_count": null,
   "metadata": {},
   "outputs": [],
   "source": [
    "# Describe all columns, including non-numeric.\n",
    "df.describe(include='all')"
   ]
  },
  {
   "cell_type": "code",
   "execution_count": null,
   "metadata": {},
   "outputs": [],
   "source": [
    "# Describe a single column — recall that \"users.occupation\" \n",
    "# refers to a Series.\n",
    "df[\"referrals\"].describe()"
   ]
  },
  {
   "cell_type": "code",
   "execution_count": null,
   "metadata": {},
   "outputs": [],
   "source": [
    "# Calculate the mean of the ages.\n",
    "df[\"referrals\"].mean()"
   ]
  },
  {
   "cell_type": "markdown",
   "metadata": {},
   "source": [
    "**Count the number of occurrences of each value.**"
   ]
  },
  {
   "cell_type": "code",
   "execution_count": null,
   "metadata": {},
   "outputs": [],
   "source": [
    "df[\"specialty\"].value_counts()     # Most useful for categorical variables"
   ]
  },
  {
   "cell_type": "markdown",
   "metadata": {},
   "source": [
    "<a id=\"filtering-and-sorting\"></a>\n",
    "### Filtering and Sorting\n",
    "- **Objective:** Filter and sort data using Pandas.\n",
    "\n",
    "We can use simple operator comparisons on columns to extract relevant or drop irrelevant information."
   ]
  },
  {
   "cell_type": "code",
   "execution_count": 17,
   "metadata": {},
   "outputs": [],
   "source": [
    "ccg_00L = df.loc[df[\"ccg_code\"] == '00L']"
   ]
  },
  {
   "cell_type": "code",
   "execution_count": 20,
   "metadata": {
    "scrolled": true
   },
   "outputs": [
    {
     "data": {
      "text/plain": [
       "0          True\n",
       "1          True\n",
       "2          True\n",
       "3          True\n",
       "4          True\n",
       "          ...  \n",
       "592679    False\n",
       "592680    False\n",
       "592681    False\n",
       "592682    False\n",
       "592683    False\n",
       "Name: ccg_code, Length: 592684, dtype: bool"
      ]
     },
     "execution_count": 20,
     "metadata": {},
     "output_type": "execute_result"
    }
   ],
   "source": [
    "# Create a Series of Booleans…\n",
    "# In Pandas, this comparison is performed element-wise \n",
    "# on each row of data.\n",
    "ccg_bool = df[\"ccg_code\"] == '00L'\n",
    "ccg_bool"
   ]
  },
  {
   "cell_type": "code",
   "execution_count": 21,
   "metadata": {},
   "outputs": [
    {
     "data": {
      "text/html": [
       "<div>\n",
       "<style scoped>\n",
       "    .dataframe tbody tr th:only-of-type {\n",
       "        vertical-align: middle;\n",
       "    }\n",
       "\n",
       "    .dataframe tbody tr th {\n",
       "        vertical-align: top;\n",
       "    }\n",
       "\n",
       "    .dataframe thead th {\n",
       "        text-align: right;\n",
       "    }\n",
       "</style>\n",
       "<table border=\"1\" class=\"dataframe\">\n",
       "  <thead>\n",
       "    <tr style=\"text-align: right;\">\n",
       "      <th></th>\n",
       "      <th>week_start</th>\n",
       "      <th>ccg_code</th>\n",
       "      <th>specialty</th>\n",
       "      <th>priority</th>\n",
       "      <th>referrals</th>\n",
       "    </tr>\n",
       "  </thead>\n",
       "  <tbody>\n",
       "    <tr>\n",
       "      <th>0</th>\n",
       "      <td>2019-10-07</td>\n",
       "      <td>00L</td>\n",
       "      <td>(blank)</td>\n",
       "      <td>Routine</td>\n",
       "      <td>13</td>\n",
       "    </tr>\n",
       "    <tr>\n",
       "      <th>1</th>\n",
       "      <td>2019-10-07</td>\n",
       "      <td>00L</td>\n",
       "      <td>(blank)</td>\n",
       "      <td>Urgent</td>\n",
       "      <td>1</td>\n",
       "    </tr>\n",
       "    <tr>\n",
       "      <th>2</th>\n",
       "      <td>2019-10-07</td>\n",
       "      <td>00L</td>\n",
       "      <td>2WW</td>\n",
       "      <td>2 Week Wait</td>\n",
       "      <td>349</td>\n",
       "    </tr>\n",
       "    <tr>\n",
       "      <th>3</th>\n",
       "      <td>2019-10-07</td>\n",
       "      <td>00L</td>\n",
       "      <td>Allergy</td>\n",
       "      <td>Routine</td>\n",
       "      <td>3</td>\n",
       "    </tr>\n",
       "    <tr>\n",
       "      <th>4</th>\n",
       "      <td>2019-10-07</td>\n",
       "      <td>00L</td>\n",
       "      <td>Cardiology</td>\n",
       "      <td>Routine</td>\n",
       "      <td>84</td>\n",
       "    </tr>\n",
       "    <tr>\n",
       "      <th>...</th>\n",
       "      <td>...</td>\n",
       "      <td>...</td>\n",
       "      <td>...</td>\n",
       "      <td>...</td>\n",
       "      <td>...</td>\n",
       "    </tr>\n",
       "    <tr>\n",
       "      <th>584662</th>\n",
       "      <td>2020-12-21</td>\n",
       "      <td>00L</td>\n",
       "      <td>Surgery - Plastic</td>\n",
       "      <td>Urgent</td>\n",
       "      <td>1</td>\n",
       "    </tr>\n",
       "    <tr>\n",
       "      <th>584663</th>\n",
       "      <td>2020-12-21</td>\n",
       "      <td>00L</td>\n",
       "      <td>Surgery - Vascular</td>\n",
       "      <td>Routine</td>\n",
       "      <td>19</td>\n",
       "    </tr>\n",
       "    <tr>\n",
       "      <th>584664</th>\n",
       "      <td>2020-12-21</td>\n",
       "      <td>00L</td>\n",
       "      <td>Surgery - Vascular</td>\n",
       "      <td>Urgent</td>\n",
       "      <td>4</td>\n",
       "    </tr>\n",
       "    <tr>\n",
       "      <th>584665</th>\n",
       "      <td>2020-12-21</td>\n",
       "      <td>00L</td>\n",
       "      <td>Urology</td>\n",
       "      <td>Routine</td>\n",
       "      <td>25</td>\n",
       "    </tr>\n",
       "    <tr>\n",
       "      <th>584666</th>\n",
       "      <td>2020-12-21</td>\n",
       "      <td>00L</td>\n",
       "      <td>Urology</td>\n",
       "      <td>Urgent</td>\n",
       "      <td>6</td>\n",
       "    </tr>\n",
       "  </tbody>\n",
       "</table>\n",
       "<p>3383 rows × 5 columns</p>\n",
       "</div>"
      ],
      "text/plain": [
       "        week_start ccg_code           specialty     priority  referrals\n",
       "0       2019-10-07      00L             (blank)      Routine         13\n",
       "1       2019-10-07      00L             (blank)       Urgent          1\n",
       "2       2019-10-07      00L                 2WW  2 Week Wait        349\n",
       "3       2019-10-07      00L             Allergy      Routine          3\n",
       "4       2019-10-07      00L          Cardiology      Routine         84\n",
       "...            ...      ...                 ...          ...        ...\n",
       "584662  2020-12-21      00L   Surgery - Plastic       Urgent          1\n",
       "584663  2020-12-21      00L  Surgery - Vascular      Routine         19\n",
       "584664  2020-12-21      00L  Surgery - Vascular       Urgent          4\n",
       "584665  2020-12-21      00L             Urology      Routine         25\n",
       "584666  2020-12-21      00L             Urology       Urgent          6\n",
       "\n",
       "[3383 rows x 5 columns]"
      ]
     },
     "execution_count": 21,
     "metadata": {},
     "output_type": "execute_result"
    }
   ],
   "source": [
    "# …and use that Series to filter rows.\n",
    "# In Pandas, indexing a DataFrame by a Series of Booleans \n",
    "# only selects rows that are True in the Boolean.\n",
    "\n",
    "df[ccg_bool]"
   ]
  },
  {
   "cell_type": "code",
   "execution_count": 22,
   "metadata": {},
   "outputs": [
    {
     "data": {
      "text/html": [
       "<div>\n",
       "<style scoped>\n",
       "    .dataframe tbody tr th:only-of-type {\n",
       "        vertical-align: middle;\n",
       "    }\n",
       "\n",
       "    .dataframe tbody tr th {\n",
       "        vertical-align: top;\n",
       "    }\n",
       "\n",
       "    .dataframe thead th {\n",
       "        text-align: right;\n",
       "    }\n",
       "</style>\n",
       "<table border=\"1\" class=\"dataframe\">\n",
       "  <thead>\n",
       "    <tr style=\"text-align: right;\">\n",
       "      <th></th>\n",
       "      <th>week_start</th>\n",
       "      <th>ccg_code</th>\n",
       "      <th>specialty</th>\n",
       "      <th>priority</th>\n",
       "      <th>referrals</th>\n",
       "    </tr>\n",
       "  </thead>\n",
       "  <tbody>\n",
       "    <tr>\n",
       "      <th>2</th>\n",
       "      <td>2019-10-07</td>\n",
       "      <td>00L</td>\n",
       "      <td>2WW</td>\n",
       "      <td>2 Week Wait</td>\n",
       "      <td>349</td>\n",
       "    </tr>\n",
       "    <tr>\n",
       "      <th>61</th>\n",
       "      <td>2019-10-07</td>\n",
       "      <td>00N</td>\n",
       "      <td>2WW</td>\n",
       "      <td>2 Week Wait</td>\n",
       "      <td>180</td>\n",
       "    </tr>\n",
       "    <tr>\n",
       "      <th>113</th>\n",
       "      <td>2019-10-07</td>\n",
       "      <td>00P</td>\n",
       "      <td>2WW</td>\n",
       "      <td>2 Week Wait</td>\n",
       "      <td>284</td>\n",
       "    </tr>\n",
       "    <tr>\n",
       "      <th>169</th>\n",
       "      <td>2019-10-07</td>\n",
       "      <td>00Q</td>\n",
       "      <td>2WW</td>\n",
       "      <td>2 Week Wait</td>\n",
       "      <td>122</td>\n",
       "    </tr>\n",
       "    <tr>\n",
       "      <th>226</th>\n",
       "      <td>2019-10-07</td>\n",
       "      <td>00R</td>\n",
       "      <td>2WW</td>\n",
       "      <td>2 Week Wait</td>\n",
       "      <td>170</td>\n",
       "    </tr>\n",
       "    <tr>\n",
       "      <th>...</th>\n",
       "      <td>...</td>\n",
       "      <td>...</td>\n",
       "      <td>...</td>\n",
       "      <td>...</td>\n",
       "      <td>...</td>\n",
       "    </tr>\n",
       "    <tr>\n",
       "      <th>592413</th>\n",
       "      <td>2020-12-21</td>\n",
       "      <td>99C</td>\n",
       "      <td>2WW</td>\n",
       "      <td>2 Week Wait</td>\n",
       "      <td>151</td>\n",
       "    </tr>\n",
       "    <tr>\n",
       "      <th>592463</th>\n",
       "      <td>2020-12-21</td>\n",
       "      <td>99E</td>\n",
       "      <td>2WW</td>\n",
       "      <td>2 Week Wait</td>\n",
       "      <td>208</td>\n",
       "    </tr>\n",
       "    <tr>\n",
       "      <th>592520</th>\n",
       "      <td>2020-12-21</td>\n",
       "      <td>99F</td>\n",
       "      <td>2WW</td>\n",
       "      <td>2 Week Wait</td>\n",
       "      <td>127</td>\n",
       "    </tr>\n",
       "    <tr>\n",
       "      <th>592574</th>\n",
       "      <td>2020-12-21</td>\n",
       "      <td>99G</td>\n",
       "      <td>2WW</td>\n",
       "      <td>2 Week Wait</td>\n",
       "      <td>113</td>\n",
       "    </tr>\n",
       "    <tr>\n",
       "      <th>592633</th>\n",
       "      <td>2020-12-21</td>\n",
       "      <td>99M</td>\n",
       "      <td>2WW</td>\n",
       "      <td>2 Week Wait</td>\n",
       "      <td>155</td>\n",
       "    </tr>\n",
       "  </tbody>\n",
       "</table>\n",
       "<p>11879 rows × 5 columns</p>\n",
       "</div>"
      ],
      "text/plain": [
       "        week_start ccg_code specialty     priority  referrals\n",
       "2       2019-10-07      00L       2WW  2 Week Wait        349\n",
       "61      2019-10-07      00N       2WW  2 Week Wait        180\n",
       "113     2019-10-07      00P       2WW  2 Week Wait        284\n",
       "169     2019-10-07      00Q       2WW  2 Week Wait        122\n",
       "226     2019-10-07      00R       2WW  2 Week Wait        170\n",
       "...            ...      ...       ...          ...        ...\n",
       "592413  2020-12-21      99C       2WW  2 Week Wait        151\n",
       "592463  2020-12-21      99E       2WW  2 Week Wait        208\n",
       "592520  2020-12-21      99F       2WW  2 Week Wait        127\n",
       "592574  2020-12-21      99G       2WW  2 Week Wait        113\n",
       "592633  2020-12-21      99M       2WW  2 Week Wait        155\n",
       "\n",
       "[11879 rows x 5 columns]"
      ]
     },
     "execution_count": 22,
     "metadata": {},
     "output_type": "execute_result"
    }
   ],
   "source": [
    "# Or, combine into a single step.\n",
    "two_week_wait = df[df.specialty == '2WW']\n",
    "two_week_wait"
   ]
  },
  {
   "cell_type": "markdown",
   "metadata": {},
   "source": [
    "The syntax is:\n",
    "\n",
    "`my_dataframe.loc[<filter_condition>, <column>] = <new_value>`"
   ]
  },
  {
   "cell_type": "markdown",
   "metadata": {},
   "source": [
    "### The .loc and .iloc head scratcher\n",
    "These are a little difficult to get your head around - I think of it like the eye of Sauron \n",
    "\n",
    "You can turn your gaze to any part of the dataset in one easy phrase"
   ]
  },
  {
   "cell_type": "markdown",
   "metadata": {},
   "source": [
    "`.iloc` is probably easier to get your head around"
   ]
  },
  {
   "cell_type": "code",
   "execution_count": 36,
   "metadata": {},
   "outputs": [
    {
     "data": {
      "text/html": [
       "<div>\n",
       "<style scoped>\n",
       "    .dataframe tbody tr th:only-of-type {\n",
       "        vertical-align: middle;\n",
       "    }\n",
       "\n",
       "    .dataframe tbody tr th {\n",
       "        vertical-align: top;\n",
       "    }\n",
       "\n",
       "    .dataframe thead th {\n",
       "        text-align: right;\n",
       "    }\n",
       "</style>\n",
       "<table border=\"1\" class=\"dataframe\">\n",
       "  <thead>\n",
       "    <tr style=\"text-align: right;\">\n",
       "      <th></th>\n",
       "      <th>week_start</th>\n",
       "      <th>ccg_code</th>\n",
       "      <th>specialty</th>\n",
       "      <th>priority</th>\n",
       "      <th>referrals</th>\n",
       "    </tr>\n",
       "  </thead>\n",
       "  <tbody>\n",
       "    <tr>\n",
       "      <th>100</th>\n",
       "      <td>2019-10-07</td>\n",
       "      <td>00N</td>\n",
       "      <td>Rheumatology</td>\n",
       "      <td>Routine</td>\n",
       "      <td>20</td>\n",
       "    </tr>\n",
       "    <tr>\n",
       "      <th>101</th>\n",
       "      <td>2019-10-07</td>\n",
       "      <td>00N</td>\n",
       "      <td>Rheumatology</td>\n",
       "      <td>Urgent</td>\n",
       "      <td>3</td>\n",
       "    </tr>\n",
       "    <tr>\n",
       "      <th>102</th>\n",
       "      <td>2019-10-07</td>\n",
       "      <td>00N</td>\n",
       "      <td>Sleep Medicine</td>\n",
       "      <td>Routine</td>\n",
       "      <td>3</td>\n",
       "    </tr>\n",
       "    <tr>\n",
       "      <th>103</th>\n",
       "      <td>2019-10-07</td>\n",
       "      <td>00N</td>\n",
       "      <td>Surgery - Breast</td>\n",
       "      <td>2 Week Wait</td>\n",
       "      <td>9</td>\n",
       "    </tr>\n",
       "    <tr>\n",
       "      <th>104</th>\n",
       "      <td>2019-10-07</td>\n",
       "      <td>00N</td>\n",
       "      <td>Surgery - Breast</td>\n",
       "      <td>Routine</td>\n",
       "      <td>4</td>\n",
       "    </tr>\n",
       "    <tr>\n",
       "      <th>...</th>\n",
       "      <td>...</td>\n",
       "      <td>...</td>\n",
       "      <td>...</td>\n",
       "      <td>...</td>\n",
       "      <td>...</td>\n",
       "    </tr>\n",
       "    <tr>\n",
       "      <th>592679</th>\n",
       "      <td>2020-12-21</td>\n",
       "      <td>99M</td>\n",
       "      <td>Surgery - Not Otherwise Specified</td>\n",
       "      <td>Urgent</td>\n",
       "      <td>2</td>\n",
       "    </tr>\n",
       "    <tr>\n",
       "      <th>592680</th>\n",
       "      <td>2020-12-21</td>\n",
       "      <td>99M</td>\n",
       "      <td>Surgery - Vascular</td>\n",
       "      <td>Routine</td>\n",
       "      <td>2</td>\n",
       "    </tr>\n",
       "    <tr>\n",
       "      <th>592681</th>\n",
       "      <td>2020-12-21</td>\n",
       "      <td>99M</td>\n",
       "      <td>Surgery - Vascular</td>\n",
       "      <td>Urgent</td>\n",
       "      <td>2</td>\n",
       "    </tr>\n",
       "    <tr>\n",
       "      <th>592682</th>\n",
       "      <td>2020-12-21</td>\n",
       "      <td>99M</td>\n",
       "      <td>Urology</td>\n",
       "      <td>Routine</td>\n",
       "      <td>25</td>\n",
       "    </tr>\n",
       "    <tr>\n",
       "      <th>592683</th>\n",
       "      <td>2020-12-21</td>\n",
       "      <td>99M</td>\n",
       "      <td>Urology</td>\n",
       "      <td>Urgent</td>\n",
       "      <td>11</td>\n",
       "    </tr>\n",
       "  </tbody>\n",
       "</table>\n",
       "<p>592584 rows × 5 columns</p>\n",
       "</div>"
      ],
      "text/plain": [
       "        week_start ccg_code                          specialty     priority  \\\n",
       "100     2019-10-07      00N                       Rheumatology      Routine   \n",
       "101     2019-10-07      00N                       Rheumatology       Urgent   \n",
       "102     2019-10-07      00N                     Sleep Medicine      Routine   \n",
       "103     2019-10-07      00N                   Surgery - Breast  2 Week Wait   \n",
       "104     2019-10-07      00N                   Surgery - Breast      Routine   \n",
       "...            ...      ...                                ...          ...   \n",
       "592679  2020-12-21      99M  Surgery - Not Otherwise Specified       Urgent   \n",
       "592680  2020-12-21      99M                 Surgery - Vascular      Routine   \n",
       "592681  2020-12-21      99M                 Surgery - Vascular       Urgent   \n",
       "592682  2020-12-21      99M                            Urology      Routine   \n",
       "592683  2020-12-21      99M                            Urology       Urgent   \n",
       "\n",
       "        referrals  \n",
       "100            20  \n",
       "101             3  \n",
       "102             3  \n",
       "103             9  \n",
       "104             4  \n",
       "...           ...  \n",
       "592679          2  \n",
       "592680          2  \n",
       "592681          2  \n",
       "592682         25  \n",
       "592683         11  \n",
       "\n",
       "[592584 rows x 5 columns]"
      ]
     },
     "execution_count": 36,
     "metadata": {},
     "output_type": "execute_result"
    }
   ],
   "source": [
    "df.iloc[100:,0:]"
   ]
  },
  {
   "cell_type": "markdown",
   "metadata": {},
   "source": [
    "`.loc`  is best practice for filtering on a column"
   ]
  },
  {
   "cell_type": "code",
   "execution_count": null,
   "metadata": {},
   "outputs": [],
   "source": [
    "df.loc[df.priority == 'Routine']"
   ]
  },
  {
   "cell_type": "markdown",
   "metadata": {},
   "source": [
    "`.loc` is also useful if you want to filter **both** rows and columns at the same time"
   ]
  },
  {
   "cell_type": "code",
   "execution_count": null,
   "metadata": {
    "scrolled": true
   },
   "outputs": [],
   "source": [
    "# Select one or more column from the filtered results.\n",
    "df.loc[df.ccg_code == '00L', [\"week_start\", 'referrals']]"
   ]
  },
  {
   "cell_type": "markdown",
   "metadata": {},
   "source": [
    "**Sorting**"
   ]
  },
  {
   "cell_type": "code",
   "execution_count": null,
   "metadata": {
    "scrolled": true
   },
   "outputs": [],
   "source": [
    "# Sort a Series.\n",
    "df[\"referrals\"].sort_values(ascending=False)"
   ]
  },
  {
   "cell_type": "markdown",
   "metadata": {},
   "source": [
    "## Exercise\n",
    "\n",
    "* Create a new table called 'cardiology', that only includes cardiology specialty\n",
    "* Calculate the average referrals in cardiology between 2020-06-01 and 2020-06-30\n",
    "* sort the data by ascending date"
   ]
  },
  {
   "cell_type": "code",
   "execution_count": null,
   "metadata": {},
   "outputs": [],
   "source": []
  },
  {
   "cell_type": "code",
   "execution_count": null,
   "metadata": {},
   "outputs": [],
   "source": []
  },
  {
   "cell_type": "markdown",
   "metadata": {},
   "source": [
    "<a id=\"columns\"></a>\n",
    "### Renaming, Adding, and Removing Columns\n",
    "\n",
    "- **Objective:** Manipulate `DataFrame` columns."
   ]
  },
  {
   "cell_type": "code",
   "execution_count": null,
   "metadata": {},
   "outputs": [],
   "source": [
    "df.sample()"
   ]
  },
  {
   "cell_type": "code",
   "execution_count": null,
   "metadata": {},
   "outputs": [],
   "source": [
    "# Rename one or more columns in a single output using value mapping.\n",
    "df.rename(columns={'week_start':'hello_there', 'referrals':'some_other_metric'})"
   ]
  },
  {
   "cell_type": "code",
   "execution_count": null,
   "metadata": {},
   "outputs": [],
   "source": [
    "# Replace all column names using a list of matching length\n",
    "cols = ['week_start', 'ccg_code', 'specialty', 'priority', 'referrals'] \n",
    "\n",
    "# Replace after file has already been read into Python.\n",
    "df.columns = drink_cols\n",
    "\n",
    "df.head()"
   ]
  },
  {
   "cell_type": "markdown",
   "metadata": {},
   "source": [
    "**Removing Columns**"
   ]
  },
  {
   "cell_type": "code",
   "execution_count": 39,
   "metadata": {},
   "outputs": [
    {
     "data": {
      "text/html": [
       "<div>\n",
       "<style scoped>\n",
       "    .dataframe tbody tr th:only-of-type {\n",
       "        vertical-align: middle;\n",
       "    }\n",
       "\n",
       "    .dataframe tbody tr th {\n",
       "        vertical-align: top;\n",
       "    }\n",
       "\n",
       "    .dataframe thead th {\n",
       "        text-align: right;\n",
       "    }\n",
       "</style>\n",
       "<table border=\"1\" class=\"dataframe\">\n",
       "  <thead>\n",
       "    <tr style=\"text-align: right;\">\n",
       "      <th></th>\n",
       "      <th>ccg_code</th>\n",
       "      <th>specialty</th>\n",
       "      <th>priority</th>\n",
       "      <th>referrals</th>\n",
       "    </tr>\n",
       "  </thead>\n",
       "  <tbody>\n",
       "    <tr>\n",
       "      <th>0</th>\n",
       "      <td>00L</td>\n",
       "      <td>(blank)</td>\n",
       "      <td>Routine</td>\n",
       "      <td>13</td>\n",
       "    </tr>\n",
       "    <tr>\n",
       "      <th>1</th>\n",
       "      <td>00L</td>\n",
       "      <td>(blank)</td>\n",
       "      <td>Urgent</td>\n",
       "      <td>1</td>\n",
       "    </tr>\n",
       "    <tr>\n",
       "      <th>2</th>\n",
       "      <td>00L</td>\n",
       "      <td>2WW</td>\n",
       "      <td>2 Week Wait</td>\n",
       "      <td>349</td>\n",
       "    </tr>\n",
       "    <tr>\n",
       "      <th>3</th>\n",
       "      <td>00L</td>\n",
       "      <td>Allergy</td>\n",
       "      <td>Routine</td>\n",
       "      <td>3</td>\n",
       "    </tr>\n",
       "    <tr>\n",
       "      <th>4</th>\n",
       "      <td>00L</td>\n",
       "      <td>Cardiology</td>\n",
       "      <td>Routine</td>\n",
       "      <td>84</td>\n",
       "    </tr>\n",
       "    <tr>\n",
       "      <th>...</th>\n",
       "      <td>...</td>\n",
       "      <td>...</td>\n",
       "      <td>...</td>\n",
       "      <td>...</td>\n",
       "    </tr>\n",
       "    <tr>\n",
       "      <th>592679</th>\n",
       "      <td>99M</td>\n",
       "      <td>Surgery - Not Otherwise Specified</td>\n",
       "      <td>Urgent</td>\n",
       "      <td>2</td>\n",
       "    </tr>\n",
       "    <tr>\n",
       "      <th>592680</th>\n",
       "      <td>99M</td>\n",
       "      <td>Surgery - Vascular</td>\n",
       "      <td>Routine</td>\n",
       "      <td>2</td>\n",
       "    </tr>\n",
       "    <tr>\n",
       "      <th>592681</th>\n",
       "      <td>99M</td>\n",
       "      <td>Surgery - Vascular</td>\n",
       "      <td>Urgent</td>\n",
       "      <td>2</td>\n",
       "    </tr>\n",
       "    <tr>\n",
       "      <th>592682</th>\n",
       "      <td>99M</td>\n",
       "      <td>Urology</td>\n",
       "      <td>Routine</td>\n",
       "      <td>25</td>\n",
       "    </tr>\n",
       "    <tr>\n",
       "      <th>592683</th>\n",
       "      <td>99M</td>\n",
       "      <td>Urology</td>\n",
       "      <td>Urgent</td>\n",
       "      <td>11</td>\n",
       "    </tr>\n",
       "  </tbody>\n",
       "</table>\n",
       "<p>592684 rows × 4 columns</p>\n",
       "</div>"
      ],
      "text/plain": [
       "       ccg_code                          specialty     priority  referrals\n",
       "0           00L                            (blank)      Routine         13\n",
       "1           00L                            (blank)       Urgent          1\n",
       "2           00L                                2WW  2 Week Wait        349\n",
       "3           00L                            Allergy      Routine          3\n",
       "4           00L                         Cardiology      Routine         84\n",
       "...         ...                                ...          ...        ...\n",
       "592679      99M  Surgery - Not Otherwise Specified       Urgent          2\n",
       "592680      99M                 Surgery - Vascular      Routine          2\n",
       "592681      99M                 Surgery - Vascular       Urgent          2\n",
       "592682      99M                            Urology      Routine         25\n",
       "592683      99M                            Urology       Urgent         11\n",
       "\n",
       "[592684 rows x 4 columns]"
      ]
     },
     "execution_count": 39,
     "metadata": {},
     "output_type": "execute_result"
    }
   ],
   "source": [
    "# axis=0 for rows, 1 for columns\n",
    "df.drop('week_start', axis=1)"
   ]
  },
  {
   "cell_type": "code",
   "execution_count": null,
   "metadata": {},
   "outputs": [],
   "source": [
    "df.head()"
   ]
  },
  {
   "cell_type": "markdown",
   "metadata": {},
   "source": [
    "#### **Handling missing data**"
   ]
  },
  {
   "cell_type": "code",
   "execution_count": null,
   "metadata": {},
   "outputs": [],
   "source": [
    "# Missing values are usually excluded in calculations by default.\n",
    "df[\"ccg_code\"].value_counts()              \n",
    "# Excludes missing values in the calculation"
   ]
  },
  {
   "cell_type": "code",
   "execution_count": null,
   "metadata": {},
   "outputs": [],
   "source": [
    "# Includes missing values\n",
    "df[\"ccg_code\"].value_counts(dropna=False)"
   ]
  },
  {
   "cell_type": "code",
   "execution_count": null,
   "metadata": {
    "scrolled": true
   },
   "outputs": [],
   "source": [
    "# Find missing values in a Series.\n",
    "# True if missing, False if not missing\n",
    "df[\"referrals\"].isnull()"
   ]
  },
  {
   "cell_type": "code",
   "execution_count": null,
   "metadata": {},
   "outputs": [],
   "source": [
    "# Count the missing values — sum() works because True is 1 and False is 0.\n",
    "df[\"referrals\"].isnull().sum()"
   ]
  },
  {
   "cell_type": "code",
   "execution_count": null,
   "metadata": {},
   "outputs": [],
   "source": [
    "# Only show rows where referrals is not missing.\n",
    "df[\"referrals\"].isnull().notnull()]"
   ]
  },
  {
   "cell_type": "markdown",
   "metadata": {},
   "source": [
    "**Dropping Missing Values**"
   ]
  },
  {
   "cell_type": "code",
   "execution_count": null,
   "metadata": {},
   "outputs": [],
   "source": [
    "# Drop a row if ANY values are missing from any column — can be dangerous!\n",
    "drinks.dropna()"
   ]
  },
  {
   "cell_type": "code",
   "execution_count": null,
   "metadata": {},
   "outputs": [],
   "source": [
    "# Drop a row only if ALL values are missing.\n",
    "drinks.dropna(how='all')"
   ]
  },
  {
   "cell_type": "markdown",
   "metadata": {},
   "source": [
    "### An easy pivot table\n",
    "https://pandas.pydata.org/docs/reference/api/pandas.pivot_table.html"
   ]
  },
  {
   "cell_type": "code",
   "execution_count": 3,
   "metadata": {},
   "outputs": [
    {
     "data": {
      "text/html": [
       "<div>\n",
       "<style scoped>\n",
       "    .dataframe tbody tr th:only-of-type {\n",
       "        vertical-align: middle;\n",
       "    }\n",
       "\n",
       "    .dataframe tbody tr th {\n",
       "        vertical-align: top;\n",
       "    }\n",
       "\n",
       "    .dataframe thead th {\n",
       "        text-align: right;\n",
       "    }\n",
       "</style>\n",
       "<table border=\"1\" class=\"dataframe\">\n",
       "  <thead>\n",
       "    <tr style=\"text-align: right;\">\n",
       "      <th></th>\n",
       "      <th>week_start</th>\n",
       "      <th>ccg_code</th>\n",
       "      <th>specialty</th>\n",
       "      <th>priority</th>\n",
       "      <th>referrals</th>\n",
       "    </tr>\n",
       "  </thead>\n",
       "  <tbody>\n",
       "    <tr>\n",
       "      <th>84822</th>\n",
       "      <td>2019-11-25</td>\n",
       "      <td>07G</td>\n",
       "      <td>Surgery - Vascular</td>\n",
       "      <td>Routine</td>\n",
       "      <td>7</td>\n",
       "    </tr>\n",
       "  </tbody>\n",
       "</table>\n",
       "</div>"
      ],
      "text/plain": [
       "       week_start ccg_code           specialty priority  referrals\n",
       "84822  2019-11-25      07G  Surgery - Vascular  Routine          7"
      ]
     },
     "execution_count": 3,
     "metadata": {},
     "output_type": "execute_result"
    }
   ],
   "source": [
    "df.sample()"
   ]
  },
  {
   "cell_type": "code",
   "execution_count": 21,
   "metadata": {},
   "outputs": [
    {
     "data": {
      "text/plain": [
       "<matplotlib.axes._subplots.AxesSubplot at 0x11fae9890>"
      ]
     },
     "execution_count": 21,
     "metadata": {},
     "output_type": "execute_result"
    },
    {
     "data": {
      "image/png": "[encoded data removed]",
      "text/plain": [
       "<Figure size 720x360 with 1 Axes>"
      ]
     },
     "metadata": {
      "needs_background": "light"
     },
     "output_type": "display_data"
    }
   ],
   "source": [
    "vals = ['referrals']\n",
    "idx=['week_start']\n",
    "cols=['priority']\n",
    "\n",
    "pd.pivot_table(df,values=vals,index=idx,columns=cols).plot(figsize=(10,5))"
   ]
  },
  {
   "cell_type": "markdown",
   "metadata": {},
   "source": [
    "### Downloading to excel or csv"
   ]
  },
  {
   "cell_type": "code",
   "execution_count": 14,
   "metadata": {},
   "outputs": [],
   "source": [
    "two_week_wait.to_csv('/Users/jackpickard/Downloads/a_cool_download.csv')"
   ]
  },
  {
   "cell_type": "markdown",
   "metadata": {},
   "source": [
    "### Exercise 2\n",
    "\n",
    "* Create a new table called iow_ccg which contains only data from Isle of Wight CCG ('10L')\n",
    "* Remove rows where specialty is '(blank)' // TIP: use != \n",
    "* Create a pivot table summing referrals where the index is week_start and columns are specialty\n",
    "* Download the pivot table as a csv file to your downloads folder (or anywhere you want)"
   ]
  },
  {
   "cell_type": "code",
   "execution_count": null,
   "metadata": {},
   "outputs": [],
   "source": []
  },
  {
   "cell_type": "code",
   "execution_count": null,
   "metadata": {},
   "outputs": [],
   "source": []
  }
 ],
 "metadata": {
  "kernelspec": {
   "display_name": "Python 3",
   "language": "python",
   "name": "python3"
  },
  "language_info": {
   "codemirror_mode": {
    "name": "ipython",
    "version": 3
   },
   "file_extension": ".py",
   "mimetype": "text/x-python",
   "name": "python",
   "nbconvert_exporter": "python",
   "pygments_lexer": "ipython3",
   "version": "3.7.9"
  }
 },
 "nbformat": 4,
 "nbformat_minor": 4
}
