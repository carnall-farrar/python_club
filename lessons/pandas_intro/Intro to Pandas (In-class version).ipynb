{
 "cells": [
  {
   "cell_type": "markdown",
   "id": "99266908",
   "metadata": {},
   "source": [
    "# Introduction to Pandas"
   ]
  },
  {
   "cell_type": "markdown",
   "id": "7092de4f",
   "metadata": {},
   "source": [
    "<img src=\"https://miro.medium.com/max/1400/1*6d5dw6dPhy4vBp2vRW6uzw.png\" width = 500>"
   ]
  },
  {
   "cell_type": "markdown",
   "id": "7b366154",
   "metadata": {},
   "source": [
    "## Learning Objectives\n",
    "\n",
    "**After this lesson, you will be able to:**\n",
    "- Define what pandas is and how it relates to data analysis/data science.\n",
    "- Manipulate pandas dataframes and series.\n",
    "- Read in csv data from a variety of places.\n",
    "- Filter and sort data using pandas.\n",
    "- Manipulate dataframe columns.\n",
    "- Know how to handle null and missing values."
   ]
  },
  {
   "cell_type": "markdown",
   "id": "972339ed",
   "metadata": {},
   "source": [
    "## What are python libraries?\n",
    "\n",
    "In Lesson 1 we learned to create functions - blocks of code you expect to re-use multiple times. If you think there are other people who would need it as well, you can make your code available for others to install and use - these are called libraries.\n",
    "\n",
    "## What is pandas?\n",
    "\n",
    "- `pandas` is a data analysis library for Python\n",
    "- stands for \"panel data\"\n",
    "\n",
    "It helps with data analysis because it is: \n",
    "- fast\n",
    "- has lots of useful functionality\n",
    "- a large open source community\n",
    "\n",
    "We have already downloaded pandas as part of the installation instructions, now we need to import it into this notebook:"
   ]
  },
  {
   "cell_type": "code",
   "execution_count": null,
   "id": "6dffab94",
   "metadata": {},
   "outputs": [],
   "source": []
  },
  {
   "cell_type": "markdown",
   "id": "2f38ea8d",
   "metadata": {},
   "source": [
    "Every Python library will have documentation online:\n",
    "\n",
    "https://pandas.pydata.org/docs/reference/index.html\n",
    "\n",
    "I generally find google has better search functionality than internal search on the website.\n",
    "\n",
    "Have a look at the different fields in this example: \n",
    "\n",
    "https://pandas.pydata.org/docs/reference/api/pandas.DataFrame.groupby.html?highlight=groupby#pandas.DataFrame.groupby"
   ]
  },
  {
   "cell_type": "markdown",
   "id": "861ec985",
   "metadata": {},
   "source": [
    "## A few quick examples of things you can do in pandas"
   ]
  },
  {
   "cell_type": "code",
   "execution_count": null,
   "id": "08da3b80",
   "metadata": {},
   "outputs": [],
   "source": []
  },
  {
   "cell_type": "markdown",
   "id": "dce89775",
   "metadata": {},
   "source": [
    "And also merge multiple datasets.\n",
    "\n",
    "CCG Info: https://opendata.arcgis.com/api/v3/datasets/bfb87228cf9e4c44bad0cffa353d0fc8_0/downloads/data?format=csv&spatialRefId=4326"
   ]
  },
  {
   "cell_type": "code",
   "execution_count": 1,
   "id": "c24264a3",
   "metadata": {},
   "outputs": [],
   "source": [
    "ccg_url = 'https://opendata.arcgis.com/api/v3/datasets/bfb87228cf9e4c44bad0cffa353d0fc8_0/downloads/data?format=csv&spatialRefId=4326'"
   ]
  },
  {
   "cell_type": "markdown",
   "id": "b1817774",
   "metadata": {},
   "source": [
    "## Let's start with the building blocks of pandas\n",
    "\n",
    "Pandas introduces two important new data types: `Series` and `DataFrame`"
   ]
  },
  {
   "cell_type": "markdown",
   "id": "d58fcb63",
   "metadata": {},
   "source": [
    "`Series`\n",
    "\n",
    "A `Series` is a sequence of items, where each item has a unique label (called an `index`). At first it might seem the same as a list, but there are a few differences:\n",
    "- They can have custom indices like a dictionary\n",
    "- They allow vectorised operations\n",
    "- They are the building blocks of dataframes"
   ]
  },
  {
   "cell_type": "code",
   "execution_count": null,
   "id": "6e9e017f",
   "metadata": {},
   "outputs": [],
   "source": []
  },
  {
   "cell_type": "markdown",
   "id": "d9d1e0b1",
   "metadata": {},
   "source": [
    "`DataFrame`\n",
    "\n",
    "A `DataFrame` is a table of data. It is a collection on pandas series. Each row has a unique label (the `row index`), and each column has a unique label (the `column index`)."
   ]
  },
  {
   "cell_type": "code",
   "execution_count": null,
   "id": "ee854d2b",
   "metadata": {},
   "outputs": [],
   "source": []
  },
  {
   "cell_type": "code",
   "execution_count": null,
   "id": "6b6dabc4",
   "metadata": {},
   "outputs": [],
   "source": []
  },
  {
   "cell_type": "markdown",
   "id": "328fb8dd",
   "metadata": {},
   "source": [
    "To review: A pandas series is a list of data with an associated index, and a pandas dataframe is a collection of series with a shared index."
   ]
  },
  {
   "cell_type": "markdown",
   "id": "beb03939",
   "metadata": {},
   "source": [
    "### Reading Files, Selecting Columns, and Summarizing"
   ]
  },
  {
   "cell_type": "markdown",
   "id": "7a632218",
   "metadata": {},
   "source": [
    "To read in a file, we use the method read_csv (or read_excel), and the path to the file. As you saw above we can also use a url."
   ]
  },
  {
   "cell_type": "code",
   "execution_count": null,
   "id": "1311aa3c",
   "metadata": {},
   "outputs": [],
   "source": []
  },
  {
   "cell_type": "markdown",
   "id": "ccc56dce",
   "metadata": {},
   "source": [
    "There are a few in-built methods that can help us to get a feel for the data:"
   ]
  },
  {
   "cell_type": "code",
   "execution_count": null,
   "id": "918b4ef1",
   "metadata": {},
   "outputs": [],
   "source": []
  },
  {
   "cell_type": "code",
   "execution_count": null,
   "id": "f9dc4b0b",
   "metadata": {},
   "outputs": [],
   "source": []
  },
  {
   "cell_type": "code",
   "execution_count": null,
   "id": "e74124ac",
   "metadata": {},
   "outputs": [],
   "source": []
  },
  {
   "cell_type": "code",
   "execution_count": null,
   "id": "8feca58f",
   "metadata": {},
   "outputs": [],
   "source": []
  },
  {
   "cell_type": "markdown",
   "id": "242faf35",
   "metadata": {},
   "source": [
    "If we want to look at individual columns, we use square brackets."
   ]
  },
  {
   "cell_type": "code",
   "execution_count": null,
   "id": "624f9773",
   "metadata": {},
   "outputs": [],
   "source": []
  },
  {
   "cell_type": "code",
   "execution_count": null,
   "id": "70acca44",
   "metadata": {},
   "outputs": [],
   "source": []
  },
  {
   "cell_type": "code",
   "execution_count": null,
   "id": "9c611239",
   "metadata": {},
   "outputs": [],
   "source": []
  },
  {
   "cell_type": "markdown",
   "id": "1a425dc2",
   "metadata": {},
   "source": [
    "## Exercise\n",
    "\n",
    "1) Read in the data from this dataset: https://raw.githubusercontent.com/carnall-farrar/python_club/master/data/top_50_songs.csv\n",
    "\n",
    "2) Print a list of all genres \n",
    "\n",
    "3) Find the average popularity score"
   ]
  },
  {
   "cell_type": "code",
   "execution_count": null,
   "id": "66d0a6db",
   "metadata": {},
   "outputs": [],
   "source": []
  },
  {
   "cell_type": "code",
   "execution_count": null,
   "id": "ac3bd058",
   "metadata": {},
   "outputs": [],
   "source": []
  },
  {
   "cell_type": "markdown",
   "id": "66ca2110",
   "metadata": {},
   "source": [
    "## Filtering and sorting\n",
    "\n",
    "Pandas makes it very easy to filter the data, but its good to understand what's happening under the hood when we do this.\n",
    "\n",
    "Performing simple comparisons gives as a series of boolean values"
   ]
  },
  {
   "cell_type": "code",
   "execution_count": null,
   "id": "9f96599f",
   "metadata": {},
   "outputs": [],
   "source": []
  },
  {
   "cell_type": "markdown",
   "id": "a1c519af",
   "metadata": {},
   "source": [
    "We then use that boolean series to pull out the rows that we want. We use the method `loc`:"
   ]
  },
  {
   "cell_type": "code",
   "execution_count": null,
   "id": "8838e209",
   "metadata": {},
   "outputs": [],
   "source": []
  },
  {
   "cell_type": "markdown",
   "id": "7203b8c5",
   "metadata": {},
   "source": [
    "The syntax is:\n",
    "\n",
    "`my_dataframe.loc[<filter_condition>, <column>]`\n",
    "\n",
    "We can use this both to filter the data, and also edit the values for a subset of data."
   ]
  },
  {
   "cell_type": "code",
   "execution_count": null,
   "id": "05fd08a4",
   "metadata": {},
   "outputs": [],
   "source": []
  },
  {
   "cell_type": "markdown",
   "id": "94edeaf1",
   "metadata": {},
   "source": [
    "There is a also a method called `iloc`, which uses numerical conditions rather than qualitative"
   ]
  },
  {
   "cell_type": "code",
   "execution_count": null,
   "id": "0069be3b",
   "metadata": {},
   "outputs": [],
   "source": []
  },
  {
   "cell_type": "markdown",
   "id": "5d494cba",
   "metadata": {},
   "source": [
    " We can use as many conditions as we like!"
   ]
  },
  {
   "cell_type": "code",
   "execution_count": null,
   "id": "00ac6baa",
   "metadata": {},
   "outputs": [],
   "source": []
  },
  {
   "cell_type": "markdown",
   "id": "506a0682",
   "metadata": {},
   "source": [
    "## Exercise\n",
    "\n",
    "1) Using the song data from the previous exercise, filter to just songs by Rihanna\n",
    "\n",
    "2) Filter to pop songs with a Popularity of over 80"
   ]
  },
  {
   "cell_type": "code",
   "execution_count": null,
   "id": "1a6ad91c",
   "metadata": {},
   "outputs": [],
   "source": []
  },
  {
   "cell_type": "code",
   "execution_count": null,
   "id": "acd072a7",
   "metadata": {},
   "outputs": [],
   "source": []
  },
  {
   "cell_type": "markdown",
   "id": "83825613",
   "metadata": {},
   "source": [
    "## Renaming and removing columns"
   ]
  },
  {
   "cell_type": "markdown",
   "id": "9571e57b",
   "metadata": {},
   "source": [
    "We can rename specific columns using a dictionary"
   ]
  },
  {
   "cell_type": "code",
   "execution_count": null,
   "id": "c33c45ad",
   "metadata": {},
   "outputs": [],
   "source": []
  },
  {
   "cell_type": "markdown",
   "id": "ae7b1367",
   "metadata": {},
   "source": [
    "We can also rename all the columns in one go with a list."
   ]
  },
  {
   "cell_type": "code",
   "execution_count": null,
   "id": "ce3c5030",
   "metadata": {},
   "outputs": [],
   "source": []
  },
  {
   "cell_type": "markdown",
   "id": "4e573e7d",
   "metadata": {},
   "source": [
    "To remove columns we can either use drop or select a subset"
   ]
  },
  {
   "cell_type": "code",
   "execution_count": null,
   "id": "d9854681",
   "metadata": {},
   "outputs": [],
   "source": []
  },
  {
   "cell_type": "code",
   "execution_count": null,
   "id": "3d3f85f5",
   "metadata": {},
   "outputs": [],
   "source": []
  },
  {
   "cell_type": "markdown",
   "id": "7ebb3348",
   "metadata": {},
   "source": [
    "Note the difference between performing the operation in place and reassigning the change to the variable"
   ]
  },
  {
   "cell_type": "markdown",
   "id": "0f16db26",
   "metadata": {},
   "source": [
    "## Handling missing data"
   ]
  },
  {
   "cell_type": "markdown",
   "id": "07443191",
   "metadata": {},
   "source": [
    "We can locate rows with missing data using `isnull()`, or negate it with `~`"
   ]
  },
  {
   "cell_type": "code",
   "execution_count": null,
   "id": "55e87d7b",
   "metadata": {},
   "outputs": [],
   "source": []
  },
  {
   "cell_type": "markdown",
   "id": "14802426",
   "metadata": {},
   "source": [
    "If we want to remove missing data we can use `dropna()` - let's take a look at the documention:\n",
    "\n",
    "https://pandas.pydata.org/docs/reference/api/pandas.DataFrame.dropna.html\n",
    "\n",
    "Make sure this is actually what you want to do!"
   ]
  },
  {
   "cell_type": "markdown",
   "id": "9df2de88",
   "metadata": {},
   "source": [
    "## Saving to csv"
   ]
  },
  {
   "cell_type": "markdown",
   "id": "53f04218",
   "metadata": {},
   "source": [
    "The command `to_csv` will save a csv of your data which you can then import/open in Excel. We specify the location of the file similarly to when we read in data.\n",
    "\n",
    "I usually include `index = False` if my data has no meaningful index."
   ]
  },
  {
   "cell_type": "code",
   "execution_count": null,
   "id": "77dded59",
   "metadata": {},
   "outputs": [],
   "source": []
  },
  {
   "cell_type": "markdown",
   "id": "06ecd227",
   "metadata": {},
   "source": [
    "## Exercise\n",
    "\n",
    "1) Rename the title column to song name\n",
    "\n",
    "2) Filter out all the columns where the artist name is missing\n",
    "\n",
    "3) Save the filtered data to csv - please put it in the same data folder as the data we read in at the start of the class"
   ]
  },
  {
   "cell_type": "code",
   "execution_count": null,
   "id": "f9951987",
   "metadata": {},
   "outputs": [],
   "source": []
  },
  {
   "cell_type": "code",
   "execution_count": null,
   "id": "f5b5091e",
   "metadata": {},
   "outputs": [],
   "source": []
  },
  {
   "cell_type": "code",
   "execution_count": null,
   "id": "a1464d49",
   "metadata": {},
   "outputs": [],
   "source": []
  },
  {
   "cell_type": "code",
   "execution_count": null,
   "id": "a649db10",
   "metadata": {},
   "outputs": [],
   "source": []
  },
  {
   "cell_type": "code",
   "execution_count": null,
   "id": "737e4bb4",
   "metadata": {},
   "outputs": [],
   "source": []
  }
 ],
 "metadata": {
  "kernelspec": {
   "display_name": "Python 3 (ipykernel)",
   "language": "python",
   "name": "python3"
  },
  "language_info": {
   "codemirror_mode": {
    "name": "ipython",
    "version": 3
   },
   "file_extension": ".py",
   "mimetype": "text/x-python",
   "name": "python",
   "nbconvert_exporter": "python",
   "pygments_lexer": "ipython3",
   "version": "3.9.5"
  }
 },
 "nbformat": 4,
 "nbformat_minor": 5
}
