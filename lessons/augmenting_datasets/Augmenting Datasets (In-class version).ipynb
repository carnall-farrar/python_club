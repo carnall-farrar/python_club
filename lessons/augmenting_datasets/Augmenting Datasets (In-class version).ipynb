{
 "cells": [
  {
   "cell_type": "code",
   "execution_count": 1,
   "metadata": {},
   "outputs": [],
   "source": [
    "import pandas as pd"
   ]
  },
  {
   "cell_type": "markdown",
   "metadata": {},
   "source": [
    "# Augmenting Datasets\n",
    "\n",
    "This week we will be covering augmenting datasets. \n",
    "\n",
    "![](pandas_cartoon.jpeg)\n",
    "\n",
    "## What does that mean?\n",
    "\n",
    "One dataset is good. Two datasets is better. One superpower that Pandas gives you is the ability to combine datasets together. \n",
    "\n",
    "There are several ways in which two tables can be joined. These are most easily visualised using Venn diagrams.\n",
    "\n",
    "![](venn.png)\n",
    "\n",
    "For example if you have a dataset of inpatient stays and a dataset of referrals we can combine the two to know the referral source of every inpatient stay in our data.\n",
    "\n",
    "| Patient_id   | Referal Source  | Referal Consultant |\n",
    "|--------------|-----------------|--------------------|\n",
    "| 1            | Cardio          | Geoff              |\n",
    "| 2            | GP              | Jeff               |\n",
    "| 5            | GP              | Goff               |\n",
    "\n",
    "<br>\n",
    "\n",
    "| Patient_id   | Inpatient Start  | Inpatient End | Length of Stay |\n",
    "|--------------|------------------|---------------|----------------|\n",
    "| 1            | 2021-10-15       | 2021-10-19    | 4              |\n",
    "| 2            | 2021-01-15       | 2021-02-15    | 31             |\n",
    "| 3            | 2021-01-15       | 2021-03-15    | 62             |\n",
    "| 4            | 2021-01-15       | 2021-02-12    | 28             |\n",
    "\n",
    "These two datasets can be combined by joining on the common columns. In this case on the patient id. \n",
    "\n",
    "### Inner Join\n",
    "\n",
    "| Patient_id   | Referal Source  | Referal Consultant | Inpatient Start | Inpatient End | Length of Stay |\n",
    "|--------------|-----------------|--------------------|-----------------|---------------|----------------|\n",
    "| 1            | Cardio          | Geoff              | 2021-10-15      | 2021-10-19    | 4              |\n",
    "| 2            | GP              | Jeff               | 2021-01-15      | 2021-02-15    | 31             |\n",
    "\n",
    "### Left Join \n",
    "\n",
    "| Patient_id   | Referal Source  | Referal Consultant | Inpatient Start | Inpatient End | Length of Stay |\n",
    "|--------------|-----------------|--------------------|-----------------|---------------|----------------|\n",
    "| 1            | Cardio          | Geoff              | 2021-10-15      | 2021-10-19    | 4              |\n",
    "| 2            | GP              | Jeff               | 2021-01-15      | 2021-02-15    | 31             |\n",
    "| 5            | GP              | Goff               | NA              | NA            | NA             |\n",
    "\n",
    "\n",
    "### Right Join \n",
    "\n",
    "| Patient_id   | Referal Source  | Referal Consultant | Inpatient Start | Inpatient End | Length of Stay |\n",
    "|--------------|-----------------|--------------------|-----------------|---------------|----------------|\n",
    "| 1            | Cardio          | Geoff              | 2021-10-15      | 2021-10-19    | 4              |\n",
    "| 2            | GP              | Jeff               | 2021-01-15      | 2021-02-15    | 31             |\n",
    "| 3            | NA              | NA                 | 2021-01-15      | 2021-03-15    | 62             |\n",
    "| 4            | NA              | NA                 | 2021-01-15      | 2021-02-12    | 28             |\n",
    "\n",
    "\n",
    "### Outer Join \n",
    "\n",
    "| Patient_id   | Referal Source  | Referal Consultant | Inpatient Start | Inpatient End | Length of Stay |\n",
    "|--------------|-----------------|--------------------|-----------------|---------------|----------------|\n",
    "| 1            | Cardio          | Geoff              | 2021-10-15      | 2021-10-19    | 4              |\n",
    "| 2            | GP              | Jeff               | 2021-01-15      | 2021-02-15    | 31             |\n",
    "| 3            | NA              | NA                 | 2021-01-15      | 2021-03-15    | 62             |\n",
    "| 4            | NA              | NA                 | 2021-01-15      | 2021-02-12    | 28             |\n",
    "| 5            | GP              | Goff               | NA              | NA            | NA             |\n",
    "\n",
    "\n"
   ]
  },
  {
   "cell_type": "markdown",
   "metadata": {},
   "source": [
    "Let's see how we code that!"
   ]
  },
  {
   "cell_type": "code",
   "execution_count": 24,
   "metadata": {},
   "outputs": [
    {
     "data": {
      "text/html": [
       "<div>\n",
       "<style scoped>\n",
       "    .dataframe tbody tr th:only-of-type {\n",
       "        vertical-align: middle;\n",
       "    }\n",
       "\n",
       "    .dataframe tbody tr th {\n",
       "        vertical-align: top;\n",
       "    }\n",
       "\n",
       "    .dataframe thead th {\n",
       "        text-align: right;\n",
       "    }\n",
       "</style>\n",
       "<table border=\"1\" class=\"dataframe\">\n",
       "  <thead>\n",
       "    <tr style=\"text-align: right;\">\n",
       "      <th></th>\n",
       "      <th>id</th>\n",
       "      <th>name</th>\n",
       "      <th>ethnicity</th>\n",
       "    </tr>\n",
       "  </thead>\n",
       "  <tbody>\n",
       "    <tr>\n",
       "      <th>0</th>\n",
       "      <td>1</td>\n",
       "      <td>Tom</td>\n",
       "      <td>A</td>\n",
       "    </tr>\n",
       "    <tr>\n",
       "      <th>1</th>\n",
       "      <td>2</td>\n",
       "      <td>Jenny</td>\n",
       "      <td>H</td>\n",
       "    </tr>\n",
       "    <tr>\n",
       "      <th>2</th>\n",
       "      <td>3</td>\n",
       "      <td>James</td>\n",
       "      <td>M</td>\n",
       "    </tr>\n",
       "    <tr>\n",
       "      <th>3</th>\n",
       "      <td>4</td>\n",
       "      <td>Dan</td>\n",
       "      <td>A</td>\n",
       "    </tr>\n",
       "  </tbody>\n",
       "</table>\n",
       "</div>"
      ],
      "text/plain": [
       "   id   name ethnicity\n",
       "0   1    Tom         A\n",
       "1   2  Jenny         H\n",
       "2   3  James         M\n",
       "3   4    Dan         A"
      ]
     },
     "execution_count": 24,
     "metadata": {},
     "output_type": "execute_result"
    }
   ],
   "source": [
    "df_patient = pd.DataFrame({\n",
    "    'id': [1, 2, 3, 4],\n",
    "    'name': ['Tom', 'Jenny', 'James', 'Dan'],\n",
    "    'ethnicity': ['A', 'H' ,'M', 'A'],\n",
    "})\n",
    "\n",
    "df_patient"
   ]
  },
  {
   "cell_type": "code",
   "execution_count": 25,
   "metadata": {},
   "outputs": [
    {
     "data": {
      "text/html": [
       "<div>\n",
       "<style scoped>\n",
       "    .dataframe tbody tr th:only-of-type {\n",
       "        vertical-align: middle;\n",
       "    }\n",
       "\n",
       "    .dataframe tbody tr th {\n",
       "        vertical-align: top;\n",
       "    }\n",
       "\n",
       "    .dataframe thead th {\n",
       "        text-align: right;\n",
       "    }\n",
       "</style>\n",
       "<table border=\"1\" class=\"dataframe\">\n",
       "  <thead>\n",
       "    <tr style=\"text-align: right;\">\n",
       "      <th></th>\n",
       "      <th>id</th>\n",
       "      <th>age</th>\n",
       "      <th>sex</th>\n",
       "    </tr>\n",
       "  </thead>\n",
       "  <tbody>\n",
       "    <tr>\n",
       "      <th>0</th>\n",
       "      <td>2</td>\n",
       "      <td>31</td>\n",
       "      <td>F</td>\n",
       "    </tr>\n",
       "    <tr>\n",
       "      <th>1</th>\n",
       "      <td>3</td>\n",
       "      <td>20</td>\n",
       "      <td>M</td>\n",
       "    </tr>\n",
       "    <tr>\n",
       "      <th>2</th>\n",
       "      <td>4</td>\n",
       "      <td>40</td>\n",
       "      <td>M</td>\n",
       "    </tr>\n",
       "    <tr>\n",
       "      <th>3</th>\n",
       "      <td>5</td>\n",
       "      <td>70</td>\n",
       "      <td>F</td>\n",
       "    </tr>\n",
       "  </tbody>\n",
       "</table>\n",
       "</div>"
      ],
      "text/plain": [
       "   id  age sex\n",
       "0   2   31   F\n",
       "1   3   20   M\n",
       "2   4   40   M\n",
       "3   5   70   F"
      ]
     },
     "execution_count": 25,
     "metadata": {},
     "output_type": "execute_result"
    }
   ],
   "source": [
    "df_info = pd.DataFrame({\n",
    "    'id': [2, 3, 4, 5],\n",
    "    'age': [31, 20, 40, 70],\n",
    "    'sex': ['F', 'M', 'M', 'F']\n",
    "})\n",
    "\n",
    "df_info"
   ]
  },
  {
   "cell_type": "markdown",
   "metadata": {},
   "source": [
    "The syntax for a join is:\n",
    "\n",
    "pd.merge(table_1, table_2, joining conditions, join type)\n",
    "\n",
    "The default join type is inner join and the default joining conditions are the common columns."
   ]
  },
  {
   "cell_type": "code",
   "execution_count": null,
   "metadata": {},
   "outputs": [],
   "source": []
  },
  {
   "cell_type": "markdown",
   "metadata": {},
   "source": [
    "## What if my columns don't have the same name?"
   ]
  },
  {
   "cell_type": "code",
   "execution_count": 27,
   "metadata": {},
   "outputs": [],
   "source": [
    "df_info_2 = pd.DataFrame({\n",
    "    'patient_id': [2, 3, 4, 5],\n",
    "    'age': [31, 20, 40, 70],\n",
    "    'sex': ['F', 'M', 'M', 'F']\n",
    "})"
   ]
  },
  {
   "cell_type": "code",
   "execution_count": null,
   "metadata": {},
   "outputs": [],
   "source": []
  },
  {
   "cell_type": "markdown",
   "metadata": {},
   "source": [
    "What would we expect this to look like with each method?"
   ]
  },
  {
   "cell_type": "code",
   "execution_count": null,
   "metadata": {},
   "outputs": [],
   "source": []
  },
  {
   "cell_type": "markdown",
   "metadata": {},
   "source": [
    "## What if I don't want to lose data which does not have info?"
   ]
  },
  {
   "cell_type": "code",
   "execution_count": 30,
   "metadata": {},
   "outputs": [
    {
     "data": {
      "text/html": [
       "<div>\n",
       "<style scoped>\n",
       "    .dataframe tbody tr th:only-of-type {\n",
       "        vertical-align: middle;\n",
       "    }\n",
       "\n",
       "    .dataframe tbody tr th {\n",
       "        vertical-align: top;\n",
       "    }\n",
       "\n",
       "    .dataframe thead th {\n",
       "        text-align: right;\n",
       "    }\n",
       "</style>\n",
       "<table border=\"1\" class=\"dataframe\">\n",
       "  <thead>\n",
       "    <tr style=\"text-align: right;\">\n",
       "      <th></th>\n",
       "      <th>id</th>\n",
       "      <th>length_of_stay</th>\n",
       "      <th>date</th>\n",
       "    </tr>\n",
       "  </thead>\n",
       "  <tbody>\n",
       "    <tr>\n",
       "      <th>0</th>\n",
       "      <td>2</td>\n",
       "      <td>31</td>\n",
       "      <td>2019-02-24</td>\n",
       "    </tr>\n",
       "    <tr>\n",
       "      <th>1</th>\n",
       "      <td>2</td>\n",
       "      <td>21</td>\n",
       "      <td>2019-02-25</td>\n",
       "    </tr>\n",
       "    <tr>\n",
       "      <th>2</th>\n",
       "      <td>4</td>\n",
       "      <td>20</td>\n",
       "      <td>2019-02-26</td>\n",
       "    </tr>\n",
       "    <tr>\n",
       "      <th>3</th>\n",
       "      <td>4</td>\n",
       "      <td>40</td>\n",
       "      <td>2019-02-27</td>\n",
       "    </tr>\n",
       "  </tbody>\n",
       "</table>\n",
       "</div>"
      ],
      "text/plain": [
       "   id  length_of_stay       date\n",
       "0   2              31 2019-02-24\n",
       "1   2              21 2019-02-25\n",
       "2   4              20 2019-02-26\n",
       "3   4              40 2019-02-27"
      ]
     },
     "execution_count": 30,
     "metadata": {},
     "output_type": "execute_result"
    }
   ],
   "source": [
    "df_stay = pd.DataFrame({\n",
    "    'id': [2, 2, 4, 4],\n",
    "    'length_of_stay': [31, 21, 20,40],\n",
    "    'date': pd.date_range('2019-02-24', periods=4, freq='D')\n",
    "})\n",
    "\n",
    "df_stay"
   ]
  },
  {
   "cell_type": "code",
   "execution_count": null,
   "metadata": {},
   "outputs": [],
   "source": []
  },
  {
   "cell_type": "markdown",
   "metadata": {},
   "source": [
    "Joining on the index"
   ]
  },
  {
   "cell_type": "code",
   "execution_count": null,
   "metadata": {},
   "outputs": [],
   "source": []
  },
  {
   "cell_type": "markdown",
   "metadata": {},
   "source": [
    "## Exercise\n",
    "\n",
    "Can you use the referals data that we used last week and the csv of ccg data to get the CCG names on the referrals data?"
   ]
  },
  {
   "cell_type": "code",
   "execution_count": 1,
   "metadata": {},
   "outputs": [],
   "source": [
    "referrals_file = '../../data/referrals_oct19_dec20.csv'\n",
    "ccgs_data = 'ccg_2019.csv'"
   ]
  },
  {
   "cell_type": "code",
   "execution_count": null,
   "metadata": {},
   "outputs": [],
   "source": []
  },
  {
   "cell_type": "code",
   "execution_count": null,
   "metadata": {},
   "outputs": [],
   "source": []
  },
  {
   "cell_type": "markdown",
   "metadata": {},
   "source": [
    "## Maps\n",
    "\n",
    "Maps are used for a similar purpose but often for a single column. They are a way of writing a translation dictionary for a coded column.\n",
    "\n",
    "For example you could achieve the same ccg code translation as above by making a dict like this:\n",
    "\n",
    "```python\n",
    "ethnicity_map = {\n",
    "    'A': 'White British',\n",
    "    'M': 'Black or Black British - Caribbean',\n",
    "    'H': 'Asian or Asian British - Indian',\n",
    "}\n",
    "      \n",
    "```\n",
    "\n",
    "You can then apply this map by using the `.map()` method.\n",
    "\n",
    "```python\n",
    "df['mapped_column'] = df['to_be_mapped_column'].map(map_dictionary)\n",
    "```\n"
   ]
  },
  {
   "cell_type": "code",
   "execution_count": null,
   "metadata": {},
   "outputs": [],
   "source": []
  },
  {
   "cell_type": "markdown",
   "metadata": {},
   "source": [
    "## Exercise\n",
    "\n",
    "Can you map the priority types to the following target waiting times (weeks):\n",
    " - 2 Weeks Wait: 2\n",
    " - Urgent: 4\n",
    " - Routine: 18\n",
    " \n",
    "(please note these are not real numbers, do not use them in your analysis)"
   ]
  },
  {
   "cell_type": "code",
   "execution_count": null,
   "metadata": {},
   "outputs": [],
   "source": []
  },
  {
   "cell_type": "markdown",
   "metadata": {},
   "source": [
    "## Apply\n",
    "\n",
    "You can also do something similar by defining your own functions and applying them to each element / row in a dataframe.\n",
    "\n",
    "Applying a function can create a new column which is easily assigned to using the following syntax\n",
    "\n",
    "```python \n",
    "new_column = df['old_column'].apply(function_name)\n",
    "```\n",
    "\n",
    "Note! you only have to pass the callable (ie function name) rather than acutally calling the function\n",
    "\n",
    "The callable will take the column values one by one and use them as arguments for the function.\n",
    "\n",
    "You don't need any brackets!\n",
    "\n",
    "A very silly example:"
   ]
  },
  {
   "cell_type": "code",
   "execution_count": null,
   "metadata": {},
   "outputs": [],
   "source": []
  },
  {
   "cell_type": "markdown",
   "metadata": {},
   "source": [
    "## Exercise\n",
    "\n",
    "1) Use apply to do small number suppression. If there are less than 7 referrals for a category in a given week, change the number to zero."
   ]
  },
  {
   "cell_type": "code",
   "execution_count": null,
   "metadata": {},
   "outputs": [],
   "source": []
  },
  {
   "cell_type": "code",
   "execution_count": null,
   "metadata": {},
   "outputs": [],
   "source": []
  },
  {
   "cell_type": "markdown",
   "metadata": {},
   "source": [
    "2) Use the ccgs data and an inner join to get only the referrals for Cumbria and North East"
   ]
  },
  {
   "cell_type": "code",
   "execution_count": null,
   "metadata": {},
   "outputs": [],
   "source": []
  },
  {
   "cell_type": "code",
   "execution_count": null,
   "metadata": {},
   "outputs": [],
   "source": []
  }
 ],
 "metadata": {
  "interpreter": {
   "hash": "0351938160cbefe348df316e49060979e65dd04b85edb94e446728bc9bd7455f"
  },
  "kernelspec": {
   "display_name": "Python 3",
   "language": "python",
   "name": "python3"
  },
  "language_info": {
   "codemirror_mode": {
    "name": "ipython",
    "version": 3
   },
   "file_extension": ".py",
   "mimetype": "text/x-python",
   "name": "python",
   "nbconvert_exporter": "python",
   "pygments_lexer": "ipython3",
   "version": "3.7.10"
  }
 },
 "nbformat": 4,
 "nbformat_minor": 4
}
