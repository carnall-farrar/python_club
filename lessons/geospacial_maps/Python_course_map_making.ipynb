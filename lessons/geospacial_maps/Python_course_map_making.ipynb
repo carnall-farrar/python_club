{
  "cells": [
    {
      "cell_type": "code",
      "execution_count": null,
      "metadata": {
        "id": "j_k4Plp6p8nY"
      },
      "outputs": [],
      "source": [
        "## Import all necessary packages\n",
        "\n",
        "from urllib.request import urlopen\n",
        "import json\n",
        "import pandas as pd\n",
        "import plotly.graph_objects as go\n"
      ]
    },
    {
      "cell_type": "markdown",
      "metadata": {
        "id": "jlczDW0mp8nZ"
      },
      "source": [
        "## Agenda\n",
        "1. Define function to allow reading of Geojson data\n",
        "2. Learn where to find spacial data and practice reading this into python\n",
        "3. Create a simple map, plotting CCGs of your choice\n",
        "4. Play around with editing the map colours and adding hospital locations on top\n",
        "5. Create a heatmap for LSOAs within your CCG to show deprivation decile by LSOA"
      ]
    },
    {
      "cell_type": "markdown",
      "metadata": {
        "id": "4yAKllnNp8na"
      },
      "source": [
        "## 1. Define useful functions"
      ]
    },
    {
      "cell_type": "code",
      "execution_count": null,
      "metadata": {
        "id": "rKuV_qmjp8nb"
      },
      "outputs": [],
      "source": [
        "## This function allows you to read in the geojson file later on\n",
        "\n",
        "def load_geojson(url, feature_name):\n",
        "    with urlopen(url) as site:\n",
        "        data = json.loads(site.read().decode())\n",
        "        \n",
        "    for k in range(len(data['features'])):\n",
        "        data['features'][k]['id'] = data['features'][k]['properties'][feature_name]\n",
        "        \n",
        "    return data"
      ]
    },
    {
      "cell_type": "markdown",
      "metadata": {
        "id": "3urloOZap8nb"
      },
      "source": [
        "## 2. Read in CCG level spacial data\n",
        "- Geospacial data is found on geoportal, ran by the ONS, at the web address: https://geoportal.statistics.gov.uk/\n",
        "- The CCG boundaries are found by navigating to Boundaries > Health boundaries > Clinical commissioning groups > 2021 boundaries\n",
        "- The boundaries are given with different resolution qualities. Choosing ultra generalised will allow the code to run more efficiently\n",
        "\n",
        "- Once you have clicked on the data set that you would like to use, an information box should appear on the left hand side of your page\n",
        "- Click on 'I want to use this' in the blue bar at the bottom of the information box\n",
        "- Select 'View API resources' and copy the link in the box called 'GeoJSON'\n",
        "- Paste the link below, next to 'ccg_url ='\n",
        "- Note: The links to the geojson data can change from time to time, so if this code does not work next time you run it, you may to need to check back on geoportal for a new link\n"
      ]
    },
    {
      "cell_type": "code",
      "execution_count": null,
      "metadata": {
        "id": "8LB_BsAYp8nb",
        "outputId": "914e7953-b7a6-4233-a438-550da1de12ed"
      },
      "outputs": [
        {
          "ename": "ValueError",
          "evalue": "unknown url type: ''",
          "output_type": "error",
          "traceback": [
            "\u001b[0;31m---------------------------------------------------------------------------\u001b[0m",
            "\u001b[0;31mValueError\u001b[0m                                Traceback (most recent call last)",
            "\u001b[0;32m/var/folders/n2/82gjr6hd3sx79h6lqb79m3sr0000gp/T/ipykernel_22019/2754153532.py\u001b[0m in \u001b[0;36m<module>\u001b[0;34m\u001b[0m\n\u001b[1;32m      1\u001b[0m \u001b[0mccg_url\u001b[0m \u001b[0;34m=\u001b[0m \u001b[0;34m\"\"\u001b[0m\u001b[0;34m\u001b[0m\u001b[0;34m\u001b[0m\u001b[0m\n\u001b[0;32m----> 2\u001b[0;31m \u001b[0mccg\u001b[0m \u001b[0;34m=\u001b[0m \u001b[0mload_geojson\u001b[0m\u001b[0;34m(\u001b[0m\u001b[0mccg_url\u001b[0m\u001b[0;34m,\u001b[0m \u001b[0;34m'CCG21NM'\u001b[0m\u001b[0;34m)\u001b[0m\u001b[0;34m\u001b[0m\u001b[0;34m\u001b[0m\u001b[0m\n\u001b[0m",
            "\u001b[0;32m/var/folders/n2/82gjr6hd3sx79h6lqb79m3sr0000gp/T/ipykernel_22019/2122237771.py\u001b[0m in \u001b[0;36mload_geojson\u001b[0;34m(url, feature_name)\u001b[0m\n\u001b[1;32m      2\u001b[0m \u001b[0;34m\u001b[0m\u001b[0m\n\u001b[1;32m      3\u001b[0m \u001b[0;32mdef\u001b[0m \u001b[0mload_geojson\u001b[0m\u001b[0;34m(\u001b[0m\u001b[0murl\u001b[0m\u001b[0;34m,\u001b[0m \u001b[0mfeature_name\u001b[0m\u001b[0;34m)\u001b[0m\u001b[0;34m:\u001b[0m\u001b[0;34m\u001b[0m\u001b[0;34m\u001b[0m\u001b[0m\n\u001b[0;32m----> 4\u001b[0;31m     \u001b[0;32mwith\u001b[0m \u001b[0murlopen\u001b[0m\u001b[0;34m(\u001b[0m\u001b[0murl\u001b[0m\u001b[0;34m)\u001b[0m \u001b[0;32mas\u001b[0m \u001b[0msite\u001b[0m\u001b[0;34m:\u001b[0m\u001b[0;34m\u001b[0m\u001b[0;34m\u001b[0m\u001b[0m\n\u001b[0m\u001b[1;32m      5\u001b[0m         \u001b[0mdata\u001b[0m \u001b[0;34m=\u001b[0m \u001b[0mjson\u001b[0m\u001b[0;34m.\u001b[0m\u001b[0mloads\u001b[0m\u001b[0;34m(\u001b[0m\u001b[0msite\u001b[0m\u001b[0;34m.\u001b[0m\u001b[0mread\u001b[0m\u001b[0;34m(\u001b[0m\u001b[0;34m)\u001b[0m\u001b[0;34m.\u001b[0m\u001b[0mdecode\u001b[0m\u001b[0;34m(\u001b[0m\u001b[0;34m)\u001b[0m\u001b[0;34m)\u001b[0m\u001b[0;34m\u001b[0m\u001b[0;34m\u001b[0m\u001b[0m\n\u001b[1;32m      6\u001b[0m \u001b[0;34m\u001b[0m\u001b[0m\n",
            "\u001b[0;32m~/.homebrew/Cellar/python@3.9/3.9.7/Frameworks/Python.framework/Versions/3.9/lib/python3.9/urllib/request.py\u001b[0m in \u001b[0;36murlopen\u001b[0;34m(url, data, timeout, cafile, capath, cadefault, context)\u001b[0m\n\u001b[1;32m    212\u001b[0m     \u001b[0;32melse\u001b[0m\u001b[0;34m:\u001b[0m\u001b[0;34m\u001b[0m\u001b[0;34m\u001b[0m\u001b[0m\n\u001b[1;32m    213\u001b[0m         \u001b[0mopener\u001b[0m \u001b[0;34m=\u001b[0m \u001b[0m_opener\u001b[0m\u001b[0;34m\u001b[0m\u001b[0;34m\u001b[0m\u001b[0m\n\u001b[0;32m--> 214\u001b[0;31m     \u001b[0;32mreturn\u001b[0m \u001b[0mopener\u001b[0m\u001b[0;34m.\u001b[0m\u001b[0mopen\u001b[0m\u001b[0;34m(\u001b[0m\u001b[0murl\u001b[0m\u001b[0;34m,\u001b[0m \u001b[0mdata\u001b[0m\u001b[0;34m,\u001b[0m \u001b[0mtimeout\u001b[0m\u001b[0;34m)\u001b[0m\u001b[0;34m\u001b[0m\u001b[0;34m\u001b[0m\u001b[0m\n\u001b[0m\u001b[1;32m    215\u001b[0m \u001b[0;34m\u001b[0m\u001b[0m\n\u001b[1;32m    216\u001b[0m \u001b[0;32mdef\u001b[0m \u001b[0minstall_opener\u001b[0m\u001b[0;34m(\u001b[0m\u001b[0mopener\u001b[0m\u001b[0;34m)\u001b[0m\u001b[0;34m:\u001b[0m\u001b[0;34m\u001b[0m\u001b[0;34m\u001b[0m\u001b[0m\n",
            "\u001b[0;32m~/.homebrew/Cellar/python@3.9/3.9.7/Frameworks/Python.framework/Versions/3.9/lib/python3.9/urllib/request.py\u001b[0m in \u001b[0;36mopen\u001b[0;34m(self, fullurl, data, timeout)\u001b[0m\n\u001b[1;32m    499\u001b[0m         \u001b[0;31m# accept a URL or a Request object\u001b[0m\u001b[0;34m\u001b[0m\u001b[0;34m\u001b[0m\u001b[0m\n\u001b[1;32m    500\u001b[0m         \u001b[0;32mif\u001b[0m \u001b[0misinstance\u001b[0m\u001b[0;34m(\u001b[0m\u001b[0mfullurl\u001b[0m\u001b[0;34m,\u001b[0m \u001b[0mstr\u001b[0m\u001b[0;34m)\u001b[0m\u001b[0;34m:\u001b[0m\u001b[0;34m\u001b[0m\u001b[0;34m\u001b[0m\u001b[0m\n\u001b[0;32m--> 501\u001b[0;31m             \u001b[0mreq\u001b[0m \u001b[0;34m=\u001b[0m \u001b[0mRequest\u001b[0m\u001b[0;34m(\u001b[0m\u001b[0mfullurl\u001b[0m\u001b[0;34m,\u001b[0m \u001b[0mdata\u001b[0m\u001b[0;34m)\u001b[0m\u001b[0;34m\u001b[0m\u001b[0;34m\u001b[0m\u001b[0m\n\u001b[0m\u001b[1;32m    502\u001b[0m         \u001b[0;32melse\u001b[0m\u001b[0;34m:\u001b[0m\u001b[0;34m\u001b[0m\u001b[0;34m\u001b[0m\u001b[0m\n\u001b[1;32m    503\u001b[0m             \u001b[0mreq\u001b[0m \u001b[0;34m=\u001b[0m \u001b[0mfullurl\u001b[0m\u001b[0;34m\u001b[0m\u001b[0;34m\u001b[0m\u001b[0m\n",
            "\u001b[0;32m~/.homebrew/Cellar/python@3.9/3.9.7/Frameworks/Python.framework/Versions/3.9/lib/python3.9/urllib/request.py\u001b[0m in \u001b[0;36m__init__\u001b[0;34m(self, url, data, headers, origin_req_host, unverifiable, method)\u001b[0m\n\u001b[1;32m    318\u001b[0m                  \u001b[0morigin_req_host\u001b[0m\u001b[0;34m=\u001b[0m\u001b[0;32mNone\u001b[0m\u001b[0;34m,\u001b[0m \u001b[0munverifiable\u001b[0m\u001b[0;34m=\u001b[0m\u001b[0;32mFalse\u001b[0m\u001b[0;34m,\u001b[0m\u001b[0;34m\u001b[0m\u001b[0;34m\u001b[0m\u001b[0m\n\u001b[1;32m    319\u001b[0m                  method=None):\n\u001b[0;32m--> 320\u001b[0;31m         \u001b[0mself\u001b[0m\u001b[0;34m.\u001b[0m\u001b[0mfull_url\u001b[0m \u001b[0;34m=\u001b[0m \u001b[0murl\u001b[0m\u001b[0;34m\u001b[0m\u001b[0;34m\u001b[0m\u001b[0m\n\u001b[0m\u001b[1;32m    321\u001b[0m         \u001b[0mself\u001b[0m\u001b[0;34m.\u001b[0m\u001b[0mheaders\u001b[0m \u001b[0;34m=\u001b[0m \u001b[0;34m{\u001b[0m\u001b[0;34m}\u001b[0m\u001b[0;34m\u001b[0m\u001b[0;34m\u001b[0m\u001b[0m\n\u001b[1;32m    322\u001b[0m         \u001b[0mself\u001b[0m\u001b[0;34m.\u001b[0m\u001b[0munredirected_hdrs\u001b[0m \u001b[0;34m=\u001b[0m \u001b[0;34m{\u001b[0m\u001b[0;34m}\u001b[0m\u001b[0;34m\u001b[0m\u001b[0;34m\u001b[0m\u001b[0m\n",
            "\u001b[0;32m~/.homebrew/Cellar/python@3.9/3.9.7/Frameworks/Python.framework/Versions/3.9/lib/python3.9/urllib/request.py\u001b[0m in \u001b[0;36mfull_url\u001b[0;34m(self, url)\u001b[0m\n\u001b[1;32m    344\u001b[0m         \u001b[0mself\u001b[0m\u001b[0;34m.\u001b[0m\u001b[0m_full_url\u001b[0m \u001b[0;34m=\u001b[0m \u001b[0munwrap\u001b[0m\u001b[0;34m(\u001b[0m\u001b[0murl\u001b[0m\u001b[0;34m)\u001b[0m\u001b[0;34m\u001b[0m\u001b[0;34m\u001b[0m\u001b[0m\n\u001b[1;32m    345\u001b[0m         \u001b[0mself\u001b[0m\u001b[0;34m.\u001b[0m\u001b[0m_full_url\u001b[0m\u001b[0;34m,\u001b[0m \u001b[0mself\u001b[0m\u001b[0;34m.\u001b[0m\u001b[0mfragment\u001b[0m \u001b[0;34m=\u001b[0m \u001b[0m_splittag\u001b[0m\u001b[0;34m(\u001b[0m\u001b[0mself\u001b[0m\u001b[0;34m.\u001b[0m\u001b[0m_full_url\u001b[0m\u001b[0;34m)\u001b[0m\u001b[0;34m\u001b[0m\u001b[0;34m\u001b[0m\u001b[0m\n\u001b[0;32m--> 346\u001b[0;31m         \u001b[0mself\u001b[0m\u001b[0;34m.\u001b[0m\u001b[0m_parse\u001b[0m\u001b[0;34m(\u001b[0m\u001b[0;34m)\u001b[0m\u001b[0;34m\u001b[0m\u001b[0;34m\u001b[0m\u001b[0m\n\u001b[0m\u001b[1;32m    347\u001b[0m \u001b[0;34m\u001b[0m\u001b[0m\n\u001b[1;32m    348\u001b[0m     \u001b[0;34m@\u001b[0m\u001b[0mfull_url\u001b[0m\u001b[0;34m.\u001b[0m\u001b[0mdeleter\u001b[0m\u001b[0;34m\u001b[0m\u001b[0;34m\u001b[0m\u001b[0m\n",
            "\u001b[0;32m~/.homebrew/Cellar/python@3.9/3.9.7/Frameworks/Python.framework/Versions/3.9/lib/python3.9/urllib/request.py\u001b[0m in \u001b[0;36m_parse\u001b[0;34m(self)\u001b[0m\n\u001b[1;32m    373\u001b[0m         \u001b[0mself\u001b[0m\u001b[0;34m.\u001b[0m\u001b[0mtype\u001b[0m\u001b[0;34m,\u001b[0m \u001b[0mrest\u001b[0m \u001b[0;34m=\u001b[0m \u001b[0m_splittype\u001b[0m\u001b[0;34m(\u001b[0m\u001b[0mself\u001b[0m\u001b[0;34m.\u001b[0m\u001b[0m_full_url\u001b[0m\u001b[0;34m)\u001b[0m\u001b[0;34m\u001b[0m\u001b[0;34m\u001b[0m\u001b[0m\n\u001b[1;32m    374\u001b[0m         \u001b[0;32mif\u001b[0m \u001b[0mself\u001b[0m\u001b[0;34m.\u001b[0m\u001b[0mtype\u001b[0m \u001b[0;32mis\u001b[0m \u001b[0;32mNone\u001b[0m\u001b[0;34m:\u001b[0m\u001b[0;34m\u001b[0m\u001b[0;34m\u001b[0m\u001b[0m\n\u001b[0;32m--> 375\u001b[0;31m             \u001b[0;32mraise\u001b[0m \u001b[0mValueError\u001b[0m\u001b[0;34m(\u001b[0m\u001b[0;34m\"unknown url type: %r\"\u001b[0m \u001b[0;34m%\u001b[0m \u001b[0mself\u001b[0m\u001b[0;34m.\u001b[0m\u001b[0mfull_url\u001b[0m\u001b[0;34m)\u001b[0m\u001b[0;34m\u001b[0m\u001b[0;34m\u001b[0m\u001b[0m\n\u001b[0m\u001b[1;32m    376\u001b[0m         \u001b[0mself\u001b[0m\u001b[0;34m.\u001b[0m\u001b[0mhost\u001b[0m\u001b[0;34m,\u001b[0m \u001b[0mself\u001b[0m\u001b[0;34m.\u001b[0m\u001b[0mselector\u001b[0m \u001b[0;34m=\u001b[0m \u001b[0m_splithost\u001b[0m\u001b[0;34m(\u001b[0m\u001b[0mrest\u001b[0m\u001b[0;34m)\u001b[0m\u001b[0;34m\u001b[0m\u001b[0;34m\u001b[0m\u001b[0m\n\u001b[1;32m    377\u001b[0m         \u001b[0;32mif\u001b[0m \u001b[0mself\u001b[0m\u001b[0;34m.\u001b[0m\u001b[0mhost\u001b[0m\u001b[0;34m:\u001b[0m\u001b[0;34m\u001b[0m\u001b[0;34m\u001b[0m\u001b[0m\n",
            "\u001b[0;31mValueError\u001b[0m: unknown url type: ''"
          ]
        }
      ],
      "source": [
        "ccg_url = \"\"\n",
        "ccg = load_geojson(ccg_url, 'CCG21NM')"
      ]
    },
    {
      "cell_type": "markdown",
      "metadata": {
        "id": "SfA-nPtUp8nc"
      },
      "source": [
        "Try running the ccg to have a look at the geojson data - you will notice that it is comprised of CCG names and their coordiantes"
      ]
    },
    {
      "cell_type": "code",
      "execution_count": null,
      "metadata": {
        "id": "3-JItPJKp8nc"
      },
      "outputs": [],
      "source": [
        "ccg"
      ]
    },
    {
      "cell_type": "markdown",
      "metadata": {
        "id": "HMSS9lo_p8nd"
      },
      "source": [
        "## 3. Create a simple map of CCGs of your choice"
      ]
    },
    {
      "cell_type": "code",
      "execution_count": null,
      "metadata": {
        "id": "bVUn91l_p8nd"
      },
      "outputs": [],
      "source": [
        "## Create a dummy data frame with the CCGs that you would like to map\n",
        "## Note: the geojson data we downloaded is using the 2021 CCGs, therefore older ones \n",
        "    #(e.g. Redbridge/Havering will not work)\n",
        "    \n",
        "ccg_nm = pd.DataFrame(columns=['test'])\n",
        "ccg_nm.loc['NHS Mid Essex CCG'] = 5\n",
        "ccg_nm.loc['NHS West Essex CCG'] = 7\n",
        "ccg_nm.loc['NHS North East Essex CCG'] = 10\n",
        "#ccg_nm.loc['NHS North East London CCG'] = 10\n",
        "ccg_nm\n"
      ]
    },
    {
      "cell_type": "markdown",
      "metadata": {
        "id": "4D6jjYm5p8nd"
      },
      "source": [
        "## Pass the data through the map making function\n",
        "- Here we are using Choroplethmapbox to create a simple map\n",
        "- If you have chosen non Essex CCGs, you will need to chage the mapbox centre to look to the right pace. This is done by adjusting the lat and long co-ordinates\n",
        "- Un-comment out the North East London CCG (above), then re-run the map code below to see what happens\n",
        "\n",
        "The documentation for Choroplethmapbox can be found here:\n",
        "- https://plotly.com/python-api-reference/generated/plotly.graph_objects.Choroplethmapbox.html\n"
      ]
    },
    {
      "cell_type": "code",
      "execution_count": null,
      "metadata": {
        "id": "R9amovfxp8nd"
      },
      "outputs": [],
      "source": [
        "#This bit adds the CCG boundaries\n",
        "# We are specifying locations in the locations parameter - only these are plotted\n",
        "fig = go.Figure(go.Choroplethmapbox(geojson=ccg, locations=ccg_nm.index, z=ccg_nm.test,\n",
        "                                    zmin=0, zmax=10,colorscale=['orange','white'],\n",
        "                                    marker_opacity=1, marker_line_width=2))\n",
        "\n",
        "# This is setting up the map - to change the area zoomed in on, change the lat and long\n",
        "fig.update_layout(mapbox_style=\"carto-positron\",\n",
        "                  mapbox_zoom=7, mapbox_center = {\"lat\": 51.8717, \"lon\": 1.067965})\n",
        "fig.update_layout(margin={\"r\":0,\"t\":0,\"l\":0,\"b\":0})\n",
        "fig.update(layout_coloraxis_showscale=False)\n",
        "\n",
        "fig.show()"
      ]
    },
    {
      "cell_type": "markdown",
      "metadata": {
        "id": "coKyQe5sp8ne"
      },
      "source": [
        "## Congratulations on making your first map!"
      ]
    },
    {
      "cell_type": "markdown",
      "metadata": {
        "id": "SLM2vI-fp8ne"
      },
      "source": [
        "## 4. Play around with editing the map visuals\n",
        "- There are lots of things that you can adjust including:\n",
        "    - Colour scale\n",
        "    - Marker opacity and line width\n",
        "    - The position of the map (using lat and lon) and how zoomed in it is\n",
        "- Have a play around with changing some of the settings\n",
        "\n",
        "#### Different mapbox styles can be found here:\n",
        "- https://plotly.com/python/mapbox-layers/\n",
        "\n",
        "#### The colorscale can use words, pre-set colour scales or RGB codes. For example, have a go at replacing colourscale with:\n",
        "- colorscale = ['#27A5B8','white']\n",
        "- colorscale = 'earth' \n",
        "- Or select one of the colours from the image below\n",
        "\n",
        "![image.png](attachment:image.png)"
      ]
    },
    {
      "cell_type": "code",
      "execution_count": null,
      "metadata": {
        "id": "SgnGJqYyp8ne"
      },
      "outputs": [],
      "source": [
        "# Try changing the colour scale, line width or marker opacity\n",
        "fig = go.Figure(go.Choroplethmapbox(geojson=ccg, locations=ccg_nm.index, z=ccg_nm.test,\n",
        "                                    zmin=0, zmax=10,colorscale = ['orange','white'],\n",
        "                                    marker_opacity=1, marker_line_width=2))\n",
        "\n",
        "# Try changing the mapbox style or mapbox zoom \n",
        "fig.update_layout(mapbox_style=\"carto-positron\",\n",
        "                  mapbox_zoom=7, mapbox_center = {\"lat\": 51.8717, \"lon\": 1.067965})\n",
        "fig.update_layout(margin={\"r\":0,\"t\":0,\"l\":0,\"b\":0})\n",
        "fig.update(layout_coloraxis_showscale=False)\n",
        "\n",
        "fig.show()"
      ]
    },
    {
      "cell_type": "markdown",
      "metadata": {
        "id": "fNrd_qJkp8ne"
      },
      "source": [
        "## 5. Add hospital locations on top\n",
        "- Save the hospital locations data file\n",
        "- Read in the file\n",
        "- Subset the data to include the hospitals that you are interested in plotting"
      ]
    },
    {
      "cell_type": "code",
      "execution_count": null,
      "metadata": {
        "id": "XDrp-7JVp8ne"
      },
      "outputs": [],
      "source": [
        "# CSV file with hospital lat longs\n",
        "hospitals = pd.read_csv('all_hospital_locations.csv')"
      ]
    },
    {
      "cell_type": "code",
      "execution_count": null,
      "metadata": {
        "id": "XcjmuDs2p8ne"
      },
      "outputs": [],
      "source": [
        "# Subset the hospital location file to include just the hospitals that you want to include in your map\n",
        "# You can add multiple hospitals by writing more in the final square bracket\n",
        "Essex_hospitals = (hospitals.loc[hospitals['OrganisationName'].isin([\"St Peter's Hospital\"])])"
      ]
    },
    {
      "cell_type": "code",
      "execution_count": null,
      "metadata": {
        "id": "NPJMjH9Jp8nf"
      },
      "outputs": [],
      "source": [
        "Essex_hospitals"
      ]
    },
    {
      "cell_type": "code",
      "execution_count": null,
      "metadata": {
        "id": "GIeso498p8nf"
      },
      "outputs": [],
      "source": [
        "#This bit adds the CCG boundaries\n",
        "fig = go.Figure(go.Choroplethmapbox(geojson=ccg, locations=ccg_nm.index, z=ccg_nm.test,\n",
        "                                    zmin=0, zmax=10,colorscale=['orange','white'],\n",
        "                                    marker_opacity=1, marker_line_width=2))\n",
        "\n",
        "\n",
        "# This is adding the dots on the maps for your hospital locations\n",
        "# This bit makes a large red dot\n",
        "fig.add_trace(go.Scattermapbox(\n",
        "        lat=Essex_hospitals['Latitude'],\n",
        "        lon=Essex_hospitals['Longitude'],\n",
        "        mode='markers',\n",
        "        showlegend = False,\n",
        "        marker=go.scattermapbox.Marker(\n",
        "            size=11,\n",
        "            color='red'\n",
        "        )\n",
        "    ))\n",
        "\n",
        "# This bit puts a small white dot inside (just because I think it looks nice)\n",
        "fig.add_trace(go.Scattermapbox(\n",
        "         lat=Essex_hospitals['Latitude'],\n",
        "         lon=Essex_hospitals['Longitude'],\n",
        "         showlegend = False,\n",
        "         marker=go.scattermapbox.Marker(\n",
        "             size=7,\n",
        "             color='white'\n",
        "         )\n",
        "    ))\n",
        "\n",
        "# This is setting up the map - to change the area zoomed in on, change the lat and long\n",
        "fig.update_layout(mapbox_style=\"carto-positron\",\n",
        "                  mapbox_zoom=8, mapbox_center = {\"lat\": 51.8717, \"lon\": 1.067965})\n",
        "fig.update_layout(margin={\"r\":0,\"t\":0,\"l\":0,\"b\":0})\n",
        "fig.update(layout_coloraxis_showscale=False)\n",
        "\n",
        "\n",
        "fig.show()"
      ]
    },
    {
      "cell_type": "markdown",
      "metadata": {
        "id": "nts5U60fp8nf"
      },
      "source": [
        "## Excercise - have a go at adding another hospital location to your map\n",
        "- Go back to 'Essex hospitals' where we subset the hospital locations file and add in another nearby hospital\n",
        "- Re-run your map making code to see your new hospital plotted"
      ]
    },
    {
      "cell_type": "markdown",
      "source": [
        "### Read in CCG level data showing under 75 mortality for CVDs\n",
        "Data can be found from the following source: \n",
        "https://digital.nhs.uk/data-and-information/publications/statistical/ccg-outcomes-indicator-set/march-2022/domain-1-preventing-people-from-dying-prematurely-ccg/1-2-under-75-mortality-from-cardiovascular-disease\n",
        "\n",
        "## Exercise - Create a map showing CVD under 75 mortality for all CCGs in the country"
      ],
      "metadata": {
        "id": "A18oUEuRqS-X"
      }
    },
    {
      "cell_type": "code",
      "source": [
        "## Read in the CCG under 75 CVD mortality file\n",
        "cvd_mort = pd.read_excel('/content/CCG cvd mortality under 75.xls', sheet_name = 'Data')"
      ],
      "metadata": {
        "colab": {
          "base_uri": "https://localhost:8080/",
          "height": 133
        },
        "id": "1xJq1BBpqKa4",
        "outputId": "d754a41a-6d2c-4eec-b694-299d9e553e93"
      },
      "execution_count": 2,
      "outputs": [
        {
          "output_type": "error",
          "ename": "SyntaxError",
          "evalue": "ignored",
          "traceback": [
            "\u001b[0;36m  File \u001b[0;32m\"<ipython-input-2-8c77b8a38237>\"\u001b[0;36m, line \u001b[0;32m2\u001b[0m\n\u001b[0;31m    Data can be found from the following source:\u001b[0m\n\u001b[0m         ^\u001b[0m\n\u001b[0;31mSyntaxError\u001b[0m\u001b[0;31m:\u001b[0m invalid syntax\n"
          ]
        }
      ]
    },
    {
      "cell_type": "code",
      "source": [
        "## Copy your map making code from above to create a map for all CCGs in England showing CVD mortality in under 75s"
      ],
      "metadata": {
        "id": "E3jFbLhRqVZC"
      },
      "execution_count": null,
      "outputs": []
    }
  ],
  "metadata": {
    "kernelspec": {
      "display_name": "Python 3 (ipykernel)",
      "language": "python",
      "name": "python3"
    },
    "language_info": {
      "codemirror_mode": {
        "name": "ipython",
        "version": 3
      },
      "file_extension": ".py",
      "mimetype": "text/x-python",
      "name": "python",
      "nbconvert_exporter": "python",
      "pygments_lexer": "ipython3",
      "version": "3.9.7"
    },
    "colab": {
      "provenance": []
    }
  },
  "nbformat": 4,
  "nbformat_minor": 0
}