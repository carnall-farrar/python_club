{
 "cells": [
  {
   "cell_type": "markdown",
   "metadata": {},
   "source": [
    "# Aggregating Data with Group by\n",
    "\n",
    "In this session we will explore data aggregation using pandas.  Aggregation means splitting a dataset up into parts and applying mathematical or other functions to those groups of data.\n",
    "\n",
    "By the end you will be able to create a monthly time-series showing numbers of referrals, separated by priority level."
   ]
  },
  {
   "cell_type": "markdown",
   "metadata": {},
   "source": [
    "## Theory \n",
    "\n",
    "You may have come across the concept of data aggregation in a SQL course, and the principle is exactly the same here.\n",
    "\n",
    "The 'group by' operation splits the data into groups based on entries in one or more columns, so that operations or calculations can be performed on subgroups of the data.\n",
    "\n",
    "For example, say we wanted to calculate the total number of referrals made in each CCG for some time period. Our dataset looks like this:\n",
    "\n",
    "| ccg_code | specialty | priority | referrals |\n",
    "| --- | --- | --- | --- | \n",
    "| 00L | Cardiology | Routine | 200 |\n",
    "| 00L | Urology | Routine | 600 |\n",
    "| 99C | Cardiology | Urgent | 100 |\n",
    "| 00L | 2WW | 2 Week Wait | 400 |\n",
    "| 99C | Neurology | Routine | 900 |\n",
    "\n",
    "The data contains more information than we need, because we are not interested in the specialty or priority. In which case we want to sum referrals **for each CCG**, summing over the values in other columns. In other words, we want to *group by* CCG and calculate the sum:\n",
    "\n",
    "| ccg_code | referrals |\n",
    "| --- | --- | \n",
    "| 00L | 1,200 |\n",
    "| 99C | 1,000 |\n",
    "\n",
    "## Sections\n",
    "\n",
    "* [Group by a single column](#item1)\n",
    "* [Group by multiple columns](#item2)\n",
    "* [Group by units of time](#item3)\n",
    "---"
   ]
  },
  {
   "cell_type": "code",
   "execution_count": 1,
   "metadata": {},
   "outputs": [],
   "source": [
    "# Importing Python packages we are likely to need\n",
    "import pandas as pd  # useful for reading and manipulating data tables\n",
    "import matplotlib.pyplot as plt  # useful for plotting data"
   ]
  },
  {
   "cell_type": "code",
   "execution_count": 2,
   "metadata": {},
   "outputs": [],
   "source": [
    "# We assume input and output data are in your machine's Downloads folder\n",
    "input_data_path = \"../../data/referrals_oct19_dec20.csv\"\n",
    "output_data_path = \"../../data/referrals_by_priority.csv\""
   ]
  },
  {
   "cell_type": "markdown",
   "metadata": {},
   "source": [
    "### Load the data\n",
    "\n",
    "* Use `pd.read_csv` to read in the data. \n",
    "* Then use `pd.to_datetime` to convert the `week_start` column to datetime format, e.g.\n",
    "\n",
    "```python\n",
    "df['my_date_column'] = pd.to_datetime(df['my_date_column'])\n",
    "```"
   ]
  },
  {
   "cell_type": "code",
   "execution_count": 3,
   "metadata": {},
   "outputs": [
    {
     "data": {
      "text/html": [
       "<div>\n",
       "<style scoped>\n",
       "    .dataframe tbody tr th:only-of-type {\n",
       "        vertical-align: middle;\n",
       "    }\n",
       "\n",
       "    .dataframe tbody tr th {\n",
       "        vertical-align: top;\n",
       "    }\n",
       "\n",
       "    .dataframe thead th {\n",
       "        text-align: right;\n",
       "    }\n",
       "</style>\n",
       "<table border=\"1\" class=\"dataframe\">\n",
       "  <thead>\n",
       "    <tr style=\"text-align: right;\">\n",
       "      <th></th>\n",
       "      <th>week_start</th>\n",
       "      <th>ccg_code</th>\n",
       "      <th>specialty</th>\n",
       "      <th>priority</th>\n",
       "      <th>referrals</th>\n",
       "    </tr>\n",
       "  </thead>\n",
       "  <tbody>\n",
       "    <tr>\n",
       "      <th>0</th>\n",
       "      <td>2019-10-07</td>\n",
       "      <td>00L</td>\n",
       "      <td>(blank)</td>\n",
       "      <td>Routine</td>\n",
       "      <td>13</td>\n",
       "    </tr>\n",
       "    <tr>\n",
       "      <th>1</th>\n",
       "      <td>2019-10-07</td>\n",
       "      <td>00L</td>\n",
       "      <td>(blank)</td>\n",
       "      <td>Urgent</td>\n",
       "      <td>1</td>\n",
       "    </tr>\n",
       "    <tr>\n",
       "      <th>2</th>\n",
       "      <td>2019-10-07</td>\n",
       "      <td>00L</td>\n",
       "      <td>2WW</td>\n",
       "      <td>2 Week Wait</td>\n",
       "      <td>349</td>\n",
       "    </tr>\n",
       "    <tr>\n",
       "      <th>3</th>\n",
       "      <td>2019-10-07</td>\n",
       "      <td>00L</td>\n",
       "      <td>Allergy</td>\n",
       "      <td>Routine</td>\n",
       "      <td>3</td>\n",
       "    </tr>\n",
       "    <tr>\n",
       "      <th>4</th>\n",
       "      <td>2019-10-07</td>\n",
       "      <td>00L</td>\n",
       "      <td>Cardiology</td>\n",
       "      <td>Routine</td>\n",
       "      <td>84</td>\n",
       "    </tr>\n",
       "    <tr>\n",
       "      <th>...</th>\n",
       "      <td>...</td>\n",
       "      <td>...</td>\n",
       "      <td>...</td>\n",
       "      <td>...</td>\n",
       "      <td>...</td>\n",
       "    </tr>\n",
       "    <tr>\n",
       "      <th>592679</th>\n",
       "      <td>2020-12-21</td>\n",
       "      <td>99M</td>\n",
       "      <td>Surgery - Not Otherwise Specified</td>\n",
       "      <td>Urgent</td>\n",
       "      <td>2</td>\n",
       "    </tr>\n",
       "    <tr>\n",
       "      <th>592680</th>\n",
       "      <td>2020-12-21</td>\n",
       "      <td>99M</td>\n",
       "      <td>Surgery - Vascular</td>\n",
       "      <td>Routine</td>\n",
       "      <td>2</td>\n",
       "    </tr>\n",
       "    <tr>\n",
       "      <th>592681</th>\n",
       "      <td>2020-12-21</td>\n",
       "      <td>99M</td>\n",
       "      <td>Surgery - Vascular</td>\n",
       "      <td>Urgent</td>\n",
       "      <td>2</td>\n",
       "    </tr>\n",
       "    <tr>\n",
       "      <th>592682</th>\n",
       "      <td>2020-12-21</td>\n",
       "      <td>99M</td>\n",
       "      <td>Urology</td>\n",
       "      <td>Routine</td>\n",
       "      <td>25</td>\n",
       "    </tr>\n",
       "    <tr>\n",
       "      <th>592683</th>\n",
       "      <td>2020-12-21</td>\n",
       "      <td>99M</td>\n",
       "      <td>Urology</td>\n",
       "      <td>Urgent</td>\n",
       "      <td>11</td>\n",
       "    </tr>\n",
       "  </tbody>\n",
       "</table>\n",
       "<p>592684 rows × 5 columns</p>\n",
       "</div>"
      ],
      "text/plain": [
       "       week_start ccg_code                          specialty     priority  \\\n",
       "0      2019-10-07      00L                            (blank)      Routine   \n",
       "1      2019-10-07      00L                            (blank)       Urgent   \n",
       "2      2019-10-07      00L                                2WW  2 Week Wait   \n",
       "3      2019-10-07      00L                            Allergy      Routine   \n",
       "4      2019-10-07      00L                         Cardiology      Routine   \n",
       "...           ...      ...                                ...          ...   \n",
       "592679 2020-12-21      99M  Surgery - Not Otherwise Specified       Urgent   \n",
       "592680 2020-12-21      99M                 Surgery - Vascular      Routine   \n",
       "592681 2020-12-21      99M                 Surgery - Vascular       Urgent   \n",
       "592682 2020-12-21      99M                            Urology      Routine   \n",
       "592683 2020-12-21      99M                            Urology       Urgent   \n",
       "\n",
       "        referrals  \n",
       "0              13  \n",
       "1               1  \n",
       "2             349  \n",
       "3               3  \n",
       "4              84  \n",
       "...           ...  \n",
       "592679          2  \n",
       "592680          2  \n",
       "592681          2  \n",
       "592682         25  \n",
       "592683         11  \n",
       "\n",
       "[592684 rows x 5 columns]"
      ]
     },
     "execution_count": 3,
     "metadata": {},
     "output_type": "execute_result"
    }
   ],
   "source": [
    "df = pd.read_csv(input_data_path)\n",
    "df['week_start'] = pd.to_datetime(df['week_start'])\n",
    "df"
   ]
  },
  {
   "cell_type": "markdown",
   "metadata": {
    "pycharm": {
     "name": "#%% md\n"
    }
   },
   "source": [
    "---\n",
    "<a name=\"item1\">\n",
    "<h2>Group by a single column</h2>\n",
    "</a>\n",
    "\n",
    "First, we'll take a subset of the data which will be easier to work with. Select rows where `Specialty` column has value `'2WW'` (two week wait cancer referrals).\n",
    "* Use `==` to make a selection mask\n",
    "* Use `df.loc` to select rows where the mask values are `True`\n",
    "\n",
    "```python\n",
    "smaller_df = df.loc[df['column'] == 'value', :]\n",
    "```"
   ]
  },
  {
   "cell_type": "code",
   "execution_count": 4,
   "metadata": {},
   "outputs": [
    {
     "data": {
      "text/html": [
       "<div>\n",
       "<style scoped>\n",
       "    .dataframe tbody tr th:only-of-type {\n",
       "        vertical-align: middle;\n",
       "    }\n",
       "\n",
       "    .dataframe tbody tr th {\n",
       "        vertical-align: top;\n",
       "    }\n",
       "\n",
       "    .dataframe thead th {\n",
       "        text-align: right;\n",
       "    }\n",
       "</style>\n",
       "<table border=\"1\" class=\"dataframe\">\n",
       "  <thead>\n",
       "    <tr style=\"text-align: right;\">\n",
       "      <th></th>\n",
       "      <th>week_start</th>\n",
       "      <th>ccg_code</th>\n",
       "      <th>specialty</th>\n",
       "      <th>priority</th>\n",
       "      <th>referrals</th>\n",
       "    </tr>\n",
       "  </thead>\n",
       "  <tbody>\n",
       "    <tr>\n",
       "      <th>2</th>\n",
       "      <td>2019-10-07</td>\n",
       "      <td>00L</td>\n",
       "      <td>2WW</td>\n",
       "      <td>2 Week Wait</td>\n",
       "      <td>349</td>\n",
       "    </tr>\n",
       "    <tr>\n",
       "      <th>61</th>\n",
       "      <td>2019-10-07</td>\n",
       "      <td>00N</td>\n",
       "      <td>2WW</td>\n",
       "      <td>2 Week Wait</td>\n",
       "      <td>180</td>\n",
       "    </tr>\n",
       "    <tr>\n",
       "      <th>113</th>\n",
       "      <td>2019-10-07</td>\n",
       "      <td>00P</td>\n",
       "      <td>2WW</td>\n",
       "      <td>2 Week Wait</td>\n",
       "      <td>284</td>\n",
       "    </tr>\n",
       "    <tr>\n",
       "      <th>169</th>\n",
       "      <td>2019-10-07</td>\n",
       "      <td>00Q</td>\n",
       "      <td>2WW</td>\n",
       "      <td>2 Week Wait</td>\n",
       "      <td>122</td>\n",
       "    </tr>\n",
       "    <tr>\n",
       "      <th>226</th>\n",
       "      <td>2019-10-07</td>\n",
       "      <td>00R</td>\n",
       "      <td>2WW</td>\n",
       "      <td>2 Week Wait</td>\n",
       "      <td>170</td>\n",
       "    </tr>\n",
       "    <tr>\n",
       "      <th>...</th>\n",
       "      <td>...</td>\n",
       "      <td>...</td>\n",
       "      <td>...</td>\n",
       "      <td>...</td>\n",
       "      <td>...</td>\n",
       "    </tr>\n",
       "    <tr>\n",
       "      <th>592413</th>\n",
       "      <td>2020-12-21</td>\n",
       "      <td>99C</td>\n",
       "      <td>2WW</td>\n",
       "      <td>2 Week Wait</td>\n",
       "      <td>151</td>\n",
       "    </tr>\n",
       "    <tr>\n",
       "      <th>592463</th>\n",
       "      <td>2020-12-21</td>\n",
       "      <td>99E</td>\n",
       "      <td>2WW</td>\n",
       "      <td>2 Week Wait</td>\n",
       "      <td>208</td>\n",
       "    </tr>\n",
       "    <tr>\n",
       "      <th>592520</th>\n",
       "      <td>2020-12-21</td>\n",
       "      <td>99F</td>\n",
       "      <td>2WW</td>\n",
       "      <td>2 Week Wait</td>\n",
       "      <td>127</td>\n",
       "    </tr>\n",
       "    <tr>\n",
       "      <th>592574</th>\n",
       "      <td>2020-12-21</td>\n",
       "      <td>99G</td>\n",
       "      <td>2WW</td>\n",
       "      <td>2 Week Wait</td>\n",
       "      <td>113</td>\n",
       "    </tr>\n",
       "    <tr>\n",
       "      <th>592633</th>\n",
       "      <td>2020-12-21</td>\n",
       "      <td>99M</td>\n",
       "      <td>2WW</td>\n",
       "      <td>2 Week Wait</td>\n",
       "      <td>155</td>\n",
       "    </tr>\n",
       "  </tbody>\n",
       "</table>\n",
       "<p>11879 rows × 5 columns</p>\n",
       "</div>"
      ],
      "text/plain": [
       "       week_start ccg_code specialty     priority  referrals\n",
       "2      2019-10-07      00L       2WW  2 Week Wait        349\n",
       "61     2019-10-07      00N       2WW  2 Week Wait        180\n",
       "113    2019-10-07      00P       2WW  2 Week Wait        284\n",
       "169    2019-10-07      00Q       2WW  2 Week Wait        122\n",
       "226    2019-10-07      00R       2WW  2 Week Wait        170\n",
       "...           ...      ...       ...          ...        ...\n",
       "592413 2020-12-21      99C       2WW  2 Week Wait        151\n",
       "592463 2020-12-21      99E       2WW  2 Week Wait        208\n",
       "592520 2020-12-21      99F       2WW  2 Week Wait        127\n",
       "592574 2020-12-21      99G       2WW  2 Week Wait        113\n",
       "592633 2020-12-21      99M       2WW  2 Week Wait        155\n",
       "\n",
       "[11879 rows x 5 columns]"
      ]
     },
     "execution_count": 4,
     "metadata": {},
     "output_type": "execute_result"
    }
   ],
   "source": [
    "smaller = df.loc[df['specialty'] == '2WW', :]\n",
    "smaller"
   ]
  },
  {
   "cell_type": "markdown",
   "metadata": {
    "pycharm": {
     "name": "#%% md\n"
    }
   },
   "source": [
    "### Sum 2WW referrals, aggregated by CCG\n",
    "* Use `df.groupby('ccg_code')`\n",
    "* Select the `referrals` column\n",
    "* Use the `sum` method\n",
    "\n",
    "```python\n",
    "gb = df.groupby('aggregation_column')\n",
    "summed_values = gb['value_column'].sum()\n",
    "```\n",
    "\n",
    "The result of the aggregation operation (i.e. the sum) is a pandas `Series` object. The series index comprises the CCG codes and the values are the summed referrals."
   ]
  },
  {
   "cell_type": "code",
   "execution_count": 5,
   "metadata": {},
   "outputs": [
    {
     "data": {
      "text/plain": [
       "ccg_code\n",
       "00L    93701\n",
       "00N    42520\n",
       "00P    91623\n",
       "00Q    49153\n",
       "00R    50744\n",
       "       ...  \n",
       "99C    69795\n",
       "99E    74384\n",
       "99F    63837\n",
       "99G    64563\n",
       "99M    52791\n",
       "Name: referrals, Length: 135, dtype: int64"
      ]
     },
     "execution_count": 5,
     "metadata": {},
     "output_type": "execute_result"
    }
   ],
   "source": [
    "gb = df.groupby('ccg_code')\n",
    "summed = gb['referrals'].sum()\n",
    "summed"
   ]
  },
  {
   "cell_type": "markdown",
   "metadata": {
    "pycharm": {
     "name": "#%% md\n"
    }
   },
   "source": [
    "### Visualise aggregation result\n",
    "Numbers are great, but we like pictures better. Let's visualise the referrals in each CCG with a bar chart. Use your aggregation result from above and `matplotlib`. \n",
    "\n",
    "```python\n",
    "fig, ax = plt.subplots()\n",
    "ax.bar(df.index, df.values)\n",
    "```"
   ]
  },
  {
   "cell_type": "code",
   "execution_count": 6,
   "metadata": {},
   "outputs": [
    {
     "data": {
      "text/plain": [
       "<AxesSubplot:xlabel='ccg_code'>"
      ]
     },
     "execution_count": 6,
     "metadata": {},
     "output_type": "execute_result"
    },
    {
     "data": {
      "image/png": "[encoded data removed]",
      "text/plain": [
       "<Figure size 432x288 with 1 Axes>"
      ]
     },
     "metadata": {
      "needs_background": "light"
     },
     "output_type": "display_data"
    }
   ],
   "source": [
    "summed.plot.bar()"
   ]
  },
  {
   "cell_type": "markdown",
   "metadata": {
    "pycharm": {
     "name": "#%% md\n"
    }
   },
   "source": [
    "### Take the average weekly referrals, for each CCG\n",
    "Sum is not the only aggregation function you can use. Let's try the same `groupby` result you made previously, but this time use `mean` instead of `sum`.\n",
    "\n",
    "```python\n",
    "avg_values = gb['value_column'].mean()\n",
    "```"
   ]
  },
  {
   "cell_type": "code",
   "execution_count": null,
   "metadata": {},
   "outputs": [],
   "source": []
  },
  {
   "cell_type": "markdown",
   "metadata": {
    "pycharm": {
     "name": "#%% md\n"
    }
   },
   "source": [
    "### Other useful aggregate functions\n",
    "* `count`\n",
    "* `median`\n",
    "* `min` and `max`\n",
    "* (And more)"
   ]
  },
  {
   "cell_type": "markdown",
   "metadata": {},
   "source": [
    "### Exercise\n",
    "\n",
    "A client has asked: for each CCG, what is the highest number of 2WW referrals they can expect to see in a single week?"
   ]
  },
  {
   "cell_type": "code",
   "execution_count": 7,
   "metadata": {},
   "outputs": [
    {
     "data": {
      "text/plain": [
       "ccg_code\n",
       "00L    367\n",
       "00N    190\n",
       "00P    305\n",
       "00Q    151\n",
       "00R    176\n",
       "      ... \n",
       "99C    249\n",
       "99E    326\n",
       "99F    202\n",
       "99G    215\n",
       "99M    203\n",
       "Name: referrals, Length: 135, dtype: int64"
      ]
     },
     "execution_count": 7,
     "metadata": {},
     "output_type": "execute_result"
    }
   ],
   "source": [
    "smaller.groupby('ccg_code')['referrals'].max()"
   ]
  },
  {
   "cell_type": "markdown",
   "metadata": {},
   "source": [
    "---\n",
    "<a name=\"item2\"><h2>\n",
    "Group by multiple columns\n",
    "</h2></a>\n",
    "\n",
    "It's possible to group by multiple columns at once. This means you apply the aggregation function to each subset of values in the columns you group by. For example, if you group by `CCG` and `priority` then use the `sum` function, you will get the total number of referrals per CCG *and* per priority level.\n",
    "\n",
    "```python\n",
    "gb_multi_cols = df.groupby(['column_1', 'column_2'])\n",
    "summed_values = gb_multi_cols['value_colum'].sum()\n",
    "```\n",
    "The result is still a pandas `Series` object, but this time the index has two 'levels', one for each aggregation column.\n",
    "\n",
    "Let's group by both `specialty` and `priority`, then take the sum."
   ]
  },
  {
   "cell_type": "code",
   "execution_count": 8,
   "metadata": {},
   "outputs": [
    {
     "data": {
      "text/plain": [
       "specialty           priority   \n",
       "(blank)             2 Week Wait        438\n",
       "                    Routine          81278\n",
       "                    Urgent           13202\n",
       "2WW                 2 Week Wait    2924070\n",
       "                    Routine           2281\n",
       "                                    ...   \n",
       "Surgery - Vascular  Routine         126613\n",
       "                    Urgent           36828\n",
       "Urology             2 Week Wait        158\n",
       "                    Routine         417394\n",
       "                    Urgent           86950\n",
       "Name: referrals, Length: 146, dtype: int64"
      ]
     },
     "execution_count": 8,
     "metadata": {},
     "output_type": "execute_result"
    }
   ],
   "source": [
    "sum_sp = df.groupby(['specialty', 'priority'])['referrals'].sum()\n",
    "sum_sp"
   ]
  },
  {
   "cell_type": "markdown",
   "metadata": {
    "pycharm": {
     "name": "#%% md\n"
    }
   },
   "source": [
    "---\n",
    "<a name=\"item3\"><h2>Group by units of time</h1></a>\n",
    "\n",
    "You can group by `datetime` values, just like anything else. But sometimes the units of time might be too granular to be useful, e.g. your `datetime` values may be expressed at the level of minutes or seconds, but if your data span a year then you probably don't want to show each individual data point.\n",
    "\n",
    "Pandas has a special date `Grouper` object, which you provide to `df.groupby`. Its `key` argument lets you specify the column you want to group by and the `freq` argument specifies the desired frequency, where\n",
    "* `D` means daily\n",
    "* `W` means weekly\n",
    "* `M` means monthly\n",
    "\n",
    "The full list of frequency options can be found <a href=\"https://pandas.pydata.org/pandas-docs/stable/user_guide/timeseries.html#offset-aliases\">here</a>.\n",
    "\n",
    "```python\n",
    "gb_daily = df.groupby(pd.Grouper(key='column_name', freq='D'))\n",
    "agg_df = gb_daily['value_column'].sum()\n",
    "```"
   ]
  },
  {
   "cell_type": "markdown",
   "metadata": {},
   "source": [
    "### Exercise\n",
    "\n",
    "Find the total number of referrals by month and then plot the resulting time series, then plot with `df.plot()`. What happened in March 2020?"
   ]
  },
  {
   "cell_type": "code",
   "execution_count": 9,
   "metadata": {},
   "outputs": [
    {
     "data": {
      "text/plain": [
       "<AxesSubplot:xlabel='week_start'>"
      ]
     },
     "execution_count": 9,
     "metadata": {},
     "output_type": "execute_result"
    },
    {
     "data": {
      "image/png": "[encoded data removed]",
      "text/plain": [
       "<Figure size 432x288 with 1 Axes>"
      ]
     },
     "metadata": {
      "needs_background": "light"
     },
     "output_type": "display_data"
    }
   ],
   "source": [
    "df.groupby(pd.Grouper(key='week_start', freq='W'))['referrals'].sum().plot()"
   ]
  },
  {
   "cell_type": "markdown",
   "metadata": {
    "pycharm": {
     "name": "#%% md\n"
    }
   },
   "source": [
    "### Unstacking\n",
    "\n",
    "We saw above that grouping by multiple columns at once gives us a pandas `Series` object with two index 'levels'. But it is easier to handle the data if one of these levels can be switched around and transformed into multiple *columns* instead. In pandas this is called an `unstack` operation, by analogy with taking a stack of books (like horizontal rows) and rotating them to place on a shelf (like vertical columns).\n",
    "\n",
    "```python\n",
    "gb_multi_cols = df.groupby(['column_1', 'column_2'])\n",
    "summed_values_stacked = gb_multi_cols['value_colum'].sum()\n",
    "summed_values_unstacked_c1 = summed_values_stacked.unstack('column_1')\n",
    "```\n",
    "For example, let's say our dataframe looked like this and then we used `groupby` with `sum`:"
   ]
  },
  {
   "cell_type": "code",
   "execution_count": 10,
   "metadata": {},
   "outputs": [
    {
     "data": {
      "text/html": [
       "<div>\n",
       "<style scoped>\n",
       "    .dataframe tbody tr th:only-of-type {\n",
       "        vertical-align: middle;\n",
       "    }\n",
       "\n",
       "    .dataframe tbody tr th {\n",
       "        vertical-align: top;\n",
       "    }\n",
       "\n",
       "    .dataframe thead th {\n",
       "        text-align: right;\n",
       "    }\n",
       "</style>\n",
       "<table border=\"1\" class=\"dataframe\">\n",
       "  <thead>\n",
       "    <tr style=\"text-align: right;\">\n",
       "      <th></th>\n",
       "      <th>ccg_code</th>\n",
       "      <th>priority</th>\n",
       "      <th>referrals</th>\n",
       "    </tr>\n",
       "  </thead>\n",
       "  <tbody>\n",
       "    <tr>\n",
       "      <th>0</th>\n",
       "      <td>00L</td>\n",
       "      <td>Routine</td>\n",
       "      <td>2</td>\n",
       "    </tr>\n",
       "    <tr>\n",
       "      <th>1</th>\n",
       "      <td>00L</td>\n",
       "      <td>Routine</td>\n",
       "      <td>6</td>\n",
       "    </tr>\n",
       "    <tr>\n",
       "      <th>2</th>\n",
       "      <td>99C</td>\n",
       "      <td>Urgent</td>\n",
       "      <td>1</td>\n",
       "    </tr>\n",
       "    <tr>\n",
       "      <th>3</th>\n",
       "      <td>00L</td>\n",
       "      <td>2 Week Wait</td>\n",
       "      <td>4</td>\n",
       "    </tr>\n",
       "    <tr>\n",
       "      <th>4</th>\n",
       "      <td>99C</td>\n",
       "      <td>Routine</td>\n",
       "      <td>9</td>\n",
       "    </tr>\n",
       "  </tbody>\n",
       "</table>\n",
       "</div>"
      ],
      "text/plain": [
       "  ccg_code     priority referrals\n",
       "0      00L      Routine         2\n",
       "1      00L      Routine         6\n",
       "2      99C       Urgent         1\n",
       "3      00L  2 Week Wait         4\n",
       "4      99C      Routine         9"
      ]
     },
     "execution_count": 10,
     "metadata": {},
     "output_type": "execute_result"
    }
   ],
   "source": [
    "# define example data\n",
    "example_data = {\n",
    "    \"ccg_code\": [\"00L\", \"00L\", \"99C\", \"00L\", \"99C\"],\n",
    "    \"priority\": [\"Routine\", \"Routine\", \"Urgent\", \"2 Week Wait\", \"Routine\"],\n",
    "    \"referrals\": [\"2\", \"6\", \"1\", \"4\", \"9\"]\n",
    "}\n",
    "example = pd.DataFrame(example_data)\n",
    "example"
   ]
  },
  {
   "cell_type": "code",
   "execution_count": 11,
   "metadata": {},
   "outputs": [
    {
     "data": {
      "text/html": [
       "<div>\n",
       "<style scoped>\n",
       "    .dataframe tbody tr th:only-of-type {\n",
       "        vertical-align: middle;\n",
       "    }\n",
       "\n",
       "    .dataframe tbody tr th {\n",
       "        vertical-align: top;\n",
       "    }\n",
       "\n",
       "    .dataframe thead th {\n",
       "        text-align: right;\n",
       "    }\n",
       "</style>\n",
       "<table border=\"1\" class=\"dataframe\">\n",
       "  <thead>\n",
       "    <tr style=\"text-align: right;\">\n",
       "      <th></th>\n",
       "      <th></th>\n",
       "      <th>referrals</th>\n",
       "    </tr>\n",
       "    <tr>\n",
       "      <th>ccg_code</th>\n",
       "      <th>priority</th>\n",
       "      <th></th>\n",
       "    </tr>\n",
       "  </thead>\n",
       "  <tbody>\n",
       "    <tr>\n",
       "      <th rowspan=\"2\" valign=\"top\">00L</th>\n",
       "      <th>2 Week Wait</th>\n",
       "      <td>4</td>\n",
       "    </tr>\n",
       "    <tr>\n",
       "      <th>Routine</th>\n",
       "      <td>26</td>\n",
       "    </tr>\n",
       "    <tr>\n",
       "      <th rowspan=\"2\" valign=\"top\">99C</th>\n",
       "      <th>Routine</th>\n",
       "      <td>9</td>\n",
       "    </tr>\n",
       "    <tr>\n",
       "      <th>Urgent</th>\n",
       "      <td>1</td>\n",
       "    </tr>\n",
       "  </tbody>\n",
       "</table>\n",
       "</div>"
      ],
      "text/plain": [
       "                     referrals\n",
       "ccg_code priority             \n",
       "00L      2 Week Wait         4\n",
       "         Routine            26\n",
       "99C      Routine             9\n",
       "         Urgent              1"
      ]
     },
     "execution_count": 11,
     "metadata": {},
     "output_type": "execute_result"
    }
   ],
   "source": [
    "# aggregate example data\n",
    "gb_example_stacked = example.groupby(['ccg_code', 'priority']).sum()\n",
    "gb_example_stacked"
   ]
  },
  {
   "cell_type": "markdown",
   "metadata": {},
   "source": [
    "We can make the `priority` level into columns, like this:"
   ]
  },
  {
   "cell_type": "code",
   "execution_count": 12,
   "metadata": {},
   "outputs": [
    {
     "data": {
      "text/html": [
       "<div>\n",
       "<style scoped>\n",
       "    .dataframe tbody tr th:only-of-type {\n",
       "        vertical-align: middle;\n",
       "    }\n",
       "\n",
       "    .dataframe tbody tr th {\n",
       "        vertical-align: top;\n",
       "    }\n",
       "\n",
       "    .dataframe thead tr th {\n",
       "        text-align: left;\n",
       "    }\n",
       "\n",
       "    .dataframe thead tr:last-of-type th {\n",
       "        text-align: right;\n",
       "    }\n",
       "</style>\n",
       "<table border=\"1\" class=\"dataframe\">\n",
       "  <thead>\n",
       "    <tr>\n",
       "      <th></th>\n",
       "      <th colspan=\"3\" halign=\"left\">referrals</th>\n",
       "    </tr>\n",
       "    <tr>\n",
       "      <th>priority</th>\n",
       "      <th>2 Week Wait</th>\n",
       "      <th>Routine</th>\n",
       "      <th>Urgent</th>\n",
       "    </tr>\n",
       "    <tr>\n",
       "      <th>ccg_code</th>\n",
       "      <th></th>\n",
       "      <th></th>\n",
       "      <th></th>\n",
       "    </tr>\n",
       "  </thead>\n",
       "  <tbody>\n",
       "    <tr>\n",
       "      <th>00L</th>\n",
       "      <td>4</td>\n",
       "      <td>26</td>\n",
       "      <td>NaN</td>\n",
       "    </tr>\n",
       "    <tr>\n",
       "      <th>99C</th>\n",
       "      <td>NaN</td>\n",
       "      <td>9</td>\n",
       "      <td>1</td>\n",
       "    </tr>\n",
       "  </tbody>\n",
       "</table>\n",
       "</div>"
      ],
      "text/plain": [
       "           referrals               \n",
       "priority 2 Week Wait Routine Urgent\n",
       "ccg_code                           \n",
       "00L                4      26    NaN\n",
       "99C              NaN       9      1"
      ]
     },
     "execution_count": 12,
     "metadata": {},
     "output_type": "execute_result"
    }
   ],
   "source": [
    "gb_example_stacked.unstack('priority')"
   ]
  },
  {
   "cell_type": "markdown",
   "metadata": {},
   "source": [
    "Notice there's missing data (`NaN`) for some elements, since those combinations weren't present in the original data.\n",
    "\n",
    "Now let's group by both month and priority and take the total number of referrals for each, then unstack the priority level, so that months are rows and priorities are columns. This will allow us to plot the time series for each priority simultaneously.\n",
    "\n",
    "E.g. result of the following will have rows for each date and columns for each value of `other_column`:\n",
    "\n",
    "```python\n",
    "gb_date_and_col = df.groupby([pd.Grouper(key='date_column', freq='M'), 'other_column'])\n",
    "agg_df = gb_monthly_priority['value'].sum()\n",
    "unstacked = agg_df.unstack('other_column')\n",
    "```\n",
    "\n",
    "Then we can plot these all together with `unstacked.plot()`."
   ]
  },
  {
   "cell_type": "code",
   "execution_count": 14,
   "metadata": {},
   "outputs": [
    {
     "data": {
      "image/png": "[encoded data removed]",
      "text/plain": [
       "<Figure size 432x288 with 1 Axes>"
      ]
     },
     "metadata": {
      "needs_background": "light"
     },
     "output_type": "display_data"
    }
   ],
   "source": [
    "agg_df = df.groupby([pd.Grouper(key='week_start', freq='M'), 'priority'])['referrals'].sum()\n",
    "timeseries_df = agg_df.unstack('priority').plot()"
   ]
  },
  {
   "cell_type": "markdown",
   "metadata": {},
   "source": [
    "Finally, save your output time series using the `output_data_path` defined above.\n",
    "\n",
    "```python\n",
    "timeseries_df.to_csv(output_data_path)\n",
    "```"
   ]
  },
  {
   "cell_type": "code",
   "execution_count": null,
   "metadata": {},
   "outputs": [],
   "source": []
  },
  {
   "cell_type": "markdown",
   "metadata": {},
   "source": [
    "### Exercise\n",
    "\n",
    "The client has come back and said the meant for each **specialty**, not each priority! Also they want the time points to be the **start of each quarter**, rather than monthly.\n",
    "\n",
    "Hint: you can find the reference list of time point aggregations here: https://pandas.pydata.org/pandas-docs/stable/user_guide/timeseries.html#offset-aliases"
   ]
  },
  {
   "cell_type": "code",
   "execution_count": 15,
   "metadata": {},
   "outputs": [
    {
     "data": {
      "text/html": [
       "<div>\n",
       "<style scoped>\n",
       "    .dataframe tbody tr th:only-of-type {\n",
       "        vertical-align: middle;\n",
       "    }\n",
       "\n",
       "    .dataframe tbody tr th {\n",
       "        vertical-align: top;\n",
       "    }\n",
       "\n",
       "    .dataframe thead th {\n",
       "        text-align: right;\n",
       "    }\n",
       "</style>\n",
       "<table border=\"1\" class=\"dataframe\">\n",
       "  <thead>\n",
       "    <tr style=\"text-align: right;\">\n",
       "      <th>specialty</th>\n",
       "      <th>(blank)</th>\n",
       "      <th>2WW</th>\n",
       "      <th>Allergy</th>\n",
       "      <th>Cardiology</th>\n",
       "      <th>Children's &amp; Adolescent Services</th>\n",
       "      <th>Community Healthcare</th>\n",
       "      <th>Complementary Medicine</th>\n",
       "      <th>Dentistry and Orthodontics</th>\n",
       "      <th>Dermatology</th>\n",
       "      <th>Diabetic Medicine</th>\n",
       "      <th>...</th>\n",
       "      <th>Rheumatology</th>\n",
       "      <th>Sleep Medicine</th>\n",
       "      <th>Speech and Language Therapy</th>\n",
       "      <th>Sports and Exercise Medicine</th>\n",
       "      <th>Surgery - Breast</th>\n",
       "      <th>Surgery - Cardiothoracic</th>\n",
       "      <th>Surgery - Not Otherwise Specified</th>\n",
       "      <th>Surgery - Plastic</th>\n",
       "      <th>Surgery - Vascular</th>\n",
       "      <th>Urology</th>\n",
       "    </tr>\n",
       "    <tr>\n",
       "      <th>week_start</th>\n",
       "      <th></th>\n",
       "      <th></th>\n",
       "      <th></th>\n",
       "      <th></th>\n",
       "      <th></th>\n",
       "      <th></th>\n",
       "      <th></th>\n",
       "      <th></th>\n",
       "      <th></th>\n",
       "      <th></th>\n",
       "      <th></th>\n",
       "      <th></th>\n",
       "      <th></th>\n",
       "      <th></th>\n",
       "      <th></th>\n",
       "      <th></th>\n",
       "      <th></th>\n",
       "      <th></th>\n",
       "      <th></th>\n",
       "      <th></th>\n",
       "      <th></th>\n",
       "    </tr>\n",
       "  </thead>\n",
       "  <tbody>\n",
       "    <tr>\n",
       "      <th>2019-10-01</th>\n",
       "      <td>29346.0</td>\n",
       "      <td>631933.0</td>\n",
       "      <td>14457.0</td>\n",
       "      <td>184087.0</td>\n",
       "      <td>269589.0</td>\n",
       "      <td>1209.0</td>\n",
       "      <td>196.0</td>\n",
       "      <td>407.0</td>\n",
       "      <td>209036.0</td>\n",
       "      <td>27146.0</td>\n",
       "      <td>...</td>\n",
       "      <td>91685.0</td>\n",
       "      <td>23896.0</td>\n",
       "      <td>1222.0</td>\n",
       "      <td>634.0</td>\n",
       "      <td>31572.0</td>\n",
       "      <td>500.0</td>\n",
       "      <td>70514.0</td>\n",
       "      <td>18123.0</td>\n",
       "      <td>42499.0</td>\n",
       "      <td>133388.0</td>\n",
       "    </tr>\n",
       "    <tr>\n",
       "      <th>2020-01-01</th>\n",
       "      <td>26406.0</td>\n",
       "      <td>610649.0</td>\n",
       "      <td>13845.0</td>\n",
       "      <td>175621.0</td>\n",
       "      <td>269518.0</td>\n",
       "      <td>1743.0</td>\n",
       "      <td>182.0</td>\n",
       "      <td>353.0</td>\n",
       "      <td>195480.0</td>\n",
       "      <td>27666.0</td>\n",
       "      <td>...</td>\n",
       "      <td>86499.0</td>\n",
       "      <td>25960.0</td>\n",
       "      <td>1207.0</td>\n",
       "      <td>529.0</td>\n",
       "      <td>29192.0</td>\n",
       "      <td>502.0</td>\n",
       "      <td>63967.0</td>\n",
       "      <td>17145.0</td>\n",
       "      <td>41047.0</td>\n",
       "      <td>126660.0</td>\n",
       "    </tr>\n",
       "    <tr>\n",
       "      <th>2020-04-01</th>\n",
       "      <td>8119.0</td>\n",
       "      <td>433238.0</td>\n",
       "      <td>4977.0</td>\n",
       "      <td>77820.0</td>\n",
       "      <td>99957.0</td>\n",
       "      <td>478.0</td>\n",
       "      <td>59.0</td>\n",
       "      <td>138.0</td>\n",
       "      <td>76344.0</td>\n",
       "      <td>11369.0</td>\n",
       "      <td>...</td>\n",
       "      <td>39394.0</td>\n",
       "      <td>7234.0</td>\n",
       "      <td>859.0</td>\n",
       "      <td>154.0</td>\n",
       "      <td>14916.0</td>\n",
       "      <td>239.0</td>\n",
       "      <td>24740.0</td>\n",
       "      <td>5759.0</td>\n",
       "      <td>17067.0</td>\n",
       "      <td>50245.0</td>\n",
       "    </tr>\n",
       "    <tr>\n",
       "      <th>2020-07-01</th>\n",
       "      <td>16072.0</td>\n",
       "      <td>627069.0</td>\n",
       "      <td>10892.0</td>\n",
       "      <td>128176.0</td>\n",
       "      <td>194922.0</td>\n",
       "      <td>1505.0</td>\n",
       "      <td>133.0</td>\n",
       "      <td>337.0</td>\n",
       "      <td>162879.0</td>\n",
       "      <td>19610.0</td>\n",
       "      <td>...</td>\n",
       "      <td>71243.0</td>\n",
       "      <td>15427.0</td>\n",
       "      <td>1213.0</td>\n",
       "      <td>353.0</td>\n",
       "      <td>24329.0</td>\n",
       "      <td>407.0</td>\n",
       "      <td>51928.0</td>\n",
       "      <td>13212.0</td>\n",
       "      <td>33153.0</td>\n",
       "      <td>95954.0</td>\n",
       "    </tr>\n",
       "    <tr>\n",
       "      <th>2020-10-01</th>\n",
       "      <td>14975.0</td>\n",
       "      <td>624608.0</td>\n",
       "      <td>10028.0</td>\n",
       "      <td>134641.0</td>\n",
       "      <td>205604.0</td>\n",
       "      <td>2294.0</td>\n",
       "      <td>115.0</td>\n",
       "      <td>292.0</td>\n",
       "      <td>146889.0</td>\n",
       "      <td>20951.0</td>\n",
       "      <td>...</td>\n",
       "      <td>72032.0</td>\n",
       "      <td>15205.0</td>\n",
       "      <td>1141.0</td>\n",
       "      <td>292.0</td>\n",
       "      <td>28673.0</td>\n",
       "      <td>448.0</td>\n",
       "      <td>48596.0</td>\n",
       "      <td>11761.0</td>\n",
       "      <td>29675.0</td>\n",
       "      <td>98255.0</td>\n",
       "    </tr>\n",
       "  </tbody>\n",
       "</table>\n",
       "<p>5 rows × 57 columns</p>\n",
       "</div>"
      ],
      "text/plain": [
       "specialty   (blank)       2WW  Allergy  Cardiology  \\\n",
       "week_start                                           \n",
       "2019-10-01  29346.0  631933.0  14457.0    184087.0   \n",
       "2020-01-01  26406.0  610649.0  13845.0    175621.0   \n",
       "2020-04-01   8119.0  433238.0   4977.0     77820.0   \n",
       "2020-07-01  16072.0  627069.0  10892.0    128176.0   \n",
       "2020-10-01  14975.0  624608.0  10028.0    134641.0   \n",
       "\n",
       "specialty   Children's & Adolescent Services  Community Healthcare  \\\n",
       "week_start                                                           \n",
       "2019-10-01                          269589.0                1209.0   \n",
       "2020-01-01                          269518.0                1743.0   \n",
       "2020-04-01                           99957.0                 478.0   \n",
       "2020-07-01                          194922.0                1505.0   \n",
       "2020-10-01                          205604.0                2294.0   \n",
       "\n",
       "specialty   Complementary Medicine  Dentistry and Orthodontics  Dermatology  \\\n",
       "week_start                                                                    \n",
       "2019-10-01                   196.0                       407.0     209036.0   \n",
       "2020-01-01                   182.0                       353.0     195480.0   \n",
       "2020-04-01                    59.0                       138.0      76344.0   \n",
       "2020-07-01                   133.0                       337.0     162879.0   \n",
       "2020-10-01                   115.0                       292.0     146889.0   \n",
       "\n",
       "specialty   Diabetic Medicine  ...  Rheumatology  Sleep Medicine  \\\n",
       "week_start                     ...                                 \n",
       "2019-10-01            27146.0  ...       91685.0         23896.0   \n",
       "2020-01-01            27666.0  ...       86499.0         25960.0   \n",
       "2020-04-01            11369.0  ...       39394.0          7234.0   \n",
       "2020-07-01            19610.0  ...       71243.0         15427.0   \n",
       "2020-10-01            20951.0  ...       72032.0         15205.0   \n",
       "\n",
       "specialty   Speech and Language Therapy  Sports and Exercise Medicine  \\\n",
       "week_start                                                              \n",
       "2019-10-01                       1222.0                         634.0   \n",
       "2020-01-01                       1207.0                         529.0   \n",
       "2020-04-01                        859.0                         154.0   \n",
       "2020-07-01                       1213.0                         353.0   \n",
       "2020-10-01                       1141.0                         292.0   \n",
       "\n",
       "specialty   Surgery - Breast  Surgery - Cardiothoracic  \\\n",
       "week_start                                               \n",
       "2019-10-01           31572.0                     500.0   \n",
       "2020-01-01           29192.0                     502.0   \n",
       "2020-04-01           14916.0                     239.0   \n",
       "2020-07-01           24329.0                     407.0   \n",
       "2020-10-01           28673.0                     448.0   \n",
       "\n",
       "specialty   Surgery - Not Otherwise Specified  Surgery - Plastic  \\\n",
       "week_start                                                         \n",
       "2019-10-01                            70514.0            18123.0   \n",
       "2020-01-01                            63967.0            17145.0   \n",
       "2020-04-01                            24740.0             5759.0   \n",
       "2020-07-01                            51928.0            13212.0   \n",
       "2020-10-01                            48596.0            11761.0   \n",
       "\n",
       "specialty   Surgery - Vascular   Urology  \n",
       "week_start                                \n",
       "2019-10-01             42499.0  133388.0  \n",
       "2020-01-01             41047.0  126660.0  \n",
       "2020-04-01             17067.0   50245.0  \n",
       "2020-07-01             33153.0   95954.0  \n",
       "2020-10-01             29675.0   98255.0  \n",
       "\n",
       "[5 rows x 57 columns]"
      ]
     },
     "execution_count": 15,
     "metadata": {},
     "output_type": "execute_result"
    }
   ],
   "source": [
    "new_gb = df.groupby([pd.Grouper(key='week_start', freq='QS'), 'specialty'])\n",
    "new_sum = new_gb['referrals'].sum()\n",
    "\n",
    "new_sum_unstack = new_sum.unstack('specialty')\n",
    "new_sum_unstack"
   ]
  },
  {
   "cell_type": "code",
   "execution_count": 16,
   "metadata": {},
   "outputs": [
    {
     "data": {
      "text/plain": [
       "<AxesSubplot:xlabel='week_start'>"
      ]
     },
     "execution_count": 16,
     "metadata": {},
     "output_type": "execute_result"
    },
    {
     "data": {
      "image/png": "[encoded data removed]",
      "text/plain": [
       "<Figure size 432x288 with 1 Axes>"
      ]
     },
     "metadata": {
      "needs_background": "light"
     },
     "output_type": "display_data"
    }
   ],
   "source": [
    "new_sum_unstack.plot()"
   ]
  },
  {
   "cell_type": "code",
   "execution_count": null,
   "metadata": {},
   "outputs": [],
   "source": []
  }
 ],
 "metadata": {
  "kernelspec": {
   "display_name": "Python 3 (ipykernel)",
   "language": "python",
   "name": "python3"
  },
  "language_info": {
   "codemirror_mode": {
    "name": "ipython",
    "version": 3
   },
   "file_extension": ".py",
   "mimetype": "text/x-python",
   "name": "python",
   "nbconvert_exporter": "python",
   "pygments_lexer": "ipython3",
   "version": "3.9.12"
  }
 },
 "nbformat": 4,
 "nbformat_minor": 4
}
