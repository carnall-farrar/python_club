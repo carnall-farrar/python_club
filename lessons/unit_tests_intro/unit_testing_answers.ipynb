{
 "cells": [
  {
   "cell_type": "markdown",
   "metadata": {},
   "source": [
    "# Unit tests"
   ]
  },
  {
   "cell_type": "markdown",
   "metadata": {},
   "source": [
    "Unit testing is a fundamental practice in software development where individual units or parts of code are tested to ensure they work correctly. These tests help identify any issues or bugs in the code early on, making it easier to fix them. By testing each unit separately, developers can isolate problems and ensure that each piece of code functions as intended. This approach enhances the reliability and stability of the code. \n",
    "\n",
    "## PyTest\n",
    "\n",
    "There are various Python testing tools available, but the focus of this lesson is on the Python testing framework called PyTest. PyTest is a popular testing framework that simplifies the process of writing and exicuting tests in Python. It provides a simple syntax for writing tests, features for test discovery and organisation, and support for fixtures. \n",
    "\n",
    "### Organising and naming \n",
    "PyTest discovers tests based on predefined conventions, ensuring seamless discovery and execution when specific naming conventions are adhered to.\n",
    " \n",
    "<br></br>\n",
    "\n",
    "Without specifying any specific tests, PyTest will start looking for tests in the folder you are working. <br></br>\n",
    "<br>`poetry run pytest`</br>\n",
    "<br></br>\n",
    "You can also tell PyTest to search in specific folders or for specific test files by using command line arguments. PyTest will go into these folders and search for files that start with 'test_' or end with '_test.py'. It looks for these files inside their test package names.<br></br>\n",
    "<br>`poetry run pytest tests/unit_tests/test_practice.py`</br>\n",
    "\n",
    "<br></br>\n",
    "\n",
    "PyTest then collects differnt test from these identified files.\n",
    "1. Functions that strat with `test_`.\n",
    "2. Functions inside classes that strat with `Test` and don't have an `__init__` method.\n"
   ]
  },
  {
   "cell_type": "markdown",
   "metadata": {},
   "source": [
    "## The <font color=#26A5B8>assert</font> statement\n",
    "\n",
    "The `assert` statement is a built-in feature in Python used to check whether a given condition is true or not. If the condition is true, nothing happens, the test passes, but if it's not true, an error is raised.\n"
   ]
  },
  {
   "cell_type": "code",
   "execution_count": null,
   "metadata": {},
   "outputs": [],
   "source": [
    "# The condition in the line below is true and, therefore, it does not output or return anything\n",
    "assert 1 > 0"
   ]
  },
  {
   "cell_type": "code",
   "execution_count": null,
   "metadata": {},
   "outputs": [],
   "source": [
    "# If we change this condition so it becomes false, we get an assertion error\n",
    "assert 1 < 0"
   ]
  },
  {
   "cell_type": "markdown",
   "metadata": {},
   "source": [
    "Notice that in the last row of the error message there isn't an actual message after <font color=\"red\">AssertionError:</font>. That is because you are able to pass in an error message.  "
   ]
  },
  {
   "cell_type": "code",
   "execution_count": null,
   "metadata": {},
   "outputs": [],
   "source": [
    "assert 1 < 0, \"The condition is false\""
   ]
  },
  {
   "cell_type": "markdown",
   "metadata": {},
   "source": [
    "The basic syntax for using <font color=#26A5B8>assert</font> is <br></br>\n",
    "`assert condition_being_tested, error_message_to_be_displayed`"
   ]
  },
  {
   "cell_type": "markdown",
   "metadata": {},
   "source": [
    "### Lets have a go at writing a test for a simple function"
   ]
  },
  {
   "cell_type": "code",
   "execution_count": 1,
   "metadata": {},
   "outputs": [],
   "source": [
    "# This import is needed to be able to run pytest in this notebook \n",
    "import ipytest\n",
    "ipytest.autoconfig()"
   ]
  },
  {
   "cell_type": "code",
   "execution_count": 2,
   "metadata": {},
   "outputs": [],
   "source": [
    "# A simple funtion that returns the sum total of two integers\n",
    "def add_one_func(x:int) -> int:\n",
    "    return x + 1"
   ]
  },
  {
   "cell_type": "code",
   "execution_count": 3,
   "metadata": {},
   "outputs": [
    {
     "name": "stdout",
     "output_type": "stream",
     "text": [
      "\u001b[32m.\u001b[0m\u001b[32m                                                                                            [100%]\u001b[0m\n"
     ]
    }
   ],
   "source": [
    "# The below line is needed to be able to execute pytests in a jupyter notebook\n",
    "%%ipytest -qq\n",
    "\n",
    "# Define the test function for testing the sum function\n",
    "def test_add_one_func():\n",
    "    calculated_output = add_one_func(4)\n",
    "    expected_output = 5\n",
    "    assert calculated_output == expected_output"
   ]
  },
  {
   "cell_type": "markdown",
   "metadata": {},
   "source": [
    "Let's have a look at what it looks like when a test fails"
   ]
  },
  {
   "cell_type": "code",
   "execution_count": 4,
   "metadata": {},
   "outputs": [
    {
     "name": "stdout",
     "output_type": "stream",
     "text": [
      "\u001b[31mF\u001b[0m\u001b[31m                                                                                            [100%]\u001b[0m\n",
      "============================================= FAILURES =============================================\n",
      "\u001b[31m\u001b[1m________________________________________ test_add_one_func _________________________________________\u001b[0m\n",
      "\n",
      "    \u001b[0m\u001b[94mdef\u001b[39;49;00m \u001b[92mtest_add_one_func\u001b[39;49;00m():\u001b[90m\u001b[39;49;00m\n",
      "        calculation = add_one_func(\u001b[94m4\u001b[39;49;00m)\u001b[90m\u001b[39;49;00m\n",
      "        expected = \u001b[94m6\u001b[39;49;00m\u001b[90m\u001b[39;49;00m\n",
      ">       \u001b[94massert\u001b[39;49;00m calculation == expected\u001b[90m\u001b[39;49;00m\n",
      "\u001b[1m\u001b[31mE       assert 5 == 6\u001b[0m\n",
      "\n",
      "\u001b[1m\u001b[31m/var/folders/sv/2dntmf7d5x75x673ymf_5yqh0000gn/T/ipykernel_29602/3105299450.py\u001b[0m:5: AssertionError\n",
      "\u001b[36m\u001b[1m===================================== short test summary info ======================================\u001b[0m\n",
      "\u001b[31mFAILED\u001b[0m t_9e84a44372ba4b1caa37a6f1e5515c8c.py::\u001b[1mtest_add_one_func\u001b[0m - assert 5 == 6\n"
     ]
    }
   ],
   "source": [
    "%%ipytest -qq\n",
    "\n",
    "# Define the test function for testing the sum function\n",
    "def test_add_one_func():\n",
    "    calculated_output = add_one_func(4)\n",
    "    expected_output = 6\n",
    "    assert calculated_output == expected_output"
   ]
  },
  {
   "cell_type": "markdown",
   "metadata": {},
   "source": [
    "### Exercise\n",
    "Let's have a go at writing a unit tests."
   ]
  },
  {
   "cell_type": "code",
   "execution_count": 2,
   "metadata": {},
   "outputs": [],
   "source": [
    "# Function to calculate BMI\n",
    "def calculate_bmi(height, weight):\n",
    "    if height <= 0 or weight <= 0:\n",
    "        return None\n",
    "    else: \n",
    "        bmi = round(weight / (height ** 2), 2)\n",
    "    return bmi"
   ]
  },
  {
   "cell_type": "markdown",
   "metadata": {},
   "source": [
    "Write a unit test to check that the function for calculating BMI is working as we would expect.\n",
    "Test it with valid inputs as well as boundary cases where either hight or weight is zero\n",
    "\n",
    "|Height| Weight| BMI|\n",
    "|-------|-------|----|\n",
    "|1.75 | 70 | 22.86|\n",
    "|1.6| 60 | 23.44|\n",
    "|0|70|None|\n",
    "|1.8| 0| None|"
   ]
  },
  {
   "cell_type": "code",
   "execution_count": 12,
   "metadata": {},
   "outputs": [
    {
     "name": "stdout",
     "output_type": "stream",
     "text": [
      "\u001b[32m.\u001b[0m\u001b[32m.\u001b[0m\u001b[31mF\u001b[0m\u001b[31m                                                                                          [100%]\u001b[0m\n",
      "============================================= FAILURES =============================================\n",
      "\u001b[31m\u001b[1m__________________________________ test_categorise_blood_pressure __________________________________\u001b[0m\n",
      "\n",
      "    \u001b[0m\u001b[94mdef\u001b[39;49;00m \u001b[92mtest_categorise_blood_pressure\u001b[39;49;00m():\u001b[90m\u001b[39;49;00m\n",
      "        \u001b[94massert\u001b[39;49;00m categorise_blood_pressure(\u001b[94m110\u001b[39;49;00m, \u001b[94m70\u001b[39;49;00m) == \u001b[33m\"\u001b[39;49;00m\u001b[33mNormal\u001b[39;49;00m\u001b[33m\"\u001b[39;49;00m\u001b[90m\u001b[39;49;00m\n",
      ">       \u001b[94massert\u001b[39;49;00m categorise_blood_pressure(\u001b[94m130\u001b[39;49;00m, \u001b[94m85\u001b[39;49;00m) == \u001b[33m\"\u001b[39;49;00m\u001b[33mPrehypertension\u001b[39;49;00m\u001b[33m\"\u001b[39;49;00m\u001b[90m\u001b[39;49;00m\n",
      "\u001b[1m\u001b[31mE       AssertionError: assert 'Abnormal' == 'Prehypertension'\u001b[0m\n",
      "\u001b[1m\u001b[31mE         \u001b[0m\n",
      "\u001b[1m\u001b[31mE         - Prehypertension\u001b[0m\n",
      "\u001b[1m\u001b[31mE         + Abnormal\u001b[0m\n",
      "\n",
      "\u001b[1m\u001b[31m/var/folders/sv/2dntmf7d5x75x673ymf_5yqh0000gn/T/ipykernel_30228/1634774296.py\u001b[0m:4: AssertionError\n",
      "\u001b[36m\u001b[1m===================================== short test summary info ======================================\u001b[0m\n",
      "\u001b[31mFAILED\u001b[0m t_5af063b0f9734f6cb678a1adc8fade53.py::\u001b[1mtest_categorise_blood_pressure\u001b[0m - AssertionError: assert 'Abnormal' == 'Prehypertension'\n",
      "\u001b[31m\u001b[31m\u001b[1m1 failed\u001b[0m, \u001b[32m2 passed\u001b[0m\u001b[31m in 0.02s\u001b[0m\u001b[0m\n"
     ]
    },
    {
     "data": {
      "text/plain": [
       "<ExitCode.TESTS_FAILED: 1>"
      ]
     },
     "execution_count": 12,
     "metadata": {},
     "output_type": "execute_result"
    }
   ],
   "source": [
    "# Answer\n",
    "\n",
    "def test_calculate_bmi():\n",
    "    calculated_output_1 = calculate_bmi(1.75, 70)\n",
    "    expected_output_1 = 22.86\n",
    "\n",
    "    calculated_output_2 = calculate_bmi(1.6, 60)\n",
    "    expected_output_2 = 23.44\n",
    "\n",
    "    calculated_output_3 = calculate_bmi(0, 70)\n",
    "    expected_output_3 = None\n",
    "\n",
    "    assert calculated_output_1 == expected_output_1\n",
    "    assert calculated_output_2 == expected_output_2\n",
    "    assert calculated_output_3 == expected_output_3\n",
    "    assert calculate_bmi(1.75, 0) == None\n",
    "\n",
    "ipytest.run()"
   ]
  },
  {
   "cell_type": "markdown",
   "metadata": {},
   "source": [
    "Can you write a test to check that the following function for categorising blood pressure is working as expected"
   ]
  },
  {
   "cell_type": "code",
   "execution_count": 13,
   "metadata": {},
   "outputs": [],
   "source": [
    "# Function that categorises blood pressure \n",
    "def categorise_blood_pressure(systolic, diastolic):\n",
    "    if (systolic > 120 and systolic < 139) or (diastolic > 80 and diastolic < 89):\n",
    "        return \"Prehypertension\"\n",
    "    elif systolic <= 120 and diastolic <= 80:\n",
    "        return \"Normal\"\n",
    "    else:\n",
    "        return \"Abnormal\" "
   ]
  },
  {
   "cell_type": "code",
   "execution_count": 15,
   "metadata": {},
   "outputs": [
    {
     "name": "stdout",
     "output_type": "stream",
     "text": [
      "\u001b[32m.\u001b[0m\u001b[32m.\u001b[0m\u001b[32m.\u001b[0m\u001b[32m                                                                                          [100%]\u001b[0m\n",
      "\u001b[32m\u001b[32m\u001b[1m3 passed\u001b[0m\u001b[32m in 0.01s\u001b[0m\u001b[0m\n"
     ]
    },
    {
     "data": {
      "text/plain": [
       "<ExitCode.OK: 0>"
      ]
     },
     "execution_count": 15,
     "metadata": {},
     "output_type": "execute_result"
    }
   ],
   "source": [
    "# Test function for categorise_blood_pressure\n",
    "def test_categorise_blood_pressure():\n",
    "    assert categorise_blood_pressure(110, 70) == \"Normal\"\n",
    "    assert categorise_blood_pressure(130, 80) == \"Prehypertension\"\n",
    "    assert categorise_blood_pressure(140, 90) == \"Abnormal\"\n",
    "\n",
    "ipytest.run()"
   ]
  },
  {
   "cell_type": "markdown",
   "metadata": {},
   "source": [
    "### Alternatives to the basic <font color=#26A5B8>assert</font> statement \n",
    "\n",
    "The Python library Pandas, has specific assertion functions for comparing specific types of data structures in the Pandas library, such as DataFrames, Series, and Indexes. These assertion functions  provide more detailed and specialised comparison capabilities, allowing us to ensure that our data is processed correctly and remains consistent throughout our data analysis pipelines.\n",
    "\n",
    "`assert_frame_equal` \n",
    "<br></br>\n",
    "`assert_series_equal`\n",
    "<br></br>\n",
    "`assert_index_equal`\n"
   ]
  },
  {
   "cell_type": "code",
   "execution_count": 4,
   "metadata": {},
   "outputs": [
    {
     "name": "stdout",
     "output_type": "stream",
     "text": [
      "   id  age  gender     condition     treatment\n",
      "0   1   35    Male      Diabetes       Insulin\n",
      "1   2   50  Female  Hypertension    Medication\n",
      "2   3   45    Male      Diabetes          Diet\n",
      "3   4   55  Female        Cancer  Chemotherapy\n",
      "4   5   80    Male        Cancer     Radiation\n"
     ]
    }
   ],
   "source": [
    "import pandas as pd\n",
    "\n",
    "# Create a DataFrame with patient data\n",
    "data = {\n",
    "    'id': [1, 2, 3, 4, 5],\n",
    "    'age': [35, 50, 45, 55, 80],\n",
    "    'gender': ['Male', 'Female', 'Male', 'Female', 'Male'],\n",
    "    'condition': ['Diabetes', 'Hypertension', 'Diabetes', 'Cancer', 'Cancer'],\n",
    "    'treatment': ['Insulin', 'Medication', 'Diet', 'Chemotherapy', 'Radiation']\n",
    "}\n",
    "patients_df = pd.DataFrame(data)\n",
    "\n",
    "print(patients_df)\n"
   ]
  },
  {
   "cell_type": "code",
   "execution_count": 5,
   "metadata": {},
   "outputs": [
    {
     "data": {
      "text/html": [
       "<div>\n",
       "<style scoped>\n",
       "    .dataframe tbody tr th:only-of-type {\n",
       "        vertical-align: middle;\n",
       "    }\n",
       "\n",
       "    .dataframe tbody tr th {\n",
       "        vertical-align: top;\n",
       "    }\n",
       "\n",
       "    .dataframe thead th {\n",
       "        text-align: right;\n",
       "    }\n",
       "</style>\n",
       "<table border=\"1\" class=\"dataframe\">\n",
       "  <thead>\n",
       "    <tr style=\"text-align: right;\">\n",
       "      <th></th>\n",
       "      <th>id</th>\n",
       "      <th>age</th>\n",
       "      <th>gender</th>\n",
       "      <th>condition</th>\n",
       "      <th>treatment</th>\n",
       "    </tr>\n",
       "  </thead>\n",
       "  <tbody>\n",
       "    <tr>\n",
       "      <th>3</th>\n",
       "      <td>4</td>\n",
       "      <td>55</td>\n",
       "      <td>Female</td>\n",
       "      <td>Cancer</td>\n",
       "      <td>Chemotherapy</td>\n",
       "    </tr>\n",
       "    <tr>\n",
       "      <th>4</th>\n",
       "      <td>5</td>\n",
       "      <td>80</td>\n",
       "      <td>Male</td>\n",
       "      <td>Cancer</td>\n",
       "      <td>Radiation</td>\n",
       "    </tr>\n",
       "  </tbody>\n",
       "</table>\n",
       "</div>"
      ],
      "text/plain": [
       "   id  age  gender condition     treatment\n",
       "3   4   55  Female    Cancer  Chemotherapy\n",
       "4   5   80    Male    Cancer     Radiation"
      ]
     },
     "execution_count": 5,
     "metadata": {},
     "output_type": "execute_result"
    }
   ],
   "source": [
    "# Write a function that filters for Cancer patients \n",
    "# HINT: Use df.loc\n",
    "\n",
    "def filter_cancer_patients(df):\n",
    "    mask = df[\"condition\"] == 'Cancer'\n",
    "    df = df.loc[mask, :]\n",
    "    return df\n",
    "\n",
    "filter_cancer_patients(patients_df)"
   ]
  },
  {
   "cell_type": "code",
   "execution_count": 7,
   "metadata": {},
   "outputs": [
    {
     "name": "stdout",
     "output_type": "stream",
     "text": [
      "\u001b[32m.\u001b[0m\u001b[32m.\u001b[0m\u001b[32m                                                                                           [100%]\u001b[0m\n",
      "\u001b[32m\u001b[32m\u001b[1m2 passed\u001b[0m\u001b[32m in 0.01s\u001b[0m\u001b[0m\n"
     ]
    },
    {
     "data": {
      "text/plain": [
       "<ExitCode.OK: 0>"
      ]
     },
     "execution_count": 7,
     "metadata": {},
     "output_type": "execute_result"
    }
   ],
   "source": [
    "def test_filter_cancer_patients():\n",
    "    synthetic_input = pd.DataFrame({\n",
    "    'id': [1, 2, 3, 5],\n",
    "    'age': [35, 50, 45, 80],\n",
    "    'condition': ['Diabetes', 'Hypertension', 'Cancer', 'Cancer']\n",
    "    })\n",
    "    expected_output = pd.DataFrame({\n",
    "        'id': [3, 5],\n",
    "        'age': [45, 80],\n",
    "        'condition': ['Cancer', 'Cancer']\n",
    "    })\n",
    "\n",
    "    calculated_output = filter_cancer_patients(synthetic_input)\n",
    "\n",
    "    pd.testing.assert_frame_equal(calculated_output.reset_index(drop=True), expected_output.reset_index(drop=True))\n",
    "\n",
    "ipytest.run()"
   ]
  },
  {
   "cell_type": "markdown",
   "metadata": {},
   "source": [
    "### Exercise \n",
    "A client has asked for the total number of 2WW referrals for all CCGs, for the w/c the 6th of April 2020. Write a unit test to check that you have filtered your data correctly. \n",
    "\n",
    "1. Read in the data from the dataset: https://raw.githubusercontent.com/carnall-farrar/python_club/master/data/referrals_oct19_dec20.csv\n",
    "\n",
    "2. Take a subset of the data where specialty will be two week wait cancer referrals and the week start is 2020-04-06\n",
    "\n",
    "3. Write a test to check your function is correctly filtering for the desired specialty and time period.\n",
    "\n",
    "4. Write another test to assess that the function calculating the sum of referrals is doing what we would expect."
   ]
  },
  {
   "cell_type": "code",
   "execution_count": 16,
   "metadata": {},
   "outputs": [],
   "source": [
    "df = pd.read_csv(\"https://raw.githubusercontent.com/carnall-farrar/python_club/master/data/referrals_oct19_dec20.csv\")"
   ]
  },
  {
   "cell_type": "code",
   "execution_count": 17,
   "metadata": {},
   "outputs": [
    {
     "data": {
      "text/html": [
       "<div>\n",
       "<style scoped>\n",
       "    .dataframe tbody tr th:only-of-type {\n",
       "        vertical-align: middle;\n",
       "    }\n",
       "\n",
       "    .dataframe tbody tr th {\n",
       "        vertical-align: top;\n",
       "    }\n",
       "\n",
       "    .dataframe thead th {\n",
       "        text-align: right;\n",
       "    }\n",
       "</style>\n",
       "<table border=\"1\" class=\"dataframe\">\n",
       "  <thead>\n",
       "    <tr style=\"text-align: right;\">\n",
       "      <th></th>\n",
       "      <th>week_start</th>\n",
       "      <th>ccg_code</th>\n",
       "      <th>specialty</th>\n",
       "      <th>priority</th>\n",
       "      <th>referrals</th>\n",
       "    </tr>\n",
       "  </thead>\n",
       "  <tbody>\n",
       "    <tr>\n",
       "      <th>0</th>\n",
       "      <td>2019-10-07</td>\n",
       "      <td>00L</td>\n",
       "      <td>(blank)</td>\n",
       "      <td>Routine</td>\n",
       "      <td>13</td>\n",
       "    </tr>\n",
       "    <tr>\n",
       "      <th>1</th>\n",
       "      <td>2019-10-07</td>\n",
       "      <td>00L</td>\n",
       "      <td>(blank)</td>\n",
       "      <td>Urgent</td>\n",
       "      <td>1</td>\n",
       "    </tr>\n",
       "    <tr>\n",
       "      <th>2</th>\n",
       "      <td>2019-10-07</td>\n",
       "      <td>00L</td>\n",
       "      <td>2WW</td>\n",
       "      <td>2 Week Wait</td>\n",
       "      <td>349</td>\n",
       "    </tr>\n",
       "    <tr>\n",
       "      <th>3</th>\n",
       "      <td>2019-10-07</td>\n",
       "      <td>00L</td>\n",
       "      <td>Allergy</td>\n",
       "      <td>Routine</td>\n",
       "      <td>3</td>\n",
       "    </tr>\n",
       "    <tr>\n",
       "      <th>4</th>\n",
       "      <td>2019-10-07</td>\n",
       "      <td>00L</td>\n",
       "      <td>Cardiology</td>\n",
       "      <td>Routine</td>\n",
       "      <td>84</td>\n",
       "    </tr>\n",
       "  </tbody>\n",
       "</table>\n",
       "</div>"
      ],
      "text/plain": [
       "   week_start ccg_code   specialty     priority  referrals\n",
       "0  2019-10-07      00L     (blank)      Routine         13\n",
       "1  2019-10-07      00L     (blank)       Urgent          1\n",
       "2  2019-10-07      00L         2WW  2 Week Wait        349\n",
       "3  2019-10-07      00L     Allergy      Routine          3\n",
       "4  2019-10-07      00L  Cardiology      Routine         84"
      ]
     },
     "execution_count": 17,
     "metadata": {},
     "output_type": "execute_result"
    }
   ],
   "source": [
    "df.head()"
   ]
  },
  {
   "cell_type": "code",
   "execution_count": 24,
   "metadata": {},
   "outputs": [],
   "source": [
    "def filter_2WW_and_date(df):\n",
    "    mask = (df['specialty'] == '2WW') & (df['week_start'] == '2020-04-06')\n",
    "    df = df.loc[mask, :]\n",
    "    return df\n",
    "\n",
    "def get_total_2WW_referals(df):\n",
    "    total_referrals = df['referrals'].sum()\n",
    "    return total_referrals"
   ]
  },
  {
   "cell_type": "code",
   "execution_count": 30,
   "metadata": {},
   "outputs": [
    {
     "data": {
      "text/html": [
       "<div>\n",
       "<style scoped>\n",
       "    .dataframe tbody tr th:only-of-type {\n",
       "        vertical-align: middle;\n",
       "    }\n",
       "\n",
       "    .dataframe tbody tr th {\n",
       "        vertical-align: top;\n",
       "    }\n",
       "\n",
       "    .dataframe thead th {\n",
       "        text-align: right;\n",
       "    }\n",
       "</style>\n",
       "<table border=\"1\" class=\"dataframe\">\n",
       "  <thead>\n",
       "    <tr style=\"text-align: right;\">\n",
       "      <th></th>\n",
       "      <th>week_start</th>\n",
       "      <th>ccg_code</th>\n",
       "      <th>specialty</th>\n",
       "      <th>priority</th>\n",
       "      <th>referrals</th>\n",
       "    </tr>\n",
       "  </thead>\n",
       "  <tbody>\n",
       "    <tr>\n",
       "      <th>291331</th>\n",
       "      <td>2020-04-06</td>\n",
       "      <td>00L</td>\n",
       "      <td>2WW</td>\n",
       "      <td>2 Week Wait</td>\n",
       "      <td>127</td>\n",
       "    </tr>\n",
       "    <tr>\n",
       "      <th>291358</th>\n",
       "      <td>2020-04-06</td>\n",
       "      <td>00N</td>\n",
       "      <td>2WW</td>\n",
       "      <td>2 Week Wait</td>\n",
       "      <td>39</td>\n",
       "    </tr>\n",
       "    <tr>\n",
       "      <th>291378</th>\n",
       "      <td>2020-04-06</td>\n",
       "      <td>00P</td>\n",
       "      <td>2WW</td>\n",
       "      <td>2 Week Wait</td>\n",
       "      <td>74</td>\n",
       "    </tr>\n",
       "    <tr>\n",
       "      <th>291410</th>\n",
       "      <td>2020-04-06</td>\n",
       "      <td>00Q</td>\n",
       "      <td>2WW</td>\n",
       "      <td>2 Week Wait</td>\n",
       "      <td>44</td>\n",
       "    </tr>\n",
       "    <tr>\n",
       "      <th>291444</th>\n",
       "      <td>2020-04-06</td>\n",
       "      <td>00R</td>\n",
       "      <td>2WW</td>\n",
       "      <td>2 Week Wait</td>\n",
       "      <td>55</td>\n",
       "    </tr>\n",
       "    <tr>\n",
       "      <th>...</th>\n",
       "      <td>...</td>\n",
       "      <td>...</td>\n",
       "      <td>...</td>\n",
       "      <td>...</td>\n",
       "      <td>...</td>\n",
       "    </tr>\n",
       "    <tr>\n",
       "      <th>296931</th>\n",
       "      <td>2020-04-06</td>\n",
       "      <td>99C</td>\n",
       "      <td>2WW</td>\n",
       "      <td>2 Week Wait</td>\n",
       "      <td>55</td>\n",
       "    </tr>\n",
       "    <tr>\n",
       "      <th>296953</th>\n",
       "      <td>2020-04-06</td>\n",
       "      <td>99E</td>\n",
       "      <td>2WW</td>\n",
       "      <td>2 Week Wait</td>\n",
       "      <td>95</td>\n",
       "    </tr>\n",
       "    <tr>\n",
       "      <th>296990</th>\n",
       "      <td>2020-04-06</td>\n",
       "      <td>99F</td>\n",
       "      <td>2WW</td>\n",
       "      <td>2 Week Wait</td>\n",
       "      <td>41</td>\n",
       "    </tr>\n",
       "    <tr>\n",
       "      <th>297025</th>\n",
       "      <td>2020-04-06</td>\n",
       "      <td>99G</td>\n",
       "      <td>2WW</td>\n",
       "      <td>2 Week Wait</td>\n",
       "      <td>48</td>\n",
       "    </tr>\n",
       "    <tr>\n",
       "      <th>297066</th>\n",
       "      <td>2020-04-06</td>\n",
       "      <td>99M</td>\n",
       "      <td>2WW</td>\n",
       "      <td>2 Week Wait</td>\n",
       "      <td>74</td>\n",
       "    </tr>\n",
       "  </tbody>\n",
       "</table>\n",
       "<p>144 rows × 5 columns</p>\n",
       "</div>"
      ],
      "text/plain": [
       "        week_start ccg_code specialty     priority  referrals\n",
       "291331  2020-04-06      00L       2WW  2 Week Wait        127\n",
       "291358  2020-04-06      00N       2WW  2 Week Wait         39\n",
       "291378  2020-04-06      00P       2WW  2 Week Wait         74\n",
       "291410  2020-04-06      00Q       2WW  2 Week Wait         44\n",
       "291444  2020-04-06      00R       2WW  2 Week Wait         55\n",
       "...            ...      ...       ...          ...        ...\n",
       "296931  2020-04-06      99C       2WW  2 Week Wait         55\n",
       "296953  2020-04-06      99E       2WW  2 Week Wait         95\n",
       "296990  2020-04-06      99F       2WW  2 Week Wait         41\n",
       "297025  2020-04-06      99G       2WW  2 Week Wait         48\n",
       "297066  2020-04-06      99M       2WW  2 Week Wait         74\n",
       "\n",
       "[144 rows x 5 columns]"
      ]
     },
     "execution_count": 30,
     "metadata": {},
     "output_type": "execute_result"
    }
   ],
   "source": [
    "# get_total_2WW_referals()\n",
    "filter_2WW_and_date(df)"
   ]
  },
  {
   "cell_type": "code",
   "execution_count": 31,
   "metadata": {},
   "outputs": [
    {
     "name": "stdout",
     "output_type": "stream",
     "text": [
      "\u001b[32m.\u001b[0m\u001b[32m.\u001b[0m\u001b[32m.\u001b[0m\u001b[32m.\u001b[0m\u001b[32m.\u001b[0m\u001b[32m                                                                                        [100%]\u001b[0m\n",
      "\u001b[32m\u001b[32m\u001b[1m5 passed\u001b[0m\u001b[32m in 0.01s\u001b[0m\u001b[0m\n"
     ]
    },
    {
     "data": {
      "text/plain": [
       "<ExitCode.OK: 0>"
      ]
     },
     "execution_count": 31,
     "metadata": {},
     "output_type": "execute_result"
    }
   ],
   "source": [
    "# Write a unit test to check the filter function \n",
    "\n",
    "def test_filter_2ww_and_date():\n",
    "    synthetic_input = pd.DataFrame({\n",
    "            'week_start': ['2020-04-06', '2020-04-06', '2020-04-13', '2020-04-06'],\n",
    "            'specialty': ['2WW', 'Other', 'Other', '2WW'],\n",
    "            'referrals': [10, 5, 8, 3]\n",
    "        })\n",
    "    calculated_output = filter_2WW_and_date(synthetic_input)\n",
    "\n",
    "    expected_output = pd.DataFrame({\n",
    "            'week_start': ['2020-04-06', '2020-04-06'],\n",
    "            'specialty': ['2WW', '2WW'],\n",
    "            'referrals': [10, 3]\n",
    "        })\n",
    "    \n",
    "    pd.testing.assert_frame_equal(calculated_output.reset_index(drop=True), expected_output.reset_index(drop=True))\n",
    "\n",
    "\n",
    "def test_get_total_2ww_referrals():\n",
    "    synthetic_input =  pd.DataFrame({\n",
    "            'specialty': ['2WW', '2WW'],\n",
    "            'week_start': ['2020-04-06', '2020-04-06'],\n",
    "            'referrals': [10, 3]\n",
    "        })\n",
    "    \n",
    "    calculated_output = get_total_2WW_referals(synthetic_input)\n",
    "    \n",
    "    expected_output = 13\n",
    "\n",
    "    assert calculated_output == expected_output\n",
    "\n",
    "ipytest.run()"
   ]
  },
  {
   "cell_type": "code",
   "execution_count": null,
   "metadata": {},
   "outputs": [],
   "source": []
  },
  {
   "cell_type": "code",
   "execution_count": null,
   "metadata": {},
   "outputs": [],
   "source": []
  }
 ],
 "metadata": {
  "kernelspec": {
   "display_name": "Python 3",
   "language": "python",
   "name": "python3"
  },
  "language_info": {
   "codemirror_mode": {
    "name": "ipython",
    "version": 3
   },
   "file_extension": ".py",
   "mimetype": "text/x-python",
   "name": "python",
   "nbconvert_exporter": "python",
   "pygments_lexer": "ipython3",
   "version": "3.11.4"
  }
 },
 "nbformat": 4,
 "nbformat_minor": 2
}
