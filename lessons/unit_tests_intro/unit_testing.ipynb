{
 "cells": [
  {
   "cell_type": "markdown",
   "metadata": {},
   "source": [
    "# Unit tests"
   ]
  },
  {
   "cell_type": "markdown",
   "metadata": {},
   "source": [
    "Unit testing is a fundamental practice in software development where individual units or parts of code are tested to ensure they work correctly. These tests help identify any issues or bugs in the code early on, making it easier to fix them. By testing each unit separately, developers can isolate problems and ensure that each piece of code functions as intended. This approach enhances the reliability and stability of the code. \n",
    "\n",
    "## PyTest\n",
    "\n",
    "There are various Python testing tools available, but the focus of this lesson is on the Python testing framework called PyTest. PyTest is a popular testing framework that simplifies the process of writing and exicuting tests in Python. It provides a simple syntax for writing tests, features for test discovery and organisation, and support for fixtures. \n",
    "\n",
    "### Organising and naming \n",
    "PyTest discovers tests based on predefined conventions, ensuring seamless discovery and execution when specific naming conventions are adhered to.\n",
    " \n",
    "<br></br>\n",
    "\n",
    "Without specifying any specific tests, PyTest will start looking for tests in the folder you are working. <br></br>\n",
    "<br>`poetry run pytest`</br>\n",
    "<br></br>\n",
    "You can also tell PyTest to search in specific folders or for specific test files by using command line arguments. PyTest will go into these folders and search for files that start with 'test_' or end with '_test.py'. It looks for these files inside their test package names.<br></br>\n",
    "<br>`poetry run pytest tests/unit_tests/test_practice.py`</br>\n",
    "\n",
    "<br></br>\n",
    "\n",
    "PyTest then collects differnt test from these identified files.\n",
    "1. Functions that strat with `test_`.\n",
    "2. Functions inside classes that strat with `Test` and don't have an `__init__` method.\n"
   ]
  },
  {
   "cell_type": "markdown",
   "metadata": {},
   "source": [
    "## The <font color=#26A5B8>assert</font> statement\n",
    "\n",
    "The `assert` statement is a built-in feature in Python used to check whether a given condition is true or not. If the condition is true, nothing happens, the test passes, but if it's not true, an error is raised.\n"
   ]
  },
  {
   "cell_type": "code",
   "execution_count": null,
   "metadata": {},
   "outputs": [],
   "source": []
  },
  {
   "cell_type": "code",
   "execution_count": null,
   "metadata": {},
   "outputs": [],
   "source": []
  },
  {
   "cell_type": "markdown",
   "metadata": {},
   "source": [
    "Notice that in the last row of the error message there isn't an actual message after <font color=\"red\">AssertionError:</font>. That is because you are able to pass in an error message.  "
   ]
  },
  {
   "cell_type": "code",
   "execution_count": null,
   "metadata": {},
   "outputs": [],
   "source": []
  },
  {
   "cell_type": "markdown",
   "metadata": {},
   "source": [
    "The basic syntax for using <font color=#26A5B8>assert</font> is <br></br>\n",
    "`assert condition_being_tested, error_message_to_be_displayed`"
   ]
  },
  {
   "cell_type": "markdown",
   "metadata": {},
   "source": [
    "### Lets have a go at writing a test for a simple function"
   ]
  },
  {
   "cell_type": "code",
   "execution_count": null,
   "metadata": {},
   "outputs": [],
   "source": [
    "# This import is needed to be able to run pytest in this notebook \n",
    "import ipytest\n",
    "ipytest.autoconfig()"
   ]
  },
  {
   "cell_type": "code",
   "execution_count": null,
   "metadata": {},
   "outputs": [],
   "source": []
  },
  {
   "cell_type": "code",
   "execution_count": null,
   "metadata": {},
   "outputs": [],
   "source": [
    "%%ipytest -qq\n"
   ]
  },
  {
   "cell_type": "markdown",
   "metadata": {},
   "source": [
    "Let's have a look at what it looks like when a test fails"
   ]
  },
  {
   "cell_type": "code",
   "execution_count": null,
   "metadata": {},
   "outputs": [],
   "source": [
    "%%ipytest -qq\n"
   ]
  },
  {
   "cell_type": "markdown",
   "metadata": {},
   "source": [
    "### Exercise\n",
    "Let's have a go at writing a unit tests for a function that calculates BMI."
   ]
  },
  {
   "cell_type": "code",
   "execution_count": null,
   "metadata": {},
   "outputs": [],
   "source": []
  },
  {
   "cell_type": "markdown",
   "metadata": {},
   "source": [
    "Write a unit test to check that the function for calculating BMI is working as we would expect.\n",
    "Test it with valid inputs as well as boundary cases where either hight or weight is zero\n",
    "\n",
    "|Height| Weight| BMI|\n",
    "|-------|-------|----|\n",
    "|1.75 | 70 | 22.86|\n",
    "|1.6| 60 | 23.44|\n",
    "|0|70|None|\n",
    "|1.8| 0| None|"
   ]
  },
  {
   "cell_type": "code",
   "execution_count": null,
   "metadata": {},
   "outputs": [],
   "source": []
  },
  {
   "cell_type": "markdown",
   "metadata": {},
   "source": [
    "Can you write a test to check that the following function for categorising blood pressure is working as expected"
   ]
  },
  {
   "cell_type": "code",
   "execution_count": null,
   "metadata": {},
   "outputs": [],
   "source": [
    "# Function that categorises blood pressure \n",
    "def categorise_blood_pressure(systolic, diastolic):\n",
    "    if (systolic > 120 and systolic < 139) or (diastolic > 80 and diastolic < 89):\n",
    "        return \"Prehypertension\"\n",
    "    elif systolic <= 120 and diastolic <= 80:\n",
    "        return \"Normal\"\n",
    "    else:\n",
    "        return \"Abnormal\" "
   ]
  },
  {
   "cell_type": "code",
   "execution_count": null,
   "metadata": {},
   "outputs": [],
   "source": []
  },
  {
   "cell_type": "markdown",
   "metadata": {},
   "source": [
    "### Alternatives to the basic <font color=#26A5B8>assert</font> statement \n",
    "\n",
    "The Python library Pandas, has specific assertion functions for comparing specific types of data structures in the Pandas library, such as DataFrames, Series, and Indexes. These assertion functions  provide more detailed and specialised comparison capabilities, allowing us to ensure that our data is processed correctly and remains consistent throughout our data analysis pipelines.\n",
    "\n",
    "`assert_frame_equal` \n",
    "<br></br>\n",
    "`assert_series_equal`\n",
    "<br></br>\n",
    "`assert_index_equal`\n"
   ]
  },
  {
   "cell_type": "markdown",
   "metadata": {},
   "source": [
    "Imagine we have some patient data that includes comorbidity and any treatment they are receiving."
   ]
  },
  {
   "cell_type": "code",
   "execution_count": null,
   "metadata": {},
   "outputs": [],
   "source": []
  },
  {
   "cell_type": "code",
   "execution_count": null,
   "metadata": {},
   "outputs": [],
   "source": [
    "# Write a function that filters for Cancer patients \n",
    "# HINT: Use df.loc\n"
   ]
  },
  {
   "cell_type": "code",
   "execution_count": null,
   "metadata": {},
   "outputs": [],
   "source": []
  },
  {
   "cell_type": "code",
   "execution_count": null,
   "metadata": {},
   "outputs": [],
   "source": []
  },
  {
   "cell_type": "markdown",
   "metadata": {},
   "source": [
    "### Exercise \n",
    "A client has asked for the total number of 2WW referrals for all CCGs, for the w/c the 6th of April 2020. Write a unit test to check that you have filtered your data correctly. \n",
    "\n",
    "1. Read in the data from the dataset: https://raw.githubusercontent.com/carnall-farrar/python_club/master/data/referrals_oct19_dec20.csv\n",
    "\n",
    "2. Take a subset of the data where specialty will be two week wait cancer referrals and the week start is 2020-04-06\n",
    "\n",
    "3. Write a test to check your function is correctly filtering for the desired specialty and time period.\n",
    "\n",
    "4. Write another test to assess that the function calculating the sum of referrals is doing what we would expect."
   ]
  },
  {
   "cell_type": "code",
   "execution_count": null,
   "metadata": {},
   "outputs": [],
   "source": [
    "df = pd.read_csv(\"https://raw.githubusercontent.com/carnall-farrar/python_club/master/data/referrals_oct19_dec20.csv\")"
   ]
  },
  {
   "cell_type": "code",
   "execution_count": null,
   "metadata": {},
   "outputs": [],
   "source": [
    "df.head()"
   ]
  },
  {
   "cell_type": "code",
   "execution_count": null,
   "metadata": {},
   "outputs": [],
   "source": [
    "def filter_2WW_and_date(df):\n",
    "    mask = (df['specialty'] == '2WW') & (df['week_start'] == '2020-04-06')\n",
    "    df = df.loc[mask, :]\n",
    "    return df\n",
    "\n",
    "def get_total_2WW_referals(df):\n",
    "    total_referrals = df['referrals'].sum()\n",
    "    return total_referrals"
   ]
  },
  {
   "cell_type": "code",
   "execution_count": null,
   "metadata": {},
   "outputs": [],
   "source": [
    "# get_total_2WW_referals()\n",
    "filter_2WW_and_date(df)"
   ]
  },
  {
   "cell_type": "code",
   "execution_count": null,
   "metadata": {},
   "outputs": [],
   "source": [
    "# Write a unit test to check the filter function \n"
   ]
  }
 ],
 "metadata": {
  "kernelspec": {
   "display_name": "Python 3",
   "language": "python",
   "name": "python3"
  },
  "language_info": {
   "codemirror_mode": {
    "name": "ipython",
    "version": 3
   },
   "file_extension": ".py",
   "mimetype": "text/x-python",
   "name": "python",
   "nbconvert_exporter": "python",
   "pygments_lexer": "ipython3",
   "version": "3.11.4"
  }
 },
 "nbformat": 4,
 "nbformat_minor": 2
}
