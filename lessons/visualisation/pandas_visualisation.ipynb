{
 "cells": [
  {
   "cell_type": "markdown",
   "metadata": {},
   "source": [
    "# Visualisation: Plotting with pandas\n",
    "\n",
    "In this section we will make plots directly from pandas series and dataframes. You can call methods directly on dataframes and series, which then return matplotlib axis objects. In a Jupyter notebook, those plots will automatically display."
   ]
  },
  {
   "cell_type": "markdown",
   "metadata": {},
   "source": [
    "For a single set of data, you can plot using a pandas `Series` object. Calling `Series.plot` returns an `Axis` object, which can then use for formatting."
   ]
  },
  {
   "cell_type": "code",
   "execution_count": 1,
   "metadata": {},
   "outputs": [],
   "source": [
    "# Importing Python packages we are likely to need\n",
    "import pandas as pd  # data tables\n",
    "import numpy as np  # numerical operations\n",
    "import matplotlib.pyplot as plt  # plotting\n",
    "import numpy as np  # mathematical operations"
   ]
  },
  {
   "cell_type": "code",
   "execution_count": 2,
   "metadata": {},
   "outputs": [
    {
     "data": {
      "text/plain": [
       "1       1\n",
       "2       4\n",
       "3       9\n",
       "4      16\n",
       "5      25\n",
       "6      36\n",
       "7      49\n",
       "8      64\n",
       "9      81\n",
       "10    100\n",
       "dtype: int64"
      ]
     },
     "execution_count": 2,
     "metadata": {},
     "output_type": "execute_result"
    }
   ],
   "source": [
    "x = [1, 2, 3, 4, 5, 6, 7, 8, 9, 10]\n",
    "y = [1, 4, 9, 16, 25, 36, 49, 64, 81, 100]\n",
    "s = pd.Series(y, index=x)\n",
    "s"
   ]
  },
  {
   "cell_type": "markdown",
   "metadata": {},
   "source": [
    "We call the `plot` method to make a plot from a `Series`:\n",
    "\n",
    "```python\n",
    "    my_series.plot()\n",
    "```"
   ]
  },
  {
   "cell_type": "code",
   "execution_count": null,
   "metadata": {},
   "outputs": [],
   "source": []
  },
  {
   "cell_type": "markdown",
   "metadata": {},
   "source": [
    "For plots other than line plots, you first call `plot` before the plot type that you want.\n",
    "\n",
    "```python\n",
    "    my_series.plot.bar()\n",
    "```"
   ]
  },
  {
   "cell_type": "code",
   "execution_count": null,
   "metadata": {},
   "outputs": [],
   "source": []
  },
  {
   "cell_type": "markdown",
   "metadata": {},
   "source": [
    "You can pass in arguments when you call the ploting method.\n",
    "\n",
    "```python\n",
    "s.plot.bar(title='My nice chart with a title')\n",
    "```"
   ]
  },
  {
   "cell_type": "code",
   "execution_count": null,
   "metadata": {},
   "outputs": [],
   "source": []
  },
  {
   "cell_type": "markdown",
   "metadata": {},
   "source": [
    "When you call the plotting methods, they return an `Axis` object. This means after plotting you can call methods on the `Axis` object to more precisely control the formatting.\n",
    "\n",
    "```python\n",
    "series_ax = s.plot.bar()\n",
    "series_ax.set_title(\"Here's a new title\")\n",
    "series_ax.set_xlabel(\"Independent variable\")\n",
    "series_ax.set_ylabel(\"Dependent variable\")\n",
    "```"
   ]
  },
  {
   "cell_type": "code",
   "execution_count": null,
   "metadata": {},
   "outputs": [],
   "source": []
  },
  {
   "cell_type": "markdown",
   "metadata": {},
   "source": [
    "## Plotting with DataFrames\n",
    "\n",
    "Calling plotting methods on dataframes can let you quickly plot multiple things on the same axis.\n",
    "\n",
    "First let's make a dataframe:"
   ]
  },
  {
   "cell_type": "code",
   "execution_count": 3,
   "metadata": {},
   "outputs": [
    {
     "data": {
      "text/html": [
       "<div>\n",
       "<style scoped>\n",
       "    .dataframe tbody tr th:only-of-type {\n",
       "        vertical-align: middle;\n",
       "    }\n",
       "\n",
       "    .dataframe tbody tr th {\n",
       "        vertical-align: top;\n",
       "    }\n",
       "\n",
       "    .dataframe thead th {\n",
       "        text-align: right;\n",
       "    }\n",
       "</style>\n",
       "<table border=\"1\" class=\"dataframe\">\n",
       "  <thead>\n",
       "    <tr style=\"text-align: right;\">\n",
       "      <th></th>\n",
       "      <th>squared</th>\n",
       "      <th>cubed</th>\n",
       "    </tr>\n",
       "  </thead>\n",
       "  <tbody>\n",
       "    <tr>\n",
       "      <th>1</th>\n",
       "      <td>1</td>\n",
       "      <td>1</td>\n",
       "    </tr>\n",
       "    <tr>\n",
       "      <th>2</th>\n",
       "      <td>4</td>\n",
       "      <td>8</td>\n",
       "    </tr>\n",
       "    <tr>\n",
       "      <th>3</th>\n",
       "      <td>9</td>\n",
       "      <td>27</td>\n",
       "    </tr>\n",
       "  </tbody>\n",
       "</table>\n",
       "</div>"
      ],
      "text/plain": [
       "   squared  cubed\n",
       "1        1      1\n",
       "2        4      8\n",
       "3        9     27"
      ]
     },
     "execution_count": 3,
     "metadata": {},
     "output_type": "execute_result"
    }
   ],
   "source": [
    "x = [1, 2, 3, 4, 5, 6, 7, 8, 9, 10]\n",
    "df = pd.DataFrame(index=x)\n",
    "df['squared'] = np.power(x, 2)\n",
    "df['cubed'] = np.power(x, 3)\n",
    "df.head(3)"
   ]
  },
  {
   "cell_type": "markdown",
   "metadata": {},
   "source": [
    "Dataframes also have a plot method. They will plot all the columns' data.\n",
    "\n",
    "```python\n",
    "df.plot()\n",
    "df.plot.bar()\n",
    "```"
   ]
  },
  {
   "cell_type": "code",
   "execution_count": null,
   "metadata": {},
   "outputs": [],
   "source": []
  },
  {
   "cell_type": "code",
   "execution_count": null,
   "metadata": {},
   "outputs": [],
   "source": []
  },
  {
   "cell_type": "markdown",
   "metadata": {},
   "source": [
    "## Dataframes and subplots\n",
    "\n",
    "Plotting with dataframes also allows you to make multiple axis side by side, as subplots.\n",
    "\n",
    "```python\n",
    "df.plot(subplots=True)\n",
    "```"
   ]
  },
  {
   "cell_type": "code",
   "execution_count": null,
   "metadata": {},
   "outputs": [],
   "source": []
  },
  {
   "cell_type": "markdown",
   "metadata": {},
   "source": [
    "This time, the plotting method has returned an array of `Axis` objects. You can do further formatting by accessing the axes in this array.\n",
    "\n",
    "```python\n",
    "axes = df.plot(subplots=True)\n",
    "axes[0].set_title(\"This is plot number 0\")\n",
    "axes[1].set_title(\"This is plot number 1\")\n",
    "```"
   ]
  },
  {
   "cell_type": "code",
   "execution_count": null,
   "metadata": {},
   "outputs": [],
   "source": []
  },
  {
   "cell_type": "markdown",
   "metadata": {},
   "source": [
    "### Exercise\n",
    "\n",
    "The code below will create a fake time series dataset. Plot the data on a single axis and then on two separate axes."
   ]
  },
  {
   "cell_type": "code",
   "execution_count": 4,
   "metadata": {},
   "outputs": [],
   "source": [
    "# Don't change code in this cell\n",
    "np.random.seed(42)\n",
    "dates = pd.date_range(\"2021-01-01\", \"2021-12-31\", periods=52)\n",
    "numbers = np.arange(len(dates))\n",
    "ts_df = pd.DataFrame(index=dates)\n",
    "ts_df['metric1'] = np.sin(0.5 * numbers + 3) + 10 + np.random.normal(scale=0.5, size=len(dates))\n",
    "ts_df['metric2'] = np.sin(0.5 * numbers) + 7 + np.random.normal(scale=0.5, size=len(dates))"
   ]
  },
  {
   "cell_type": "code",
   "execution_count": 5,
   "metadata": {},
   "outputs": [
    {
     "data": {
      "text/html": [
       "<div>\n",
       "<style scoped>\n",
       "    .dataframe tbody tr th:only-of-type {\n",
       "        vertical-align: middle;\n",
       "    }\n",
       "\n",
       "    .dataframe tbody tr th {\n",
       "        vertical-align: top;\n",
       "    }\n",
       "\n",
       "    .dataframe thead th {\n",
       "        text-align: right;\n",
       "    }\n",
       "</style>\n",
       "<table border=\"1\" class=\"dataframe\">\n",
       "  <thead>\n",
       "    <tr style=\"text-align: right;\">\n",
       "      <th></th>\n",
       "      <th>metric1</th>\n",
       "      <th>metric2</th>\n",
       "    </tr>\n",
       "  </thead>\n",
       "  <tbody>\n",
       "    <tr>\n",
       "      <th>2021-01-01 00:00:00.000000000</th>\n",
       "      <td>10.389477</td>\n",
       "      <td>6.661539</td>\n",
       "    </tr>\n",
       "    <tr>\n",
       "      <th>2021-01-08 03:17:38.823529411</th>\n",
       "      <td>9.580085</td>\n",
       "      <td>7.785264</td>\n",
       "    </tr>\n",
       "    <tr>\n",
       "      <th>2021-01-15 06:35:17.647058823</th>\n",
       "      <td>9.567042</td>\n",
       "      <td>8.356971</td>\n",
       "    </tr>\n",
       "    <tr>\n",
       "      <th>2021-01-22 09:52:56.470588235</th>\n",
       "      <td>9.783985</td>\n",
       "      <td>8.463135</td>\n",
       "    </tr>\n",
       "    <tr>\n",
       "      <th>2021-01-29 13:10:35.294117647</th>\n",
       "      <td>8.923999</td>\n",
       "      <td>7.489689</td>\n",
       "    </tr>\n",
       "  </tbody>\n",
       "</table>\n",
       "</div>"
      ],
      "text/plain": [
       "                                 metric1   metric2\n",
       "2021-01-01 00:00:00.000000000  10.389477  6.661539\n",
       "2021-01-08 03:17:38.823529411   9.580085  7.785264\n",
       "2021-01-15 06:35:17.647058823   9.567042  8.356971\n",
       "2021-01-22 09:52:56.470588235   9.783985  8.463135\n",
       "2021-01-29 13:10:35.294117647   8.923999  7.489689"
      ]
     },
     "execution_count": 5,
     "metadata": {},
     "output_type": "execute_result"
    }
   ],
   "source": [
    "# First few rows of the dataset\n",
    "ts_df.head()"
   ]
  },
  {
   "cell_type": "code",
   "execution_count": null,
   "metadata": {},
   "outputs": [],
   "source": []
  }
 ],
 "metadata": {
  "kernelspec": {
   "display_name": "Python 3 (ipykernel)",
   "language": "python",
   "name": "python3"
  },
  "language_info": {
   "codemirror_mode": {
    "name": "ipython",
    "version": 3
   },
   "file_extension": ".py",
   "mimetype": "text/x-python",
   "name": "python",
   "nbconvert_exporter": "python",
   "pygments_lexer": "ipython3",
   "version": "3.9.7"
  }
 },
 "nbformat": 4,
 "nbformat_minor": 4
}
