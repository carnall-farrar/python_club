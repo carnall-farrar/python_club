{
 "cells": [
  {
   "cell_type": "markdown",
   "metadata": {},
   "source": [
    "# Visualisation: Plotting with matplotlib\n",
    "\n",
    "Python has a rich, highly configurable plotting library called `matplotlib`. You can make professional-looking plots in a few lines of code, and a direct connection with `pandas` lets you make plots even faster from your existing datasets.\n",
    "\n",
    "By the end of this tutorial, you will be able to make a clear and styled plot showing numbers of referrals over time.\n",
    "\n",
    "This work is split across several notebooks:\n",
    "\n",
    "1. Basic plotting with `matplotlib`\n",
    "2. Plotting with `pandas`\n",
    "3. Formatting plots with `pandas`"
   ]
  },
  {
   "cell_type": "code",
   "execution_count": 1,
   "metadata": {},
   "outputs": [],
   "source": [
    "# Importing Python packages we are likely to need\n",
    "import pandas as pd  # data tables\n",
    "import numpy as np  # numerical operations\n",
    "import matplotlib.pyplot as plt  # plotting"
   ]
  },
  {
   "cell_type": "markdown",
   "metadata": {},
   "source": [
    "<a name=\"item1\"></a>\n",
    "### Basic plotting with matplotlib\n",
    "\n",
    "You can use matplotlib without pandas to make plots. The quickest way is using `plt.plot`.\n",
    "\n",
    "```python\n",
    "plt.plot(x, y)\n",
    "```"
   ]
  },
  {
   "cell_type": "code",
   "execution_count": 2,
   "metadata": {},
   "outputs": [],
   "source": [
    "x = [1, 2, 3, 4, 5, 6, 7, 8, 9, 10]\n",
    "y = [1, 4, 9, 16, 25, 36, 49, 64, 81, 100]"
   ]
  },
  {
   "cell_type": "code",
   "execution_count": null,
   "metadata": {},
   "outputs": [],
   "source": []
  },
  {
   "cell_type": "markdown",
   "metadata": {},
   "source": [
    "But it's easier to do subsequent formatting using `plt.subplots` to create `Figure` and `Axis` objects which you then plot onto. This is like first creating a blank canvas.\n",
    "\n",
    "```python\n",
    "fig, ax = plt.subplots()\n",
    "ax.plot(x, y)\n",
    "```"
   ]
  },
  {
   "cell_type": "code",
   "execution_count": null,
   "metadata": {},
   "outputs": [],
   "source": []
  },
  {
   "cell_type": "markdown",
   "metadata": {},
   "source": [
    "## Other types of plots and simple formatting\n",
    "You can make all kinds of plot from the `Axis` object and pass in extra parameters to control the formatting.\n",
    "\n",
    "```python\n",
    "ax.bar(x, y, color='blue')\n",
    "```"
   ]
  },
  {
   "cell_type": "code",
   "execution_count": null,
   "metadata": {},
   "outputs": [],
   "source": []
  },
  {
   "cell_type": "markdown",
   "metadata": {},
   "source": [
    "You can make scatter plots the same way. The `marker` argument lets you control the shape of the scatter points.\n",
    "\n",
    "```python\n",
    "ax.scatter(x, y, marker='+')\n",
    "```"
   ]
  },
  {
   "cell_type": "code",
   "execution_count": null,
   "metadata": {},
   "outputs": [],
   "source": []
  },
  {
   "cell_type": "markdown",
   "metadata": {},
   "source": [
    "And you can plot multiple things on the same `Axis`.  You can successively call plotting methods:\n",
    "```python\n",
    "fig, ax = plt.subplots()\n",
    "ax.bar(x, y, color='yellow')\n",
    "ax.plot(x, y, color='cyan')\n",
    "```"
   ]
  },
  {
   "cell_type": "code",
   "execution_count": null,
   "metadata": {},
   "outputs": [],
   "source": []
  },
  {
   "cell_type": "markdown",
   "metadata": {},
   "source": [
    "## More formatting using `Axis` object\n",
    "You can do additional formatting after you have created the plot.\n",
    "\n",
    "```python\n",
    "ax.set_xlabel('This is the x label')\n",
    "ax.set_ylabel('This is the y label')\n",
    "ax.set_title('Here is my title')\n",
    "```"
   ]
  },
  {
   "cell_type": "code",
   "execution_count": null,
   "metadata": {},
   "outputs": [],
   "source": []
  },
  {
   "cell_type": "markdown",
   "metadata": {},
   "source": [
    "You can also add a legend using the `Axis.legend` method and specifying the name for the data series as a string in a list. You can also specify the location for the measure using the `loc` parameter - valid values include 'upper left' and 'center' etc. (note the American spelling!).\n",
    "\n",
    "```python\n",
    "ax.legend(['My data series'], loc='lower right')\n",
    "```"
   ]
  },
  {
   "cell_type": "code",
   "execution_count": null,
   "metadata": {},
   "outputs": [],
   "source": []
  },
  {
   "cell_type": "markdown",
   "metadata": {},
   "source": [
    "## Save your plot\n",
    "\n",
    "Use the `savefig` function to save the figure in a given file location. You can control the file type by specifying the file extension, e.g. with `.png` or `.pdf`.\n",
    "\n",
    "    fig.savefig(\"/Users/my_user_name/Documents/my_figure.png\")"
   ]
  },
  {
   "cell_type": "markdown",
   "metadata": {},
   "source": [
    "### Exercise\n",
    "\n",
    "With the following data series, make a plot which has:\n",
    "* A green line connecting points\n",
    "* Blue circles for each individual datapoint"
   ]
  },
  {
   "cell_type": "code",
   "execution_count": 3,
   "metadata": {},
   "outputs": [],
   "source": [
    "exercise_x = [0., 0.53,  1.05,  1.58,  2.11,  2.63,  3.16,  3.68,  \n",
    "                4.21, 4.74,  5.26,  5.79,  6.32,  6.84,  7.37,  7.89,  \n",
    "                8.42,  8.95, 9.47, 10.]\n",
    "\n",
    "exercise_y = [ 0.,  0.5 ,  0.87,  1.  ,  0.86,  0.49, -0.02, -0.52, -0.88,\n",
    "                 -1.  , -0.85, -0.47,  0.03,  0.53,  0.88,  1.  ,  0.84,  0.46,\n",
    "                 -0.05, -0.54]"
   ]
  },
  {
   "cell_type": "code",
   "execution_count": null,
   "metadata": {},
   "outputs": [],
   "source": []
  }
 ],
 "metadata": {
  "kernelspec": {
   "display_name": "Python 3 (ipykernel)",
   "language": "python",
   "name": "python3"
  },
  "language_info": {
   "codemirror_mode": {
    "name": "ipython",
    "version": 3
   },
   "file_extension": ".py",
   "mimetype": "text/x-python",
   "name": "python",
   "nbconvert_exporter": "python",
   "pygments_lexer": "ipython3",
   "version": "3.9.7"
  }
 },
 "nbformat": 4,
 "nbformat_minor": 4
}
