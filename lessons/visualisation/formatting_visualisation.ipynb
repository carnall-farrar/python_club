{
 "cells": [
  {
   "cell_type": "markdown",
   "metadata": {},
   "source": [
    "# Visualisation: Chart formatting"
   ]
  },
  {
   "cell_type": "markdown",
   "metadata": {},
   "source": [
    "By changing settings on the `matplotlib` `Axis` object, or providing arguments to the `pandas` plotting methods, we can can adjust the formatting of plots.\n",
    "\n",
    "We'll use the same dataset used previously in this course."
   ]
  },
  {
   "cell_type": "code",
   "execution_count": 1,
   "metadata": {},
   "outputs": [],
   "source": [
    "import pandas as pd  # data tables\n",
    "import numpy as np  # numerical operations\n",
    "import matplotlib.pyplot as plt  # plotting"
   ]
  },
  {
   "cell_type": "code",
   "execution_count": 2,
   "metadata": {},
   "outputs": [
    {
     "data": {
      "text/html": [
       "<div>\n",
       "<style scoped>\n",
       "    .dataframe tbody tr th:only-of-type {\n",
       "        vertical-align: middle;\n",
       "    }\n",
       "\n",
       "    .dataframe tbody tr th {\n",
       "        vertical-align: top;\n",
       "    }\n",
       "\n",
       "    .dataframe thead th {\n",
       "        text-align: right;\n",
       "    }\n",
       "</style>\n",
       "<table border=\"1\" class=\"dataframe\">\n",
       "  <thead>\n",
       "    <tr style=\"text-align: right;\">\n",
       "      <th></th>\n",
       "      <th>2 Week Wait</th>\n",
       "      <th>Routine</th>\n",
       "      <th>Urgent</th>\n",
       "    </tr>\n",
       "    <tr>\n",
       "      <th>week_start</th>\n",
       "      <th></th>\n",
       "      <th></th>\n",
       "      <th></th>\n",
       "    </tr>\n",
       "  </thead>\n",
       "  <tbody>\n",
       "    <tr>\n",
       "      <th>2019-10-31</th>\n",
       "      <td>217570</td>\n",
       "      <td>1050288</td>\n",
       "      <td>167886</td>\n",
       "    </tr>\n",
       "    <tr>\n",
       "      <th>2019-11-30</th>\n",
       "      <td>215739</td>\n",
       "      <td>1023472</td>\n",
       "      <td>168726</td>\n",
       "    </tr>\n",
       "    <tr>\n",
       "      <th>2019-12-31</th>\n",
       "      <td>209806</td>\n",
       "      <td>1009113</td>\n",
       "      <td>164598</td>\n",
       "    </tr>\n",
       "  </tbody>\n",
       "</table>\n",
       "</div>"
      ],
      "text/plain": [
       "            2 Week Wait  Routine  Urgent\n",
       "week_start                              \n",
       "2019-10-31       217570  1050288  167886\n",
       "2019-11-30       215739  1023472  168726\n",
       "2019-12-31       209806  1009113  164598"
      ]
     },
     "execution_count": 2,
     "metadata": {},
     "output_type": "execute_result"
    }
   ],
   "source": [
    "aggregation_output_path = \"~/Downloads/referrals_by_priority.csv\"\n",
    "df = pd.read_csv(aggregation_output_path)\n",
    "df['week_start'] = pd.to_datetime(df['week_start'])\n",
    "df = df.set_index('week_start')\n",
    "df.head(3)"
   ]
  },
  {
   "cell_type": "markdown",
   "metadata": {},
   "source": [
    "Let's plot line charts of the data on a single axis"
   ]
  },
  {
   "cell_type": "code",
   "execution_count": null,
   "metadata": {},
   "outputs": [],
   "source": []
  },
  {
   "cell_type": "markdown",
   "metadata": {},
   "source": [
    "---\n",
    "## Line colours and styles\n",
    "\n",
    "Matplotlib lets you specify named colours, like 'red' etc., but can use precise colour codes to match CF branding. In programming languages, colours are represented as *hex codes*. Lots of websites help you find the hex codes for colours you are looking for, e.g.\n",
    "\n",
    "https://www.w3schools.com/colors/colors_picker.asp\n",
    "\n",
    "You can also choose line styles:\n",
    "\n",
    "|Linestyle | Description|\n",
    "------------|-------------\n",
    "|'-' or 'solid' | solid line|\n",
    "|'--' or 'dashed' | dashed line|\n",
    "|'-.' or 'dashdot' | dash-dotted line|\n",
    "|':' or 'dotted' | dotted line\n",
    "\n",
    "You can set colours and styles using the `color` and `style` arguments in the `plot` method. You then provide a list where each entry is the value for the data series you are plotting. Note that the order must be the same as the columns in the dataframe.\n",
    "```python\n",
    "    ax = df.plot(color=['red', 'blue', 'yellow'], style=['--', ':.', ':'])\n",
    "```"
   ]
  },
  {
   "cell_type": "code",
   "execution_count": 3,
   "metadata": {},
   "outputs": [],
   "source": [
    "# Hex codes (taken from the CF website HTML)\n",
    "cf_teal = '#26a5b8'\n",
    "cf_pink = '#dd0075'\n",
    "cf_orange = \"#ff9900\"\n",
    "cf_green = '#61B776'\n",
    "cf_purple = \"#612aa1\"\n",
    "cf_yellow = '#ffcc00'"
   ]
  },
  {
   "cell_type": "markdown",
   "metadata": {},
   "source": [
    "Let's replot the referrals data, using CF branding colours and a variety of line styles."
   ]
  },
  {
   "cell_type": "code",
   "execution_count": null,
   "metadata": {},
   "outputs": [],
   "source": []
  },
  {
   "cell_type": "markdown",
   "metadata": {},
   "source": [
    "---\n",
    "## Legend\n",
    "\n",
    "#### Changing names\n",
    "Names can be changed with the `Axis.legend` method. The order of the names should be the same as they appear in the legend, which is the same as the order of the dataframe columns.\n",
    "```python\n",
    "    ax.legend([\"new_name1\", \"new_name2\", \"new_name3\"])\n",
    "```\n",
    "#### Legend position\n",
    "By default, matplotlib puts the legend in the position with minimal overlap of lines on the plot. But CF style requires legends to be at the top right of the plot. The legend position can be changed with the `loc` argument.\n",
    "```python\n",
    "    ax.legend(loc='upper right')\n",
    "```\n",
    "#### Legend title\n",
    "The legend can be given a title with the `title` argument. Sometimes pandas automatically adds a legend title when you don't want one, in which case you can set the title to an empty string.\n",
    "```python\n",
    "    ax.legend(title='My legend')\n",
    "```"
   ]
  },
  {
   "cell_type": "markdown",
   "metadata": {},
   "source": [
    "Let's move the legend to the top right of the chart, get rid of the legend title and make the series names more explicit, like \"Routine referrals\" etc."
   ]
  },
  {
   "cell_type": "markdown",
   "metadata": {},
   "source": [
    "### Exercise\n",
    "\n",
    "Combine what you've learned so far to make a chart from the aggregated referrals data.\n",
    "\n",
    "* Use CF colours\n",
    "* Use a different line style for each data series\n",
    "* Add a legend with renamed series names, at the top right of the plot"
   ]
  },
  {
   "cell_type": "code",
   "execution_count": null,
   "metadata": {},
   "outputs": [],
   "source": []
  },
  {
   "cell_type": "markdown",
   "metadata": {},
   "source": [
    "---\n",
    "## Figure sizing\n",
    "\n",
    "There are two ways to control the size/shape of your figure.\n",
    "\n",
    "We can adjust the size of the plot using the `figsize` argument in the `plot` method call, which accepts a list comprising integers representing the width and height for the figure in inches.\n",
    "```python\n",
    "    ax = df.plot(figsize=[12, 3])\n",
    "```\n",
    "Alternatively, you can adjust the extent of the axes. The `set_xlim` and `set_ylim` methods on `Axis` let you control the points where the axis starts and stops.\n",
    "```python\n",
    "    ax.set_ylim([0, 2000000])\n",
    "```\n",
    "\n",
    "For time series data, we can set limits using string (i.e. text) representations of dates:\n",
    "\n",
    "```python\n",
    "    ax.set_xlim(['2020-01-01', '2020-12-31'])\n",
    "```"
   ]
  },
  {
   "cell_type": "code",
   "execution_count": null,
   "metadata": {},
   "outputs": [],
   "source": []
  },
  {
   "cell_type": "markdown",
   "metadata": {},
   "source": [
    "---\n",
    "## Labels\n",
    "\n",
    "You can set exact values for the points along each axis that are marked by ticks and annotated with tick labels.\n",
    "```python\n",
    "    ax.set_yticks([0, 10, 20])\n",
    "```\n",
    "And you can set the tick labels with exact values, which match the number of ticks:\n",
    "```python\n",
    "    ax.set_yticklabels(['Zero', 'Ten', 'Twenty'])\n",
    "```"
   ]
  },
  {
   "cell_type": "markdown",
   "metadata": {},
   "source": [
    "You can also change the y axis of your plot to rounded values, e.g. labelled with \"0\", \"0.5m\" and \"1m\" for millions. Remember 1 million is $10^6$, which in python is represented as `10**6`."
   ]
  },
  {
   "cell_type": "code",
   "execution_count": null,
   "metadata": {},
   "outputs": [],
   "source": []
  },
  {
   "cell_type": "markdown",
   "metadata": {},
   "source": [
    "You can set labels for the axes and the chart title with the following methods. Set them to an empy string if you just want to get rid of them.\n",
    "\n",
    "```python\n",
    "ax.set_xlabel('my x label')\n",
    "ax.set_ylabel('my y label')\n",
    "ax.set_title(\"my chart title\")\n",
    "```"
   ]
  },
  {
   "cell_type": "markdown",
   "metadata": {},
   "source": [
    "Let's change the labels and title to something sensible."
   ]
  },
  {
   "cell_type": "code",
   "execution_count": null,
   "metadata": {},
   "outputs": [],
   "source": []
  },
  {
   "cell_type": "markdown",
   "metadata": {},
   "source": [
    "---\n",
    "## Fonts\n",
    "\n",
    "Fonts can't be changed by changing settings on `Axis` objects directly. Instead we can update the settings matplotlib itself.\n",
    "\n",
    "The matplotlib default font (DejaVu Sans) is sufficiently similar to CF's house style font (Calibri) that you probably won't need to change it. It may be useful to change the size though:\n",
    "\n",
    "```python\n",
    "    plt.rcParams.update({'font.size': 22, 'font.family': 'Times'})\n",
    "```\n",
    "\n",
    "You can return to default values with:\n",
    "\n",
    "```python\n",
    "    plt.rcParams.update({'font.size': 12, 'font.family': 'DejaVu Sans'})\n",
    "```"
   ]
  },
  {
   "cell_type": "code",
   "execution_count": null,
   "metadata": {},
   "outputs": [],
   "source": []
  },
  {
   "cell_type": "markdown",
   "metadata": {},
   "source": [
    "Remember this is a global setting, so will affect other plots in the notebook. Let's change the fonts back to defaults."
   ]
  },
  {
   "cell_type": "code",
   "execution_count": 4,
   "metadata": {},
   "outputs": [],
   "source": [
    "plt.rcParams.update({'font.size': 12, 'font.family': 'DejaVu Sans'})"
   ]
  },
  {
   "cell_type": "markdown",
   "metadata": {},
   "source": [
    "### Exercise\n",
    "\n",
    "Make some improvements to the chart you started above, using what you've learned since the last exercise. It may be easier to copy the code you wrote for that exercise and paste here to improve on it.\n",
    "\n",
    "* Set the chart size to be twice as wide as it is tall\n",
    "* Hide the x axis label\n",
    "* Set the title to something descriptive\n",
    "\n",
    "Optional:\n",
    "\n",
    "* Set the y ticks to be in millions"
   ]
  },
  {
   "cell_type": "code",
   "execution_count": null,
   "metadata": {},
   "outputs": [],
   "source": []
  }
 ],
 "metadata": {
  "kernelspec": {
   "display_name": "Python 3 (ipykernel)",
   "language": "python",
   "name": "python3"
  },
  "language_info": {
   "codemirror_mode": {
    "name": "ipython",
    "version": 3
   },
   "file_extension": ".py",
   "mimetype": "text/x-python",
   "name": "python",
   "nbconvert_exporter": "python",
   "pygments_lexer": "ipython3",
   "version": "3.9.7"
  }
 },
 "nbformat": 4,
 "nbformat_minor": 4
}
