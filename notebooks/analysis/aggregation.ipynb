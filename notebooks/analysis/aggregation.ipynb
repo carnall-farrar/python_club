{
 "cells": [
  {
   "cell_type": "markdown",
   "metadata": {},
   "source": [
    "# Aggregating Data with Group by\n",
    "\n",
    "Summary of topics\n",
    "\n",
    "What you'll be able to do by the end."
   ]
  },
  {
   "cell_type": "markdown",
   "metadata": {},
   "source": [
    "## Theory \n",
    "\n",
    "Intro to concepts\n",
    "\n",
    "## Sections\n",
    "\n",
    "* [Group by a single column](#item1)\n",
    "* [Group by multiple columns](#item2)\n",
    "* [Group by units of time](#item3)"
   ]
  },
  {
   "cell_type": "code",
   "execution_count": 43,
   "metadata": {},
   "outputs": [],
   "source": [
    "# Importing Python packages we are likely to need\n",
    "import pandas as pd  # data tables\n",
    "import matplotlib.pyplot as plt"
   ]
  },
  {
   "cell_type": "markdown",
   "source": [
    "### Load the data"
   ],
   "metadata": {
    "collapsed": false
   }
  },
  {
   "cell_type": "code",
   "execution_count": null,
   "outputs": [],
   "source": [
    "df = pd.read_csv(\"~/cf/coding_club/python_club/outputs/data/referrals_oct19_dec20.csv\")\n",
    "df['week_start'] = pd.to_datetime(df['week_start'])\n",
    "df"
   ],
   "metadata": {
    "collapsed": false,
    "pycharm": {
     "name": "#%%\n"
    }
   }
  },
  {
   "cell_type": "markdown",
   "source": [
    "<a name=\"item1\">\n",
    "<h2>Group by a single column</h2>\n",
    "</a>\n",
    "\n",
    "For this first section, we'll take a subset of the data which will be easier to work with. Select rows where `Specialty` column has value `2WW`.\n",
    "* Use `==` to make a selection mask\n",
    "* Use `df.loc` to select rows where the mask values are `True`\n",
    "\n",
    "```python\n",
    "smaller_df = df.loc[df['column'] == 'value', :]\n",
    "```"
   ],
   "metadata": {
    "collapsed": false,
    "pycharm": {
     "name": "#%% md\n"
    }
   }
  },
  {
   "cell_type": "code",
   "execution_count": 69,
   "outputs": [
    {
     "data": {
      "text/plain": "       week_start ccg_code specialty     priority  referrals\n2      2019-10-07      00L       2WW  2 Week Wait        349\n61     2019-10-07      00N       2WW  2 Week Wait        180\n113    2019-10-07      00P       2WW  2 Week Wait        284\n169    2019-10-07      00Q       2WW  2 Week Wait        122\n226    2019-10-07      00R       2WW  2 Week Wait        170\n...           ...      ...       ...          ...        ...\n592413 2020-12-21      99C       2WW  2 Week Wait        151\n592463 2020-12-21      99E       2WW  2 Week Wait        208\n592520 2020-12-21      99F       2WW  2 Week Wait        127\n592574 2020-12-21      99G       2WW  2 Week Wait        113\n592633 2020-12-21      99M       2WW  2 Week Wait        155\n\n[11879 rows x 5 columns]",
      "text/html": "<div>\n<style scoped>\n    .dataframe tbody tr th:only-of-type {\n        vertical-align: middle;\n    }\n\n    .dataframe tbody tr th {\n        vertical-align: top;\n    }\n\n    .dataframe thead th {\n        text-align: right;\n    }\n</style>\n<table border=\"1\" class=\"dataframe\">\n  <thead>\n    <tr style=\"text-align: right;\">\n      <th></th>\n      <th>week_start</th>\n      <th>ccg_code</th>\n      <th>specialty</th>\n      <th>priority</th>\n      <th>referrals</th>\n    </tr>\n  </thead>\n  <tbody>\n    <tr>\n      <th>2</th>\n      <td>2019-10-07</td>\n      <td>00L</td>\n      <td>2WW</td>\n      <td>2 Week Wait</td>\n      <td>349</td>\n    </tr>\n    <tr>\n      <th>61</th>\n      <td>2019-10-07</td>\n      <td>00N</td>\n      <td>2WW</td>\n      <td>2 Week Wait</td>\n      <td>180</td>\n    </tr>\n    <tr>\n      <th>113</th>\n      <td>2019-10-07</td>\n      <td>00P</td>\n      <td>2WW</td>\n      <td>2 Week Wait</td>\n      <td>284</td>\n    </tr>\n    <tr>\n      <th>169</th>\n      <td>2019-10-07</td>\n      <td>00Q</td>\n      <td>2WW</td>\n      <td>2 Week Wait</td>\n      <td>122</td>\n    </tr>\n    <tr>\n      <th>226</th>\n      <td>2019-10-07</td>\n      <td>00R</td>\n      <td>2WW</td>\n      <td>2 Week Wait</td>\n      <td>170</td>\n    </tr>\n    <tr>\n      <th>...</th>\n      <td>...</td>\n      <td>...</td>\n      <td>...</td>\n      <td>...</td>\n      <td>...</td>\n    </tr>\n    <tr>\n      <th>592413</th>\n      <td>2020-12-21</td>\n      <td>99C</td>\n      <td>2WW</td>\n      <td>2 Week Wait</td>\n      <td>151</td>\n    </tr>\n    <tr>\n      <th>592463</th>\n      <td>2020-12-21</td>\n      <td>99E</td>\n      <td>2WW</td>\n      <td>2 Week Wait</td>\n      <td>208</td>\n    </tr>\n    <tr>\n      <th>592520</th>\n      <td>2020-12-21</td>\n      <td>99F</td>\n      <td>2WW</td>\n      <td>2 Week Wait</td>\n      <td>127</td>\n    </tr>\n    <tr>\n      <th>592574</th>\n      <td>2020-12-21</td>\n      <td>99G</td>\n      <td>2WW</td>\n      <td>2 Week Wait</td>\n      <td>113</td>\n    </tr>\n    <tr>\n      <th>592633</th>\n      <td>2020-12-21</td>\n      <td>99M</td>\n      <td>2WW</td>\n      <td>2 Week Wait</td>\n      <td>155</td>\n    </tr>\n  </tbody>\n</table>\n<p>11879 rows × 5 columns</p>\n</div>"
     },
     "execution_count": 69,
     "metadata": {},
     "output_type": "execute_result"
    }
   ],
   "source": [
    "df_2ww = df.loc[df['specialty'] == '2WW', :]\n",
    "df_2ww"
   ],
   "metadata": {
    "collapsed": false,
    "pycharm": {
     "name": "#%%\n"
    }
   }
  },
  {
   "cell_type": "markdown",
   "source": [
    "### Sum 2WW referrals, for each CCG\n",
    "* Use `df.groupby('ccg_code')`\n",
    "* Select the `referrals` column\n",
    "* Use the `sum` method\n",
    "\n",
    "```python\n",
    "gb = df.groupby('aggregation_column')\n",
    "summed_values = gb['value_column'].sum()\n",
    "```\n",
    "\n",
    "The result of the aggregation operation (i.e. the sum) is a pandas `Series` object. The index comprises the CCG codes and the values are the summed referrals."
   ],
   "metadata": {
    "collapsed": false,
    "pycharm": {
     "name": "#%% md\n"
    }
   }
  },
  {
   "cell_type": "code",
   "execution_count": 46,
   "outputs": [
    {
     "data": {
      "text/plain": "ccg_code\n00L    18486\n00N     7922\n00P    14929\n00Q     6695\n00R     8156\n       ...  \n99C    11883\n99E    15970\n99F     9710\n99G     9545\n99M     9173\nName: referrals, Length: 135, dtype: int64"
     },
     "execution_count": 46,
     "metadata": {},
     "output_type": "execute_result"
    }
   ],
   "source": [
    "gb_ccg = df_2ww.groupby('ccg_code')\n",
    "ref_per_ccg = gb_ccg['referrals'].sum()\n",
    "ref_per_ccg"
   ],
   "metadata": {
    "collapsed": false,
    "pycharm": {
     "name": "#%%\n"
    }
   }
  },
  {
   "cell_type": "markdown",
   "source": [
    "### Visualise referrals in each CCG with a bar chart\n",
    "```python\n",
    "fig, ax = plt.subplots()\n",
    "ax.bar(df.index, df.values)\n",
    "```"
   ],
   "metadata": {
    "collapsed": false,
    "pycharm": {
     "name": "#%% md\n"
    }
   }
  },
  {
   "cell_type": "code",
   "execution_count": 47,
   "outputs": [
    {
     "data": {
      "text/plain": "<BarContainer object of 135 artists>"
     },
     "execution_count": 47,
     "metadata": {},
     "output_type": "execute_result"
    },
    {
     "data": {
      "text/plain": "<Figure size 432x288 with 1 Axes>",
      "image/png": "[encoded data removed]"
     },
     "metadata": {
      "needs_background": "light"
     },
     "output_type": "display_data"
    }
   ],
   "source": [
    "fig, ax = plt.subplots()\n",
    "ax.bar(ref_per_ccg.index, ref_per_ccg.values)"
   ],
   "metadata": {
    "collapsed": false,
    "pycharm": {
     "name": "#%%\n"
    }
   }
  },
  {
   "cell_type": "markdown",
   "source": [
    "### Take the average weekly referrals, for each CCG\n",
    "Use the same `groupby` result you made previously, but this time use `mean` instead of `sum`.\n",
    "\n",
    "```python\n",
    "avg_values = gb['value_column'].mean()\n",
    "```"
   ],
   "metadata": {
    "collapsed": false,
    "pycharm": {
     "name": "#%% md\n"
    }
   }
  },
  {
   "cell_type": "code",
   "execution_count": 54,
   "outputs": [
    {
     "data": {
      "text/plain": "ccg_code\n00L    280.090909\n00N    113.171429\n00P    229.676923\n00Q    101.439394\n00R    127.437500\n          ...    \n99C    177.358209\n99E    241.969697\n99F    149.384615\n99G    144.621212\n99M    131.042857\nName: referrals, Length: 135, dtype: float64"
     },
     "execution_count": 54,
     "metadata": {},
     "output_type": "execute_result"
    }
   ],
   "source": [
    "mean_weekly_refs_per_ccg = gb_ccg['referrals'].mean()\n",
    "mean_weekly_refs_per_ccg"
   ],
   "metadata": {
    "collapsed": false,
    "pycharm": {
     "name": "#%%\n"
    }
   }
  },
  {
   "cell_type": "markdown",
   "source": [
    "### Other useful aggregate functions\n",
    "* `count`\n",
    "* `median`\n",
    "* `std` (standard deviation)\n",
    "* `sem` (standard error of the mean)\n",
    "* `min` and `max`\n",
    "\n",
    "You could also define your own aggregate functions. This flexibility is can be extremely powerful.\n"
   ],
   "metadata": {
    "collapsed": false,
    "pycharm": {
     "name": "#%% md\n"
    }
   }
  },
  {
   "cell_type": "markdown",
   "metadata": {},
   "source": [
    "<a name=\"item2\"><h2>Group by multiple columns</h2></a>\n",
    "\n",
    "It's possible to group by multiple columns at once. This means you apply the aggregation function to each subset of values in the columns you group by. For example, if you group by `CCG` and `priority` then use the `sum` function, you will get the total number of referrals per CCG *and* per priority level.\n",
    "\n",
    "    gb_multi_cols = df.groupby(['column_1', 'column_2'])\n",
    "\n",
    "The result is still a pandas `Series` object, but this time the index has two 'levels', for `ccg_code` and `priority`.\n",
    "\n",
    "Let's group by both `specialty` and `priority`, then take the sum."
   ]
  },
  {
   "cell_type": "code",
   "execution_count": 64,
   "metadata": {},
   "outputs": [
    {
     "data": {
      "text/plain": "                                referrals\nspecialty          priority              \n(blank)            2 Week Wait        438\n                   Routine          81278\n                   Urgent           13202\n2WW                2 Week Wait    2924070\n                   Routine           2281\n...                                   ...\nSurgery - Vascular Routine         126613\n                   Urgent           36828\nUrology            2 Week Wait        158\n                   Routine         417394\n                   Urgent           86950\n\n[146 rows x 1 columns]",
      "text/html": "<div>\n<style scoped>\n    .dataframe tbody tr th:only-of-type {\n        vertical-align: middle;\n    }\n\n    .dataframe tbody tr th {\n        vertical-align: top;\n    }\n\n    .dataframe thead th {\n        text-align: right;\n    }\n</style>\n<table border=\"1\" class=\"dataframe\">\n  <thead>\n    <tr style=\"text-align: right;\">\n      <th></th>\n      <th></th>\n      <th>referrals</th>\n    </tr>\n    <tr>\n      <th>specialty</th>\n      <th>priority</th>\n      <th></th>\n    </tr>\n  </thead>\n  <tbody>\n    <tr>\n      <th rowspan=\"3\" valign=\"top\">(blank)</th>\n      <th>2 Week Wait</th>\n      <td>438</td>\n    </tr>\n    <tr>\n      <th>Routine</th>\n      <td>81278</td>\n    </tr>\n    <tr>\n      <th>Urgent</th>\n      <td>13202</td>\n    </tr>\n    <tr>\n      <th rowspan=\"2\" valign=\"top\">2WW</th>\n      <th>2 Week Wait</th>\n      <td>2924070</td>\n    </tr>\n    <tr>\n      <th>Routine</th>\n      <td>2281</td>\n    </tr>\n    <tr>\n      <th>...</th>\n      <th>...</th>\n      <td>...</td>\n    </tr>\n    <tr>\n      <th rowspan=\"2\" valign=\"top\">Surgery - Vascular</th>\n      <th>Routine</th>\n      <td>126613</td>\n    </tr>\n    <tr>\n      <th>Urgent</th>\n      <td>36828</td>\n    </tr>\n    <tr>\n      <th rowspan=\"3\" valign=\"top\">Urology</th>\n      <th>2 Week Wait</th>\n      <td>158</td>\n    </tr>\n    <tr>\n      <th>Routine</th>\n      <td>417394</td>\n    </tr>\n    <tr>\n      <th>Urgent</th>\n      <td>86950</td>\n    </tr>\n  </tbody>\n</table>\n<p>146 rows × 1 columns</p>\n</div>"
     },
     "execution_count": 64,
     "metadata": {},
     "output_type": "execute_result"
    }
   ],
   "source": [
    "# gb_ccg_priority = df.groupby(['specialty', 'priority'])\n",
    "# ref_per_priority_per_ccg = gb_ccg_priority.sum()\n",
    "# ref_per_priority_per_ccg\n"
   ]
  },
  {
   "cell_type": "markdown",
   "source": [
    "<a name=\"item3\"><h2>Group by units of time</h1></a>\n",
    "\n",
    "You can group by `datetime` values, just like anything else. But sometimes the units of time might be too granular to be useful, e.g. your `datetime` values may be expressed at the level of minutes or seconds, but if your data span a year then you probably don't want to show each individual data point.\n",
    "\n",
    "Pandas has a special date `Grouper` object, which you provide to `df.groupby`. Its `key` argument lets you specify the column you want to group by and the `freq` argument specifies the desired frequency, where\n",
    "* `D` means daily\n",
    "* `W` means weekly\n",
    "* `M` means monthly\n",
    "\n",
    "The full list of frequency options can be found <a href=\"https://pandas.pydata.org/pandas-docs/stable/user_guide/timeseries.html#offset-aliases\">here</a>.\n",
    "\n",
    "    gb_daily = df.groupby(pd.Grouper(key='column_name', freq='D'))\n",
    "\n",
    "Find the total number of referrals by month and then plot the resulting time series. What happened in March 2020?"
   ],
   "metadata": {
    "collapsed": false,
    "pycharm": {
     "name": "#%% md\n"
    }
   }
  },
  {
   "cell_type": "code",
   "source": [
    "gb_monthly = df.groupby(pd.Grouper(key='week_start', freq='M'))\n",
    "ref_monthly = gb_monthly['referrals'].sum()\n",
    "ref_monthly"
   ],
   "metadata": {
    "collapsed": false,
    "pycharm": {
     "name": "#%%\n"
    }
   },
   "execution_count": 66,
   "outputs": [
    {
     "data": {
      "text/plain": "week_start\n2019-10-31    1435744\n2019-11-30    1407937\n2019-12-31    1383517\n2020-01-31    1448056\n2020-02-29    1442748\n2020-03-31    1152563\n2020-04-30     267082\n2020-05-31     478250\n2020-06-30     959430\n2020-07-31     963644\n2020-08-31    1245864\n2020-09-30    1128657\n2020-10-31    1149103\n2020-11-30    1399462\n2020-12-31     756241\nFreq: M, Name: referrals, dtype: int64"
     },
     "execution_count": 66,
     "metadata": {},
     "output_type": "execute_result"
    }
   ]
  },
  {
   "cell_type": "code",
   "execution_count": 68,
   "outputs": [
    {
     "data": {
      "text/plain": "<matplotlib.axes._subplots.AxesSubplot at 0x124ac6a00>"
     },
     "execution_count": 68,
     "metadata": {},
     "output_type": "execute_result"
    },
    {
     "data": {
      "text/plain": "<Figure size 432x288 with 1 Axes>",
      "image/png": "[encoded data removed]"
     },
     "metadata": {
      "needs_background": "light"
     },
     "output_type": "display_data"
    }
   ],
   "source": [
    "ref_monthly.plot()"
   ],
   "metadata": {
    "collapsed": false,
    "pycharm": {
     "name": "#%%\n"
    }
   }
  },
  {
   "cell_type": "code",
   "execution_count": null,
   "outputs": [],
   "source": [
    "# TODO could save dataset/plots if wanted"
   ],
   "metadata": {
    "collapsed": false,
    "pycharm": {
     "name": "#%%\n"
    }
   }
  }
 ],
 "metadata": {
  "kernelspec": {
   "display_name": "Python 3",
   "language": "python",
   "name": "python3"
  },
  "language_info": {
   "codemirror_mode": {
    "name": "ipython",
    "version": 3
   },
   "file_extension": ".py",
   "mimetype": "text/x-python",
   "name": "python",
   "nbconvert_exporter": "python",
   "pygments_lexer": "ipython3",
   "version": "3.8.5"
  }
 },
 "nbformat": 4,
 "nbformat_minor": 4
}