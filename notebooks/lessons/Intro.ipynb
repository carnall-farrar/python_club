{
 "cells": [
  {
   "cell_type": "markdown",
   "metadata": {
    "slideshow": {
     "slide_type": "slide"
    }
   },
   "source": [
    "# Using the Command Line\n",
    "\n",
    "### LEARNING OBJECTIVES\n",
    "*After this lesson, you will be able to:*\n",
    "- Create folders and files using the command line (**mkdir**, **touch**)\n",
    "- Change directories and list directory contents (**cd**, **ls**)\n",
    "- Check current working directly (**pwd**)\n",
    "- Remove files and directories (**rm**)\n"
   ]
  },
  {
   "cell_type": "markdown",
   "metadata": {
    "slideshow": {
     "slide_type": "slide"
    }
   },
   "source": [
    "<a name=\"introduction\"></a>\n",
    "##  What is a GUI (pronounced gooey)? (5 mins)\n",
    "There was a point when computers didn't come with a Graphical User Interface (GUI). Instead, everyone interacted with the computer using text commands in what we call a Command Line Interface (CLI).\n",
    "\n",
    "Today, the command line still exists, even though you may have never seen it as a casual computer user. Knowing how to use the CLI becomes essential as you program more.\n",
    "\n"
   ]
  },
  {
   "cell_type": "markdown",
   "metadata": {
    "slideshow": {
     "slide_type": "slide"
    }
   },
   "source": [
    "#### What is a shell?\n",
    "\n",
    "A shell is simply a type of command line program. It contains a very simple, text-based user interface enabling you to access all of an operating system's services. It is essentially a text interpreter that translates your typed commands into functions that the operating system runs.\n",
    "\n",
    "*Taken from Just for fun: [Type like a hacker](http://hackertyper.com/)*"
   ]
  },
  {
   "cell_type": "markdown",
   "metadata": {
    "slideshow": {
     "slide_type": "slide"
    }
   },
   "source": [
    "## Forget Finder, get fast at using your laptop\n",
    "\n",
    "##### Opening and closing the terminal\n",
    "\n",
    "Spotlight in OSX is the easiest and fastest way to open the terminal:\n",
    "\n",
    "- ⌘ (Command) + Space\n",
    "- \"Terminal\"\n",
    "- Enter\n",
    "\n",
    "Notice the autocompletes. Get used to taking shortcuts – don't type the whole word out if you don't have to and avoid using your mouse if you can open or use an app with just keyboard shortcuts. It may seem harder now, but when you get used to it, it will save you literally hours of cumulative time.\n"
   ]
  },
  {
   "cell_type": "markdown",
   "metadata": {
    "slideshow": {
     "slide_type": "slide"
    }
   },
   "source": [
    "\n",
    "##### Getting comfortable in the CLI\n",
    "\n",
    "1. For many programs, you can open multiple tabs by pressing **⌘-T**.\n",
    "  - Try it in your terminal!\n",
    "  \n",
    "2. You can close the current tab or window with **⌘-W**. This goes for most applications on a Mac.\n",
    "  - Try _that_ in your terminal!\n",
    "\n",
    "3. If you have a process running, you can quit it by pressing **Ctrl-C**. Let's try that now.\n",
    "\n",
    "  - At the command line, type `ping 127.0.0.1`. This basically sends a message to your own computer asking if it's awake.\n",
    "  - Notice that it will keep pinging, even if you type something.\n",
    "  - To stop the currently-running script, press **Ctrl-C**.\n",
    "\n",
    "4. To quit the command line altogether, you can press **⌘-Q**.\n",
    "\n",
    "**Check** Try pinging google.com in the terminal. How do you stop pinging google?\n",
    "\n"
   ]
  },
  {
   "cell_type": "markdown",
   "metadata": {
    "slideshow": {
     "slide_type": "slide"
    }
   },
   "source": [
    "\n",
    "## Paths\n",
    "\n",
    "Every file or folder in a file system can be read, written, and deleted by referencing its position inside the filesystem.\n",
    "\n",
    "When we talk about the position of a file or a folder in a file system, we refer to its \"path\". There are a couple of different kinds of paths we can use to refer to a file: the **absolute path** and the **relative path**.\n",
    "\n",
    "**Directory** is an important term that's used interchangeably with **folder**. Though they are not exactly the same thing, when we say \"navigate to your project directory\" think of this as \"navigate to your project folder\".  Here's a little more information:\n",
    "\n"
   ]
  },
  {
   "cell_type": "markdown",
   "metadata": {
    "slideshow": {
     "slide_type": "slide"
    }
   },
   "source": [
    "##### What is an absolute path?\n",
    "\n",
    "An absolute path is defined as the specific location of a file or folder from the root directory, typically shown as `/`. The root directory is the starting point from which all other folders are defined and is not normally the same as your **Home** directory, which is normally found at `/Users/[Your Username]`.\n"
   ]
  },
  {
   "cell_type": "markdown",
   "metadata": {
    "slideshow": {
     "slide_type": "slide"
    }
   },
   "source": [
    "\n",
    "\n",
    "##### Working with unix commands and file paths\n",
    "\n",
    "Typing `cd` - a command for \"change directory\" with no parameters takes us to our home directory.\n",
    "\n",
    "```bash\n",
    "cd\n",
    "```\n",
    "\n",
    "If we type in `pwd` - a command for \"print working directory\" from that folder, we can see where we are in relation to the root directory. The `pwd` command will always give you the absolute path of your current location.\n",
    "\n",
    "An example of absolute path:\n",
    "\n",
    "```bash\n",
    "open /Users/Lucy/desktop/a/b/c/file.txt\n",
    "```\n",
    "\n",
    "Notice, this path starts from `/` directory which is a root directory for every Linux/Unix machines.\n"
   ]
  },
  {
   "cell_type": "markdown",
   "metadata": {
    "slideshow": {
     "slide_type": "slide"
    }
   },
   "source": [
    "\n",
    "##### What is a relative path?\n",
    "\n",
    "A relative path is a reference to a file or folder **relative** to the current position, or the present working directory(pwd). If we are in the folder `/a/b/` and we want to open the file that has the absolute path `/a/b/c/file.txt`, we can just type:\n",
    "\n",
    "```bash\n",
    "open c/file.txt\n",
    "```\n",
    "\n",
    "or\n",
    "\n",
    "```bash\n",
    "open ./c/file.txt\n",
    "```\n",
    "\n",
    "At any time, we can also use the absolute path, by adding a slash to the beginning of the path. The absolute path is the same for a file or a folder regardless of the current working directory, but relative paths are different, depending on what directory we are in.  Directory structures are laid out like `directory/subdirectory/subsubdirectory`.\n",
    "\n",
    "**Check:**  What is the difference between an absolute path and a relative path?\n"
   ]
  },
  {
   "cell_type": "markdown",
   "metadata": {
    "slideshow": {
     "slide_type": "slide"
    }
   },
   "source": [
    "\n",
    "\n",
    "#### Navigating using the command prompt\n",
    "\n",
    "The tilde `~` character is an alias to your home directory. Use it to quickly return home.\n",
    "\n",
    "```bash\n",
    "cd ~\\\n",
    "```\n",
    "\n",
    "Or even more simply, you can just type:\n",
    "\n",
    "```bash\n",
    "cd\n",
    "```\n",
    "\n",
    "The tilde `~` character is useful to shorten paths that would otherwise be\n",
    "absolute paths. For example, to navigate to your Desktop you can type:\n",
    "\n",
    "```bash\n",
    "cd ~/Desktop\n",
    "```\n",
    "\n",
    "The `ls` command lists files and directories in the current folder.\n",
    "```bash\n",
    "ls\n",
    "```\n",
    "\n",
    "It can also be used to list files located in any directory. For example to list\n",
    "your applications you can type:\n",
    "```bash\n",
    "ls /Applications\n",
    "```\n",
    "\n",
    "To make a new directory.\n",
    "```bash\n",
    "mkdir folder\n",
    "```\n",
    "\n",
    "To create a new file.\n",
    "```bash\n",
    "touch file1\n",
    "```\n",
    "\n",
    "To remove a file.\n",
    "```bash\n",
    "rm file1\n",
    "```\n",
    "\n",
    "To remove a directory/folder, we need to add a **flag** to the rm command.\n",
    "```bash\n",
    "rm -r folder/\n",
    "```\n",
    "\n",
    "What is the **-r** flag? It stands for \"recursive\". It's not important to get into the technicalities of this right now, but essentially it is telling the remove command to get rid of the folder and anything within the folder at any \"depth\". Even if a folder is empty, the OS requires the recursive flag for deleting it.\n",
    "\n",
    "##### Using wildcards in the command prompt\n",
    "\n",
    "The wildcard symbol `*` is useful for using commands to operate on multiple\n",
    "files. To give an example first create a folder on your Desktop and add some\n",
    "files.\n",
    "```bash\n",
    "mkdir ~/Desktop/example_folder\n",
    "cd ~/Desktop/example_folder\n",
    "touch cat.txt\n",
    "touch dog.txt\n",
    "touch bird.txt\n",
    "touch fish.txt\n",
    "```\n",
    "\n",
    "You can use the wildcard `*` to then operate on subsets of files. List any\n",
    "file with \"i\" in the filename, for example:\n",
    "```bash\n",
    "ls *i*\n",
    "```\n",
    "\n",
    "Or remove any file with \"d\":\n",
    "```bash\n",
    "rm *d*\n",
    "ls\n",
    "```\n",
    "\n",
    "**Check:**  What's a quick way to get back to your home directory?\n"
   ]
  },
  {
   "cell_type": "markdown",
   "metadata": {
    "slideshow": {
     "slide_type": "slide"
    }
   },
   "source": [
    "\n",
    "## Grep\n",
    "Grep is a command-line utility for searching plain-text data sets for lines matching a regular expression.\n",
    "\n",
    "grep searches files specified as arguments, or, if missing, the program's standard input. By default, it reports matching lines on standard output, but specific modes of operation may be chosen with command line options.\n",
    "\n",
    "For example:\n",
    "\n",
    "```bash\n",
    "$ grep \"student\" studentlist.txt\n",
    "```\n",
    "\n",
    "You can also specify multiple files at the same time using a wildcard *\n",
    "\n",
    "```bash\n",
    "$ grep \"student\" *.txt\n",
    "```\n",
    "\n",
    "Or,\n",
    "\n",
    "```bash\n",
    "$ grep \"student\" studentlist.*\n",
    "```\n",
    "\n",
    "Regular expressions can also be used to specify patterns to look out for.\n",
    "\n",
    "```bash\n",
    "$ grep \"^st.udent\" studentlist.txt\n",
    "```\n",
    "For more regular expression syntax, you can look into this [cheat sheet](http://www.rexegg.com/regex-quickstart.html)\n",
    "\n"
   ]
  },
  {
   "cell_type": "markdown",
   "metadata": {
    "slideshow": {
     "slide_type": "slide"
    }
   },
   "source": [
    "## The man command\n",
    "\n",
    "The man pages are a user manual that is by default built into most Linux distributions (i.e., versions) and most other Unix-like operating systems during installation."
   ]
  },
  {
   "cell_type": "markdown",
   "metadata": {
    "slideshow": {
     "slide_type": "slide"
    }
   },
   "source": [
    "\n",
    "<a name=\"conclusion\"></a>\n",
    "## Conclusion\n",
    "Today we learned about the CLI commands mkdir, touch, cd, pwd, and ls. We also about absolute and relative paths.\n",
    "Take a breather and then keep practicing. The more you practice the more comfortable you'll get!"
   ]
  },
  {
   "cell_type": "markdown",
   "metadata": {
    "slideshow": {
     "slide_type": "slide"
    }
   },
   "source": [
    "\n",
    "<a name=\"conclusion\"></a>\n",
    "## Extra: Python 3\n",
    "\n",
    "- To install an environment with Python3:\n",
    "```bash\n",
    "cd /folder/with/pipfile\n",
    "pipenv install\n",
    "pipenv shell\n",
    "pipenv install notebook ipykernel\n",
    "ipython kernel install --user\n",
    "```\n",
    "\n",
    "- To remove a conda environment:\n",
    "```bash\n",
    "pipenv rm <name_of_environment>\n",
    "```"
   ]
  },
  {
   "cell_type": "markdown",
   "metadata": {},
   "source": [
    "```bash\n",
    "python --version\n",
    "pip --version\n",
    "pip install --user pipenv\n",
    "```"
   ]
  },
  {
   "cell_type": "markdown",
   "metadata": {
    "slideshow": {
     "slide_type": "slide"
    }
   },
   "source": [
    "## Exercise: The Command Line Murders\n",
    "\n",
    "Follow the instructions from the following repo: https://github.com/veltman/clmystery"
   ]
  },
  {
   "cell_type": "markdown",
   "metadata": {
    "slideshow": {
     "slide_type": "slide"
    }
   },
   "source": [
    "## GIT Aims\n",
    "- Explain the basic function and purpose of version control\n",
    "- Become familiar with the basic/fundamental git commands and what each is used for:\n",
    "    - fork\n",
    "    - clone\n",
    "    - add, commit\n",
    "    - push, pull\n",
    "    - pull request (less fundamental, but used frequently throughout the\n",
    "    program)"
   ]
  },
  {
   "cell_type": "markdown",
   "metadata": {
    "slideshow": {
     "slide_type": "slide"
    }
   },
   "source": [
    "## Version Control:\n",
    "- Using some sort of version control system is nearly universal in the tech and data science world, and Git is one of the most common.\n",
    "\n",
    "## Git/Github:\n",
    "- Allows you to take advantage of version control and everything that it offers.\n",
    "- Github (built on Git) will allow you to share your personal projects as well as collaborate on projects with others."
   ]
  },
  {
   "cell_type": "markdown",
   "metadata": {
    "slideshow": {
     "slide_type": "slide"
    }
   },
   "source": [
    "- A version control system is a repository of files with monitored access\n",
    "    - Files are primarily source code, but can be of other types\n",
    "\n",
    "\n",
    "- Version control is useful primarily because every change to a repository is tracked, along with who made it, why they made it, and references to any problems fixed or enhancements made by the change.\n",
    "    - Provides the ability to track changes over time, and the ability to reverse any of them if necessary\n",
    "    - Allows for easy collaboration across teams"
   ]
  },
  {
   "cell_type": "markdown",
   "metadata": {
    "slideshow": {
     "slide_type": "slide"
    }
   },
   "source": [
    "## Why use Git?\n",
    "  - Distributed (allows more freedom to work locally)\n",
    "  - Free, open source\n",
    "  - Collection of hosting services for Git repositories (Bit Bucket,\n",
    "    Github)\n",
    "  - Arguably the most popular"
   ]
  },
  {
   "cell_type": "markdown",
   "metadata": {
    "slideshow": {
     "slide_type": "slide"
    }
   },
   "source": [
    "## What’s the difference between Git v. Github?\n",
    "  - Git is a version control system, while Github is a web-based hosting service for Git repositories (e.g. Github is “in the cloud”, whereas Git works locally).\n",
    "  - Git exists independently of Github, while the converse is not true."
   ]
  },
  {
   "cell_type": "markdown",
   "metadata": {
    "slideshow": {
     "slide_type": "slide"
    }
   },
   "source": [
    "## Major Git commands include:\n",
    "  - clone: Makes a copy (clone) of a repository into a newly created directory, with a reference still pointing to the original repository.\n",
    "  - add: Add one or more files to the index (e.g. tell Git to keep track of these files)\n",
    "  - commit: Commit your changes, creating a “checkpoint” that can then be referenced or reverted back to later\n",
    "  - status: Displays paths that have differences between the index file and the current HEAD commit (last commit)\n",
    "  - push: Updates a remote copy of the repository with local changes\n",
    "  - pull: Updates a local copy of the repository with remote changes\n",
    " "
   ]
  },
  {
   "cell_type": "markdown",
   "metadata": {
    "slideshow": {
     "slide_type": "slide"
    }
   },
   "source": [
    "- The command **add** tells your local repo to start tracking files.\n",
    "\n",
    "```bash\n",
    "git add week01/lesson-1.py # adding the lesson-1 in the folder  \n",
    "                           # week-1 to the index\n",
    "```\n",
    "\n",
    "- There are three important shortcuts:\n",
    "\n",
    "```bash\n",
    "git add . # adds all those paths to the staged changes if \n",
    "          # they are either changed or are new and not ignored\n",
    "\n",
    "\n",
    "git add -u # looks at all the already tracked files and stages \n",
    "           # the changes to those files\n",
    "\n",
    "git add -A # do both\n",
    "```"
   ]
  },
  {
   "cell_type": "markdown",
   "metadata": {
    "slideshow": {
     "slide_type": "slide"
    }
   },
   "source": [
    "## When using the shortcut \".\" or \"-A\" **TRIPLE** check that you are not adding any sensitive information to your repo"
   ]
  },
  {
   "cell_type": "markdown",
   "metadata": {
    "slideshow": {
     "slide_type": "slide"
    }
   },
   "source": [
    "- General best practice is to commit early and often. If you’d like to commit, but don’t have a large enough piece of work to commit, then you can commit what you have and amend to the commit later.\n",
    "\n",
    "```bash\n",
    "git commit -m \"Add half of my function\" # Half commit\n",
    "\n",
    "\n",
    "git commit --amend # Add the rest of the commit and\n",
    "                   # alter the commit message.\n",
    "```\n",
    "\n",
    "- A very useful shortcut:\n",
    "\n",
    "```bash\n",
    "git commit -am \"I am adding and committing at the same time\"\n",
    "```"
   ]
  },
  {
   "cell_type": "markdown",
   "metadata": {
    "slideshow": {
     "slide_type": "slide"
    }
   },
   "source": [
    "## Major Github (issued from the browser) commands include:\n",
    "  - fork: Makes a copy of a repository onto your personal Github account (it’s like the Github version of cloning), but without a reference still pointing to the original repository.\n",
    "  - pull request: Issued to try to update a repository with changes from another copy of the repository (a fork or branch)"
   ]
  },
  {
   "cell_type": "markdown",
   "metadata": {
    "slideshow": {
     "slide_type": "slide"
    }
   },
   "source": [
    "## Pull request\n",
    "\n",
    "- After adding, committing, and pushing, if you’re collaborating on a project, you’ll usually open a pull request (PR)\n",
    "- At that point, whoever you’re working with will look over the code you’ve issued a PR on, and make any comments/suggestions they have, or ask any questions\n",
    "    - If hosted through Github (or some system like it), these typically take place through the browser. In it you can have a discussion about pieces of the code and even view the changes made (see the pictures in the following slides)\n",
    "- Once you’re ready to merge, the other person (or you) will merge via the browser (“accept” the PR, and then close it)"
   ]
  }
 ],
 "metadata": {
  "kernelspec": {
   "display_name": "Python 3",
   "language": "python",
   "name": "python3"
  },
  "language_info": {
   "codemirror_mode": {
    "name": "ipython",
    "version": 3
   },
   "file_extension": ".py",
   "mimetype": "text/x-python",
   "name": "python",
   "nbconvert_exporter": "python",
   "pygments_lexer": "ipython3",
   "version": "3.7.4"
  }
 },
 "nbformat": 4,
 "nbformat_minor": 4
}
