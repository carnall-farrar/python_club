{
 "cells": [
  {
   "cell_type": "markdown",
   "id": "0ba6abb2-2508-481e-9d73-c485b6f7e443",
   "metadata": {},
   "source": [
    "<img src=\"https://www.mca.org.uk/wp-content/uploads/sites/60/2020/01/Carnall-Farrar-Inspiring-change.png\" style=\"float: left; margin: 20px; height: 55px\">\n",
    "\n",
    "## Introduction to Pandas\n",
    "\n",
    "---\n"
   ]
  },
  {
   "cell_type": "markdown",
   "id": "e067b602-d1c1-4150-a61c-47bc9bf563fe",
   "metadata": {},
   "source": [
    "### Learning Objectives\n",
    "\n",
    "**After this lesson, you will be able to:**\n",
    "- Define what Pandas is and how it relates to data analysis / data science\n",
    "- Manipulate Pandas DataFrames and Series.\n",
    "- Filter and sort data using Pandas.\n",
    "- Manipulate DataFrame columns.\n",
    "- Know how to handle null and missing values."
   ]
  },
  {
   "cell_type": "markdown",
   "id": "79e6a987-5d6b-4485-8b57-db61afcdafaf",
   "metadata": {},
   "source": [
    "The first thing to do is import Pandas into your notebook"
   ]
  },
  {
   "cell_type": "code",
   "execution_count": 2,
   "id": "bd505d7a-b470-4ab2-9c6f-a839b182a01c",
   "metadata": {},
   "outputs": [],
   "source": [
    "import pandas as pd"
   ]
  },
  {
   "cell_type": "markdown",
   "id": "e2790f5b-0aaf-4ca5-b384-5d8d651cc1ca",
   "metadata": {},
   "source": [
    "https://pandas.pydata.org/docs/reference/index.html"
   ]
  },
  {
   "cell_type": "markdown",
   "id": "75b14016-2871-4e75-bdde-643af196f9b7",
   "metadata": {},
   "source": [
    "## What is Pandas?"
   ]
  },
  {
   "cell_type": "markdown",
   "id": "56efdbdc-3797-4348-b306-ecc412007f4f",
   "metadata": {},
   "source": [
    "- `pandas` is a data analysis library for Python"
   ]
  },
  {
   "cell_type": "markdown",
   "id": "856a42b5-c5c5-4636-9ed8-154689663b5e",
   "metadata": {},
   "source": [
    "- developed by Wes McKinney"
   ]
  },
  {
   "cell_type": "markdown",
   "id": "9736f088-d2c8-4ff4-9078-29adb14d64c1",
   "metadata": {},
   "source": [
    "- stands for \"panel data\""
   ]
  },
  {
   "cell_type": "markdown",
   "id": "4661abb0-ebb9-4783-b55d-2adf159a7665",
   "metadata": {},
   "source": [
    "### How does pandas help data analysis?"
   ]
  },
  {
   "cell_type": "markdown",
   "id": "0dc7cd9f-8237-4d4b-ae8f-7e3d6699b56b",
   "metadata": {},
   "source": [
    "- fast"
   ]
  },
  {
   "cell_type": "markdown",
   "id": "2a3b0a6e-9ff4-4b4c-8b4f-1a62c67ccf4a",
   "metadata": {},
   "source": [
    "- lots of useful functionality"
   ]
  },
  {
   "cell_type": "markdown",
   "id": "5c8cf601-7989-4859-bbc6-004d84cee027",
   "metadata": {},
   "source": [
    "- large open source community"
   ]
  },
  {
   "cell_type": "markdown",
   "id": "9df22c39-249a-48fc-97c4-1d8fb01b5d4d",
   "metadata": {},
   "source": [
    "### How does it compare to \"raw\" Python?\n",
    "\n",
    "Pandas introduces two important new data types: `Series` and `DataFrame`"
   ]
  },
  {
   "cell_type": "markdown",
   "id": "0c1eb90e-2084-4527-8356-a9d2ecfc1ff3",
   "metadata": {},
   "source": [
    "`Series`\n",
    "\n",
    "A `Series` is a sequence of items, where each item has a unique label (called an `index`)"
   ]
  },
  {
   "cell_type": "markdown",
   "id": "c46a26df-3ce1-49e2-a9ff-cdcaadacc3f1",
   "metadata": {},
   "source": [
    "`DataFrame`\n",
    "\n",
    "A `DataFrame` is a table of data. Each row has a unique label (the `row index`), and each column has a unique label (the `column index`)."
   ]
  },
  {
   "cell_type": "markdown",
   "id": "c2ebe8a3-8fd6-43f3-8f13-0a7c27173cc0",
   "metadata": {},
   "source": [
    "Think of `DataFrame` as a table and `Series` as a column or a row."
   ]
  },
  {
   "cell_type": "markdown",
   "id": "7aef90d0-5a8d-4f6d-a9f9-b888bd9c4b0a",
   "metadata": {},
   "source": [
    "`pandas` encourages the use of **vectorised** operations\n",
    "\n",
    "This means instead of changing items one by one, you do them column by column"
   ]
  },
  {
   "cell_type": "markdown",
   "id": "3d7fcea9-927e-4046-8bda-8ac318310e62",
   "metadata": {},
   "source": [
    "Example:\n",
    "\n",
    "Imagine you have a list of 100 numbers:\n",
    "\n",
    "`a = list(range(100))`"
   ]
  },
  {
   "cell_type": "markdown",
   "id": "a4026adb-ff9b-41bd-85cc-c3d806cffc4e",
   "metadata": {},
   "source": [
    "How would you get the square of each number using just Python?"
   ]
  },
  {
   "cell_type": "code",
   "execution_count": 3,
   "id": "fbc57080-5165-445f-8993-b9b4cc8a866d",
   "metadata": {},
   "outputs": [
    {
     "name": "stdout",
     "output_type": "stream",
     "text": [
      "[0, 1, 4, 9, 16, 25, 36, 49, 64, 81, 100, 121, 144, 169, 196, 225, 256, 289, 324, 361, 400, 441, 484, 529, 576, 625, 676, 729, 784, 841, 900, 961, 1024, 1089, 1156, 1225, 1296, 1369, 1444, 1521, 1600, 1681, 1764, 1849, 1936, 2025, 2116, 2209, 2304, 2401, 2500, 2601, 2704, 2809, 2916, 3025, 3136, 3249, 3364, 3481, 3600, 3721, 3844, 3969, 4096, 4225, 4356, 4489, 4624, 4761, 4900, 5041, 5184, 5329, 5476, 5625, 5776, 5929, 6084, 6241, 6400, 6561, 6724, 6889, 7056, 7225, 7396, 7569, 7744, 7921, 8100, 8281, 8464, 8649, 8836, 9025, 9216, 9409, 9604, 9801]\n"
     ]
    }
   ],
   "source": [
    "a = list(range(100))\n",
    "\n",
    "new_list = []\n",
    "\n",
    "for num in a:\n",
    "    new_list.append(num**2)\n",
    "\n",
    "print(new_list)"
   ]
  },
  {
   "cell_type": "markdown",
   "id": "664c7c90-2288-4e1d-b544-199a5b86ab2d",
   "metadata": {},
   "source": [
    "For large datasets this can become inefficient. Pandas can let us do it in one go:"
   ]
  },
  {
   "cell_type": "code",
   "execution_count": 4,
   "id": "8eb0e9a2-da18-4ba5-927e-38014b790ee6",
   "metadata": {},
   "outputs": [
    {
     "name": "stdout",
     "output_type": "stream",
     "text": [
      "[   0    1    4    9   16   25   36   49   64   81  100  121  144  169\n",
      "  196  225  256  289  324  361  400  441  484  529  576  625  676  729\n",
      "  784  841  900  961 1024 1089 1156 1225 1296 1369 1444 1521 1600 1681\n",
      " 1764 1849 1936 2025 2116 2209 2304 2401 2500 2601 2704 2809 2916 3025\n",
      " 3136 3249 3364 3481 3600 3721 3844 3969 4096 4225 4356 4489 4624 4761\n",
      " 4900 5041 5184 5329 5476 5625 5776 5929 6084 6241 6400 6561 6724 6889\n",
      " 7056 7225 7396 7569 7744 7921 8100 8281 8464 8649 8836 9025 9216 9409\n",
      " 9604 9801]\n"
     ]
    }
   ],
   "source": [
    "numbers = pd.Series(range(100))\n",
    "\n",
    "squares = numbers ** 2\n",
    "\n",
    "print(squares.values)"
   ]
  },
  {
   "cell_type": "markdown",
   "id": "dfd1a548-47e2-448e-90e8-e0448b5fc812",
   "metadata": {},
   "source": [
    "Let's look at timings"
   ]
  },
  {
   "cell_type": "code",
   "execution_count": 5,
   "id": "eeea58ad-5768-400e-aa65-9e3118a9f523",
   "metadata": {},
   "outputs": [
    {
     "name": "stdout",
     "output_type": "stream",
     "text": [
      "3.93 ms ± 38.7 µs per loop (mean ± std. dev. of 7 runs, 100 loops each)\n"
     ]
    }
   ],
   "source": [
    "%%timeit\n",
    "\n",
    "a = list(range(10000))\n",
    "\n",
    "new_list = []\n",
    "\n",
    "for num in a:\n",
    "    new_list.append(num**2)"
   ]
  },
  {
   "cell_type": "code",
   "execution_count": 6,
   "id": "03f2e9ba-7a7c-4a8d-b176-6e44bfc81ab6",
   "metadata": {},
   "outputs": [
    {
     "name": "stdout",
     "output_type": "stream",
     "text": [
      "195 µs ± 5.47 µs per loop (mean ± std. dev. of 7 runs, 1000 loops each)\n"
     ]
    }
   ],
   "source": [
    "%%timeit\n",
    "\n",
    "numbers = pd.Series(range(10000))\n",
    "\n",
    "squares = numbers ** 2"
   ]
  },
  {
   "cell_type": "code",
   "execution_count": null,
   "id": "9a7c89fd-ae9a-43c8-a178-5718f16960aa",
   "metadata": {},
   "outputs": [],
   "source": []
  }
 ],
 "metadata": {
  "kernelspec": {
   "display_name": "Python 3",
   "language": "python",
   "name": "python3"
  },
  "language_info": {
   "codemirror_mode": {
    "name": "ipython",
    "version": 3
   },
   "file_extension": ".py",
   "mimetype": "text/x-python",
   "name": "python",
   "nbconvert_exporter": "python",
   "pygments_lexer": "ipython3",
   "version": "3.9.6"
  }
 },
 "nbformat": 4,
 "nbformat_minor": 5
}
